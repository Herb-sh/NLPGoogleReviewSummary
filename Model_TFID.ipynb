{
 "cells": [
  {
   "cell_type": "code",
   "execution_count": 1,
   "id": "71c90023",
   "metadata": {},
   "outputs": [
    {
     "name": "stderr",
     "output_type": "stream",
     "text": [
      "/opt/anaconda3/envs/nlp_course/lib/python3.7/site-packages/sklearn/utils/validation.py:37: DeprecationWarning: distutils Version classes are deprecated. Use packaging.version instead.\n",
      "  LARGE_SPARSE_SUPPORTED = LooseVersion(scipy_version) >= '0.14.0'\n"
     ]
    }
   ],
   "source": [
    "import pandas as pd\n",
    "import numpy as np\n",
    "import spacy\n",
    "\n",
    "# importing modules and packages\n",
    "import pandas as pd\n",
    "import numpy as np\n",
    "import matplotlib.pyplot as plt\n",
    "from sklearn.model_selection import train_test_split\n",
    "from sklearn.linear_model import LinearRegression\n",
    "from sklearn.metrics import mean_squared_error, mean_absolute_error\n",
    "from sklearn import preprocessing"
   ]
  },
  {
   "cell_type": "code",
   "execution_count": 2,
   "id": "9c8ef297",
   "metadata": {},
   "outputs": [],
   "source": [
    "data = pd.read_csv('/Users/bastian/Documents/HS Aalen/Trimester 6/Text Mining und Web Analytics/Prüfungsleistung/NLPGoogleReviewSummary/data/reviews-clean.csv', sep=';')"
   ]
  },
  {
   "cell_type": "markdown",
   "id": "bfd4a56b",
   "metadata": {},
   "source": [
    "### Modell 1 - Tfid Vectorizer"
   ]
  },
  {
   "cell_type": "code",
   "execution_count": 3,
   "id": "4670e117",
   "metadata": {},
   "outputs": [],
   "source": [
    "# Selbsterstellte Bewertungen mit label\n",
    "trainingsdata = pd.read_csv('/Users/bastian/Documents/HS Aalen/Trimester 6/Text Mining und Web Analytics/Prüfungsleistung/NLPGoogleReviewSummary/data/trainingdata_essen.csv', sep=';')"
   ]
  },
  {
   "cell_type": "code",
   "execution_count": 4,
   "id": "aabd25dd",
   "metadata": {},
   "outputs": [],
   "source": [
    "# Tuple vorbereiten\n",
    "subset_train = trainingsdata[['Bewertung', 'Label']]\n",
    "train_data = list(subset_train.itertuples(index=False, name=None))"
   ]
  },
  {
   "cell_type": "code",
   "execution_count": 5,
   "id": "7131bd91",
   "metadata": {},
   "outputs": [
    {
     "name": "stderr",
     "output_type": "stream",
     "text": [
      "/opt/anaconda3/envs/nlp_course/lib/python3.7/site-packages/sklearn/utils/validation.py:209: DeprecationWarning: distutils Version classes are deprecated. Use packaging.version instead.\n",
      "  if LooseVersion(joblib_version) < '0.12':\n"
     ]
    }
   ],
   "source": [
    "from sklearn.feature_extraction.text import TfidfVectorizer\n",
    "from sklearn.svm import LinearSVC\n",
    "from sklearn.pipeline import Pipeline\n",
    "\n",
    "# Trainingsdaten (Beispiele von Texten, die manuell in die verschiedenen Kategorien eingeteilt wurden)\n",
    "training_data = train_data\n",
    "\n",
    "# Pipeline, die aus einem TfidfVectorizer und einem LinearSVC-Modell besteht\n",
    "model = Pipeline([\n",
    "    ('tfidf', TfidfVectorizer()),\n",
    "    ('svc', LinearSVC())\n",
    "])\n",
    "\n",
    "# Trainiere das Modell auf den Trainingsdaten\n",
    "model.fit([text for text, category in training_data], [category for text, category in training_data])\n",
    "\n",
    "# Verwende das trainierte Modell, um eine neue Kategorie für einen gegebenen Text vorherzusagen\n",
    "def get_category(text):\n",
    "    predicted_category = model.predict([text])\n",
    "    return predicted_category[0] if predicted_category else None"
   ]
  },
  {
   "cell_type": "markdown",
   "id": "b5247443",
   "metadata": {},
   "source": [
    "### Beispiel"
   ]
  },
  {
   "cell_type": "code",
   "execution_count": 6,
   "id": "2c6352a2",
   "metadata": {},
   "outputs": [
    {
     "data": {
      "text/plain": [
       "'Gut'"
      ]
     },
     "execution_count": 6,
     "metadata": {},
     "output_type": "execute_result"
    }
   ],
   "source": [
    "get_category(\"Die Pizza war lecker\")"
   ]
  },
  {
   "cell_type": "code",
   "execution_count": 7,
   "id": "0da18f50",
   "metadata": {},
   "outputs": [
    {
     "data": {
      "text/plain": [
       "'Gut'"
      ]
     },
     "execution_count": 7,
     "metadata": {},
     "output_type": "execute_result"
    }
   ],
   "source": [
    "get_category(\"Guter Ort, aber das Essen war schlecht\")"
   ]
  },
  {
   "cell_type": "code",
   "execution_count": 8,
   "id": "6ba7b6f8",
   "metadata": {},
   "outputs": [
    {
     "data": {
      "text/plain": [
       "'Gut'"
      ]
     },
     "execution_count": 8,
     "metadata": {},
     "output_type": "execute_result"
    }
   ],
   "source": [
    "get_category(\"Die Pizza hat sehr gut geschmeckt\")"
   ]
  },
  {
   "cell_type": "code",
   "execution_count": 9,
   "id": "cba8784e",
   "metadata": {},
   "outputs": [
    {
     "data": {
      "text/plain": [
       "'Schlecht'"
      ]
     },
     "execution_count": 9,
     "metadata": {},
     "output_type": "execute_result"
    }
   ],
   "source": [
    "get_category(\"Die Pizza war nicht frisch\")"
   ]
  },
  {
   "cell_type": "code",
   "execution_count": 10,
   "id": "cf1bc32c",
   "metadata": {},
   "outputs": [
    {
     "data": {
      "text/plain": [
       "'Gut'"
      ]
     },
     "execution_count": 10,
     "metadata": {},
     "output_type": "execute_result"
    }
   ],
   "source": [
    "get_category('Miserables Essen')"
   ]
  },
  {
   "cell_type": "code",
   "execution_count": 27,
   "id": "116b0156",
   "metadata": {},
   "outputs": [
    {
     "ename": "ValueError",
     "evalue": "Expected 2D array, got 1D array instead:\narray=['Es war voll'].\nReshape your data either using array.reshape(-1, 1) if your data has a single feature or array.reshape(1, -1) if it contains a single sample.",
     "output_type": "error",
     "traceback": [
      "\u001b[0;31m---------------------------------------------------------------------------\u001b[0m",
      "\u001b[0;31mValueError\u001b[0m                                Traceback (most recent call last)",
      "\u001b[0;32m/var/folders/8h/x5qth1mn7_n7flbxgtkh2dx00000gn/T/ipykernel_1772/3470561989.py\u001b[0m in \u001b[0;36m<module>\u001b[0;34m\u001b[0m\n\u001b[0;32m----> 1\u001b[0;31m \u001b[0mget_category\u001b[0m\u001b[0;34m(\u001b[0m\u001b[0;34m\"Es war voll\"\u001b[0m\u001b[0;34m)\u001b[0m\u001b[0;34m\u001b[0m\u001b[0;34m\u001b[0m\u001b[0m\n\u001b[0m",
      "\u001b[0;32m/var/folders/8h/x5qth1mn7_n7flbxgtkh2dx00000gn/T/ipykernel_1772/1543850301.py\u001b[0m in \u001b[0;36mget_category\u001b[0;34m(text)\u001b[0m\n\u001b[1;32m     17\u001b[0m \u001b[0;31m# Verwende das trainierte Modell, um eine neue Kategorie für einen gegebenen Text vorherzusagen\u001b[0m\u001b[0;34m\u001b[0m\u001b[0;34m\u001b[0m\u001b[0;34m\u001b[0m\u001b[0m\n\u001b[1;32m     18\u001b[0m \u001b[0;32mdef\u001b[0m \u001b[0mget_category\u001b[0m\u001b[0;34m(\u001b[0m\u001b[0mtext\u001b[0m\u001b[0;34m)\u001b[0m\u001b[0;34m:\u001b[0m\u001b[0;34m\u001b[0m\u001b[0;34m\u001b[0m\u001b[0m\n\u001b[0;32m---> 19\u001b[0;31m     \u001b[0mpredicted_category\u001b[0m \u001b[0;34m=\u001b[0m \u001b[0mmodel\u001b[0m\u001b[0;34m.\u001b[0m\u001b[0mpredict\u001b[0m\u001b[0;34m(\u001b[0m\u001b[0;34m[\u001b[0m\u001b[0mtext\u001b[0m\u001b[0;34m]\u001b[0m\u001b[0;34m)\u001b[0m\u001b[0;34m\u001b[0m\u001b[0;34m\u001b[0m\u001b[0m\n\u001b[0m\u001b[1;32m     20\u001b[0m     \u001b[0;32mreturn\u001b[0m \u001b[0mpredicted_category\u001b[0m\u001b[0;34m[\u001b[0m\u001b[0;36m0\u001b[0m\u001b[0;34m]\u001b[0m \u001b[0;32mif\u001b[0m \u001b[0mpredicted_category\u001b[0m \u001b[0;32melse\u001b[0m \u001b[0;32mNone\u001b[0m\u001b[0;34m\u001b[0m\u001b[0;34m\u001b[0m\u001b[0m\n",
      "\u001b[0;32m/opt/anaconda3/envs/nlp_course/lib/python3.7/site-packages/sklearn/linear_model/base.py\u001b[0m in \u001b[0;36mpredict\u001b[0;34m(self, X)\u001b[0m\n\u001b[1;32m    211\u001b[0m             \u001b[0mReturns\u001b[0m \u001b[0mpredicted\u001b[0m \u001b[0mvalues\u001b[0m\u001b[0;34m.\u001b[0m\u001b[0;34m\u001b[0m\u001b[0;34m\u001b[0m\u001b[0m\n\u001b[1;32m    212\u001b[0m         \"\"\"\n\u001b[0;32m--> 213\u001b[0;31m         \u001b[0;32mreturn\u001b[0m \u001b[0mself\u001b[0m\u001b[0;34m.\u001b[0m\u001b[0m_decision_function\u001b[0m\u001b[0;34m(\u001b[0m\u001b[0mX\u001b[0m\u001b[0;34m)\u001b[0m\u001b[0;34m\u001b[0m\u001b[0;34m\u001b[0m\u001b[0m\n\u001b[0m\u001b[1;32m    214\u001b[0m \u001b[0;34m\u001b[0m\u001b[0m\n\u001b[1;32m    215\u001b[0m     \u001b[0m_preprocess_data\u001b[0m \u001b[0;34m=\u001b[0m \u001b[0mstaticmethod\u001b[0m\u001b[0;34m(\u001b[0m\u001b[0m_preprocess_data\u001b[0m\u001b[0;34m)\u001b[0m\u001b[0;34m\u001b[0m\u001b[0;34m\u001b[0m\u001b[0m\n",
      "\u001b[0;32m/opt/anaconda3/envs/nlp_course/lib/python3.7/site-packages/sklearn/linear_model/base.py\u001b[0m in \u001b[0;36m_decision_function\u001b[0;34m(self, X)\u001b[0m\n\u001b[1;32m    194\u001b[0m         \u001b[0mcheck_is_fitted\u001b[0m\u001b[0;34m(\u001b[0m\u001b[0mself\u001b[0m\u001b[0;34m,\u001b[0m \u001b[0;34m\"coef_\"\u001b[0m\u001b[0;34m)\u001b[0m\u001b[0;34m\u001b[0m\u001b[0;34m\u001b[0m\u001b[0m\n\u001b[1;32m    195\u001b[0m \u001b[0;34m\u001b[0m\u001b[0m\n\u001b[0;32m--> 196\u001b[0;31m         \u001b[0mX\u001b[0m \u001b[0;34m=\u001b[0m \u001b[0mcheck_array\u001b[0m\u001b[0;34m(\u001b[0m\u001b[0mX\u001b[0m\u001b[0;34m,\u001b[0m \u001b[0maccept_sparse\u001b[0m\u001b[0;34m=\u001b[0m\u001b[0;34m[\u001b[0m\u001b[0;34m'csr'\u001b[0m\u001b[0;34m,\u001b[0m \u001b[0;34m'csc'\u001b[0m\u001b[0;34m,\u001b[0m \u001b[0;34m'coo'\u001b[0m\u001b[0;34m]\u001b[0m\u001b[0;34m)\u001b[0m\u001b[0;34m\u001b[0m\u001b[0;34m\u001b[0m\u001b[0m\n\u001b[0m\u001b[1;32m    197\u001b[0m         return safe_sparse_dot(X, self.coef_.T,\n\u001b[1;32m    198\u001b[0m                                dense_output=True) + self.intercept_\n",
      "\u001b[0;32m/opt/anaconda3/envs/nlp_course/lib/python3.7/site-packages/sklearn/utils/validation.py\u001b[0m in \u001b[0;36mcheck_array\u001b[0;34m(array, accept_sparse, accept_large_sparse, dtype, order, copy, force_all_finite, ensure_2d, allow_nd, ensure_min_samples, ensure_min_features, warn_on_dtype, estimator)\u001b[0m\n\u001b[1;32m    550\u001b[0m                     \u001b[0;34m\"Reshape your data either using array.reshape(-1, 1) if \"\u001b[0m\u001b[0;34m\u001b[0m\u001b[0;34m\u001b[0m\u001b[0m\n\u001b[1;32m    551\u001b[0m                     \u001b[0;34m\"your data has a single feature or array.reshape(1, -1) \"\u001b[0m\u001b[0;34m\u001b[0m\u001b[0;34m\u001b[0m\u001b[0m\n\u001b[0;32m--> 552\u001b[0;31m                     \"if it contains a single sample.\".format(array))\n\u001b[0m\u001b[1;32m    553\u001b[0m \u001b[0;34m\u001b[0m\u001b[0m\n\u001b[1;32m    554\u001b[0m         \u001b[0;31m# in the future np.flexible dtypes will be handled like object dtypes\u001b[0m\u001b[0;34m\u001b[0m\u001b[0;34m\u001b[0m\u001b[0;34m\u001b[0m\u001b[0m\n",
      "\u001b[0;31mValueError\u001b[0m: Expected 2D array, got 1D array instead:\narray=['Es war voll'].\nReshape your data either using array.reshape(-1, 1) if your data has a single feature or array.reshape(1, -1) if it contains a single sample."
     ]
    }
   ],
   "source": [
    "get_category(\"Es war voll\")"
   ]
  },
  {
   "cell_type": "markdown",
   "id": "38e61283",
   "metadata": {},
   "source": [
    "Ergebniss sehr abhängig von Trainingsdaten. Sätze müssen gefühlt schon 1 zu 1 in Trainignsdaten vorkommen."
   ]
  },
  {
   "cell_type": "markdown",
   "id": "177ca297",
   "metadata": {},
   "source": [
    "## Modell 2 - CountVectorizer mit Naive Bayes"
   ]
  },
  {
   "cell_type": "code",
   "execution_count": 11,
   "id": "c899b277",
   "metadata": {},
   "outputs": [
    {
     "name": "stdout",
     "output_type": "stream",
     "text": [
      "Accuracy: 0.9365079365079365\n"
     ]
    }
   ],
   "source": [
    "from sklearn.feature_extraction.text import CountVectorizer\n",
    "from sklearn.naive_bayes import MultinomialNB\n",
    "from sklearn.model_selection import train_test_split\n",
    "\n",
    "# Load the data\n",
    "data = trainingsdata\n",
    "\n",
    "# Split the data into training and testing sets\n",
    "train_data, test_data, train_labels, test_labels = train_test_split(trainingsdata[\"Bewertung\"], trainingsdata[\"Label\"], test_size=0.2)\n",
    "\n",
    "# Convert the text to a bag of words representation\n",
    "vectorizer = CountVectorizer()\n",
    "train_features = vectorizer.fit_transform(train_data)\n",
    "test_features = vectorizer.transform(test_data)\n",
    "\n",
    "# Train a Naive Bayes classifier on the training data\n",
    "classifier = MultinomialNB()\n",
    "classifier.fit(train_features, train_labels)\n",
    "\n",
    "# Test the model on the testing data\n",
    "accuracy = classifier.score(test_features, test_labels)\n",
    "print(\"Accuracy:\", accuracy)"
   ]
  },
  {
   "cell_type": "markdown",
   "id": "6bc0d156",
   "metadata": {},
   "source": [
    "### Vorhersage der Bewertungen"
   ]
  },
  {
   "cell_type": "code",
   "execution_count": 12,
   "id": "4ee969b8",
   "metadata": {},
   "outputs": [],
   "source": [
    "labeld_data = pd.read_csv('/Users/bastian/Documents/HS Aalen/Trimester 6/Text Mining und Web Analytics/Prüfungsleistung/NLPGoogleReviewSummary/data/labeled_data.csv', sep=';')"
   ]
  },
  {
   "cell_type": "code",
   "execution_count": 13,
   "id": "5f054aff",
   "metadata": {},
   "outputs": [],
   "source": [
    "data_predict = labeld_data.iloc[:, 2:]"
   ]
  },
  {
   "cell_type": "code",
   "execution_count": 14,
   "id": "228b9334",
   "metadata": {},
   "outputs": [],
   "source": [
    "X = data_predict.iloc[:, :-1]\n",
    "y = data_predict.iloc[:, -1:]"
   ]
  },
  {
   "cell_type": "code",
   "execution_count": 15,
   "id": "0f4791a9",
   "metadata": {},
   "outputs": [],
   "source": [
    "X.fillna(0, inplace=True)"
   ]
  },
  {
   "cell_type": "code",
   "execution_count": 16,
   "id": "ef909df2",
   "metadata": {},
   "outputs": [],
   "source": [
    "X_train, X_test, y_train, y_test = train_test_split(X, y, test_size = 0.3, random_state = 101)"
   ]
  },
  {
   "cell_type": "code",
   "execution_count": 17,
   "id": "d55c3d9b",
   "metadata": {},
   "outputs": [],
   "source": [
    "model = LinearRegression()"
   ]
  },
  {
   "cell_type": "code",
   "execution_count": 18,
   "id": "b423f83d",
   "metadata": {},
   "outputs": [
    {
     "data": {
      "text/plain": [
       "LinearRegression(copy_X=True, fit_intercept=True, n_jobs=None,\n",
       "         normalize=False)"
      ]
     },
     "execution_count": 18,
     "metadata": {},
     "output_type": "execute_result"
    }
   ],
   "source": [
    "model.fit(X_train, y_train)"
   ]
  },
  {
   "cell_type": "code",
   "execution_count": 19,
   "id": "eab7e036",
   "metadata": {},
   "outputs": [],
   "source": [
    "predicitions = model.predict(X_test)"
   ]
  },
  {
   "cell_type": "code",
   "execution_count": 24,
   "id": "71fbe7d6",
   "metadata": {},
   "outputs": [],
   "source": [
    "neue_bewertung = model.predict(np.array([1, 0, 1, 0, 0, 0, 0, 0, 0, 0]).reshape(1, -1))"
   ]
  },
  {
   "cell_type": "code",
   "execution_count": 25,
   "id": "5cb2c8e7",
   "metadata": {},
   "outputs": [
    {
     "name": "stdout",
     "output_type": "stream",
     "text": [
      "4.98\n"
     ]
    }
   ],
   "source": [
    "print(round(neue_bewertung[0][0], 2))"
   ]
  },
  {
   "cell_type": "code",
   "execution_count": null,
   "id": "2337c105",
   "metadata": {},
   "outputs": [],
   "source": [
    "def foo(x, train_data):\n",
    "    \n",
    "    x = row in Pandas DF\n",
    "    train_data"
   ]
  }
 ],
 "metadata": {
  "kernelspec": {
   "display_name": "Python 3 (ipykernel)",
   "language": "python",
   "name": "python3"
  },
  "language_info": {
   "codemirror_mode": {
    "name": "ipython",
    "version": 3
   },
   "file_extension": ".py",
   "mimetype": "text/x-python",
   "name": "python",
   "nbconvert_exporter": "python",
   "pygments_lexer": "ipython3",
   "version": "3.7.16"
  }
 },
 "nbformat": 4,
 "nbformat_minor": 5
}
