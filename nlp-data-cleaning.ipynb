{
 "cells": [
  {
   "cell_type": "code",
   "execution_count": 212,
   "id": "16b972cf",
   "metadata": {},
   "outputs": [],
   "source": [
    "import pandas as pd\n",
    "import re\n",
    "import string\n",
    "from spacy.lang.de.stop_words import STOP_WORDS\n",
    "# Spacy\n",
    "import spacy"
   ]
  },
  {
   "cell_type": "code",
   "execution_count": 213,
   "outputs": [],
   "source": [
    "pd.set_option('display.max_colwidth', None)\n",
    "nlp = spacy.load('de_core_news_md')"
   ],
   "metadata": {
    "collapsed": false,
    "pycharm": {
     "name": "#%%\n"
    }
   }
  },
  {
   "cell_type": "code",
   "execution_count": 214,
   "id": "dfd0d75b",
   "metadata": {},
   "outputs": [],
   "source": [
    "REVIEWS_FILE_PATH = 'data/labeled_data.csv'\n",
    "REVIEWS_CLEANED_FILE_PATH = 'data/labeled_data_cleaned.csv'\n",
    "\n",
    "df = pd.read_csv(REVIEWS_FILE_PATH, sep=';')"
   ]
  },
  {
   "cell_type": "code",
   "execution_count": 215,
   "outputs": [],
   "source": [
    "df.columns = ['Index',\n",
    "              'caption',\n",
    "              'food_positive', 'food_negative',\n",
    "              'service_positive', 'service_negative',\n",
    "              'ambient_positive', 'ambient_negative',\n",
    "              'price_positive', 'price_negative',\n",
    "              'waiting_positive', 'waiting_negative',\n",
    "              'rating']"
   ],
   "metadata": {
    "collapsed": false,
    "pycharm": {
     "name": "#%%\n"
    }
   }
  },
  {
   "cell_type": "code",
   "execution_count": 216,
   "outputs": [
    {
     "data": {
      "text/plain": "   Index  \\\n0      0   \n1      4   \n2      5   \n\n                                                                                                                                              caption  \\\n0  Die mit Abstand leckerste Pizza in Deutschland, und das selbst wenn man sie um halb 10 abends zum mitnehmen bestellt :) Einfach zum niederknien! …   \n1                                      Good place to dine in! Sadly no chicken pizzas available.  Do keep in mind the waiting time when you visit✌🏻 …   \n2                                                                                                            This is the must try pizza in Frankfurt.   \n\n   food_positive  food_negative  service_positive  service_negative  \\\n0              1              0                 1                 0   \n1              1              0                 0                 1   \n2              1              0                 0                 0   \n\n   ambient_positive  ambient_negative  price_positive  price_negative  \\\n0                 0                 0               0               0   \n1                 0                 0               0               0   \n2                 0                 0               0               0   \n\n   waiting_positive  waiting_negative  rating  \n0                 0                 0     5.0  \n1                 0                 1     4.0  \n2                 0                 0     5.0  ",
      "text/html": "<div>\n<style scoped>\n    .dataframe tbody tr th:only-of-type {\n        vertical-align: middle;\n    }\n\n    .dataframe tbody tr th {\n        vertical-align: top;\n    }\n\n    .dataframe thead th {\n        text-align: right;\n    }\n</style>\n<table border=\"1\" class=\"dataframe\">\n  <thead>\n    <tr style=\"text-align: right;\">\n      <th></th>\n      <th>Index</th>\n      <th>caption</th>\n      <th>food_positive</th>\n      <th>food_negative</th>\n      <th>service_positive</th>\n      <th>service_negative</th>\n      <th>ambient_positive</th>\n      <th>ambient_negative</th>\n      <th>price_positive</th>\n      <th>price_negative</th>\n      <th>waiting_positive</th>\n      <th>waiting_negative</th>\n      <th>rating</th>\n    </tr>\n  </thead>\n  <tbody>\n    <tr>\n      <th>0</th>\n      <td>0</td>\n      <td>Die mit Abstand leckerste Pizza in Deutschland, und das selbst wenn man sie um halb 10 abends zum mitnehmen bestellt :) Einfach zum niederknien! …</td>\n      <td>1</td>\n      <td>0</td>\n      <td>1</td>\n      <td>0</td>\n      <td>0</td>\n      <td>0</td>\n      <td>0</td>\n      <td>0</td>\n      <td>0</td>\n      <td>0</td>\n      <td>5.0</td>\n    </tr>\n    <tr>\n      <th>1</th>\n      <td>4</td>\n      <td>Good place to dine in! Sadly no chicken pizzas available.  Do keep in mind the waiting time when you visit✌🏻 …</td>\n      <td>1</td>\n      <td>0</td>\n      <td>0</td>\n      <td>1</td>\n      <td>0</td>\n      <td>0</td>\n      <td>0</td>\n      <td>0</td>\n      <td>0</td>\n      <td>1</td>\n      <td>4.0</td>\n    </tr>\n    <tr>\n      <th>2</th>\n      <td>5</td>\n      <td>This is the must try pizza in Frankfurt.</td>\n      <td>1</td>\n      <td>0</td>\n      <td>0</td>\n      <td>0</td>\n      <td>0</td>\n      <td>0</td>\n      <td>0</td>\n      <td>0</td>\n      <td>0</td>\n      <td>0</td>\n      <td>5.0</td>\n    </tr>\n  </tbody>\n</table>\n</div>"
     },
     "execution_count": 216,
     "metadata": {},
     "output_type": "execute_result"
    }
   ],
   "source": [
    "df.head(3)"
   ],
   "metadata": {
    "collapsed": false,
    "pycharm": {
     "name": "#%%\n"
    }
   }
  },
  {
   "cell_type": "code",
   "execution_count": 217,
   "id": "3b3694fe",
   "metadata": {},
   "outputs": [
    {
     "data": {
      "text/plain": "                                                                                                                                              caption  \\\n0  Die mit Abstand leckerste Pizza in Deutschland, und das selbst wenn man sie um halb 10 abends zum mitnehmen bestellt :) Einfach zum niederknien! …   \n1                                      Good place to dine in! Sadly no chicken pizzas available.  Do keep in mind the waiting time when you visit✌🏻 …   \n2                                                                                                            This is the must try pizza in Frankfurt.   \n\n   food_positive  service_positive  ambient_positive  price_positive  \\\n0              1                 1                 0               0   \n1              1                 0                 0               0   \n2              1                 0                 0               0   \n\n   waiting_positive  rating  \n0                 0     5.0  \n1                 0     4.0  \n2                 0     5.0  ",
      "text/html": "<div>\n<style scoped>\n    .dataframe tbody tr th:only-of-type {\n        vertical-align: middle;\n    }\n\n    .dataframe tbody tr th {\n        vertical-align: top;\n    }\n\n    .dataframe thead th {\n        text-align: right;\n    }\n</style>\n<table border=\"1\" class=\"dataframe\">\n  <thead>\n    <tr style=\"text-align: right;\">\n      <th></th>\n      <th>caption</th>\n      <th>food_positive</th>\n      <th>service_positive</th>\n      <th>ambient_positive</th>\n      <th>price_positive</th>\n      <th>waiting_positive</th>\n      <th>rating</th>\n    </tr>\n  </thead>\n  <tbody>\n    <tr>\n      <th>0</th>\n      <td>Die mit Abstand leckerste Pizza in Deutschland, und das selbst wenn man sie um halb 10 abends zum mitnehmen bestellt :) Einfach zum niederknien! …</td>\n      <td>1</td>\n      <td>1</td>\n      <td>0</td>\n      <td>0</td>\n      <td>0</td>\n      <td>5.0</td>\n    </tr>\n    <tr>\n      <th>1</th>\n      <td>Good place to dine in! Sadly no chicken pizzas available.  Do keep in mind the waiting time when you visit✌🏻 …</td>\n      <td>1</td>\n      <td>0</td>\n      <td>0</td>\n      <td>0</td>\n      <td>0</td>\n      <td>4.0</td>\n    </tr>\n    <tr>\n      <th>2</th>\n      <td>This is the must try pizza in Frankfurt.</td>\n      <td>1</td>\n      <td>0</td>\n      <td>0</td>\n      <td>0</td>\n      <td>0</td>\n      <td>5.0</td>\n    </tr>\n  </tbody>\n</table>\n</div>"
     },
     "execution_count": 217,
     "metadata": {},
     "output_type": "execute_result"
    }
   ],
   "source": [
    "# Remove NaN caption\n",
    "USEFUL_COLUMNS = ['caption',\n",
    "                  'food_positive', 'service_positive', 'ambient_positive', 'price_positive', 'waiting_positive', 'rating']\n",
    "df = df.loc[~df['caption'].isnull(), USEFUL_COLUMNS]\n",
    "df.reset_index(drop=True)\n",
    "df.head(3)"
   ]
  },
  {
   "cell_type": "code",
   "execution_count": 218,
   "id": "200e5b9c",
   "metadata": {},
   "outputs": [
    {
     "data": {
      "text/plain": "                                                                                                                                              caption  \\\n0  Die mit Abstand leckerste Pizza in Deutschland, und das selbst wenn man sie um halb 10 abends zum mitnehmen bestellt :) Einfach zum niederknien! …   \n1                                      Good place to dine in! Sadly no chicken pizzas available.  Do keep in mind the waiting time when you visit✌🏻 …   \n2                                                                                                            This is the must try pizza in Frankfurt.   \n\n   food_positive  service_positive  ambient_positive  price_positive  \\\n0              1                 1                 0               0   \n1              1                 0                 0               0   \n2              1                 0                 0               0   \n\n   waiting_positive  rating  \n0                 0     5.0  \n1                 0     4.0  \n2                 0     5.0  ",
      "text/html": "<div>\n<style scoped>\n    .dataframe tbody tr th:only-of-type {\n        vertical-align: middle;\n    }\n\n    .dataframe tbody tr th {\n        vertical-align: top;\n    }\n\n    .dataframe thead th {\n        text-align: right;\n    }\n</style>\n<table border=\"1\" class=\"dataframe\">\n  <thead>\n    <tr style=\"text-align: right;\">\n      <th></th>\n      <th>caption</th>\n      <th>food_positive</th>\n      <th>service_positive</th>\n      <th>ambient_positive</th>\n      <th>price_positive</th>\n      <th>waiting_positive</th>\n      <th>rating</th>\n    </tr>\n  </thead>\n  <tbody>\n    <tr>\n      <th>0</th>\n      <td>Die mit Abstand leckerste Pizza in Deutschland, und das selbst wenn man sie um halb 10 abends zum mitnehmen bestellt :) Einfach zum niederknien! …</td>\n      <td>1</td>\n      <td>1</td>\n      <td>0</td>\n      <td>0</td>\n      <td>0</td>\n      <td>5.0</td>\n    </tr>\n    <tr>\n      <th>1</th>\n      <td>Good place to dine in! Sadly no chicken pizzas available.  Do keep in mind the waiting time when you visit✌🏻 …</td>\n      <td>1</td>\n      <td>0</td>\n      <td>0</td>\n      <td>0</td>\n      <td>0</td>\n      <td>4.0</td>\n    </tr>\n    <tr>\n      <th>2</th>\n      <td>This is the must try pizza in Frankfurt.</td>\n      <td>1</td>\n      <td>0</td>\n      <td>0</td>\n      <td>0</td>\n      <td>0</td>\n      <td>5.0</td>\n    </tr>\n  </tbody>\n</table>\n</div>"
     },
     "execution_count": 218,
     "metadata": {},
     "output_type": "execute_result"
    }
   ],
   "source": [
    "# Remove the section translated by google if present\n",
    "df['caption'] = df['caption'].str.split('(Translated by Google)').str[0]\n",
    "df.head(3)"
   ]
  },
  {
   "cell_type": "code",
   "execution_count": 219,
   "outputs": [
    {
     "name": "stdout",
     "output_type": "stream",
     "text": [
      "{'ohne', 'eigener', 'ab', 'darüber', 'ihrer', 'erstes', 'solang', 'en', 'seitdem', 'uhr', 'zehntes', 'siebte', 'grosser', 'siebentes', 'drin', 'während', 'dank', 'natürlich', 'ebenso', 'geschweige', 'achter', 'welcher', 'anderem', 'seiner', 'darfst', 'dürfen', 'große', 'sechsten', 'weniges', 'wirklich', 'irgend', 'daran', 'vor', 'daraus', 'daß', 'viele', 'solches', 'diejenigen', 'sehr', 'kannst', 'neun', 'gehabt', 'denen', 'durch', 'beim', 'derjenigen', 'außer', 'dritten', 'dieselben', 'besten', 'bis', 'gesagt', 'weitere', 'welchem', 'ja', 'einige', 'hätte', 'wegen', 'jedem', 'oben', 'sechster', 'einmal', 'also', 'gewesen', 'hinter', 'das', 'fünftes', 'weniger', 'denn', 'vom', 'zwanzig', 'dann', 'geht', 'mochten', 'kann', 'gern', 'jedoch', 'mögt', 'sagt', 'mich', 'vier', 'mit', 'darf', 'acht', 'wie', 'dabei', 'müssen', 'satt', 'eines', 'na', 'kam', 'zwar', 'solcher', 'neue', 'dermassen', 'hat', 'im', 'dasselbe', 'dahin', 'gedurft', 'übrigens', 'weil', 'ach', 'du', 'dadurch', 'erste', 'los', 'zehnter', 'habe', 'nur', 'jemanden', 'kommen', 'keine', 'kleine', 'sind', 'jahren', 'dessen', 'der', 'tat', 'unserer', 'statt', 'alles', 'eine', 'gekannt', 'konnten', 'des', 'siebter', 'oder', 'jedermann', 'demgemäß', 'ausser', 'derjenige', 'werden', 'richtig', 'ein', 'daher', 'kommt', 'nach', 'achten', 'nie', 'jeden', 'ihrem', 'darunter', 'mein', 'zugleich', 'zweite', 'demgemäss', 'neunter', 'vergangenen', 'sechste', 'nein', 'vielem', 'fünf', 'guter', 'sondern', 'rechte', 'rechten', 'hatte', 'eigene', 'meine', 'gute', 'muß', 'tagen', 'zurück', 'seine', 'ausserdem', 'meinem', 'unser', 'auch', 'danach', 'siebten', 'eben', 'waren', 'neuntes', 'demgegenüber', 'welches', 'allen', 'mochte', 'für', 'gemusst', 'auf', 'dem', 'ob', 'weiteres', 'überhaupt', 'selbst', 'wohl', 'allein', 'meiner', 'konnte', 'wurden', 'einem', 'schlecht', 'drittes', 'kleiner', 'anders', 'darum', 'diejenige', 'dir', 'jemand', 'gekonnt', 'sie', 'warum', 'sollte', 'müsst', 'dort', 'jenen', 'meinen', 'welche', 'könnte', 'als', 'einigen', 'euch', 'ihren', 'dazwischen', 'gibt', 'jene', 'dritter', 'dementsprechend', 'leicht', 'gehen', 'dieses', 'ins', 'besser', 'macht', 'musst', 'würde', 'leider', 'solchem', 'manchem', 'ersten', 'allgemeinen', 'achte', 'dahinter', 'anderen', 'können', 'dein', 'hier', 'man', 'daneben', 'wem', 'wurde', 'währenddem', 'vierter', 'darin', 'mir', 'weiteren', 'eigenes', 'desselben', 'jedermanns', 'kein', 'darauf', 'niemandem', 'aller', 'bei', 'genug', 'seien', 'seines', 'groß', 'weit', 'zum', 'zur', 'wo', 'so', 'vielen', 'sechstes', 'damit', 'diesem', 'sich', 'möchte', 'wenige', 'deshalb', 'lang', 'was', 'ihr', 'jener', 'her', 'einen', 'zweites', 'sollten', 'solche', 'gemocht', 'muss', 'die', 'ganze', 'ihnen', 'wer', 'und', 'tage', 'siebente', 'keiner', 'wollt', 'ganzes', 'daselbst', 'haben', 'eigen', 'großen', 'gegenüber', 'erst', 'bereits', 'denselben', 'gleich', 'kurz', 'seit', 'manche', 'außerdem', 'derselbe', 'jenem', 'fünfter', 'wenn', 'bald', 'niemand', 'kaum', 'möglich', 'eigenen', 'jemandem', 'gross', 'weiter', 'zunächst', 'zehnten', 'willst', 'jede', 'keinen', 'über', 'wahr', 'heisst', 'zuerst', 'mögen', 'mittel', 'hoch', 'wollte', 'unter', 'vierte', 'einmaleins', 'dritte', 'ging', 'keinem', 'trotzdem', 'andern', 'ist', 'da', 'jahre', 'wessen', 'diesen', 'tag', 'sieben', 'seinen', 'neunten', 'ende', 'doch', 'dies', 'uns', 'deren', 'großer', 'wart', 'seinem', 'früher', 'etwa', 'bisher', 'allerdings', 'hin', 'davon', 'werde', 'deiner', 'dich', 'tun', 'ganzer', 'entweder', 'mehr', 'er', 'machen', 'zeit', 'rechtes', 'bin', 'neunte', 'neuen', 'grosses', 'siebenten', 'später', 'einiges', 'geworden', 'rechter', 'meines', 'nichts', 'aber', 'habt', 'sonst', 'viertes', 'gerade', 'in', 'drei', 'lieber', 'vergangene', 'deswegen', 'aus', 'achtes', 'ihre', 'werdet', 'besonders', 'durfte', 'durften', 'wir', 'elf', 'dass', 'von', 'beide', 'manches', 'vierten', 'wäre', 'bekannt', 'fünfte', 'heute', 'manchen', 'soll', 'zwischen', 'welchen', 'deine', 'hätten', 'grossen', 'jeder', 'dazu', 'um', 'könnt', 'niemanden', 'währenddessen', 'vielleicht', 'schon', 'hatten', 'wann', 'hast', 'noch', 'siebtes', 'sein', 'davor', 'dürft', 'jetzt', 'einander', 'gemacht', 'zusammen', 'den', 'etwas', 'gutes', 'beispiel', 'jenes', 'sechs', 'nachdem', 'nicht', 'ich', 'jahr', 'alle', 'ag', 'erster', 'wenig', 'diese', 'teil', 'ehrlich', 'einer', 'gewollt', 'infolgedessen', 'dieser', 'mancher', 'nahm', 'großes', 'kleinen', 'viel', 'oft', 'tel', 'sowie', 'a', 'zweiter', 'am', 'nun', 'offen', 'unsere', 'dagegen', 'würden', 'kleines', 'á', 'wen', 'wieder', 'zehnte', 'ganzen', 'andere', 'wollen', 'einiger', 'durchaus', 'wirst', 'wollten', 'ganz', 'ihres', 'dafür', 'gegen', 'mussten', 'heißt', 'dasein', 'war', 'demselben', 'dieselbe', 'allem', 'seid', 'es', 'deinem', 'sah', 'bist', 'sei', 'machte', 'dermaßen', 'worden', 'immer', 'zwei', 'wird', 'endlich', 'je', 'magst', 'wenigstens', 'derselben', 'damals', 'gut', 'siebenter', 'gab', 'sollen', 'mag', 'gar', 'sagte', 'zehn', 'recht', 'fünften', 'zweiten', 'beiden', 'zu', 'will', 'indem', 'neben', 'an', 'ihm', 'musste', 'rund', 'grosse', 'demzufolge', 'lange', 'morgen', 'ihn', 'solchen'}\n"
     ]
    }
   ],
   "source": [
    "print (STOP_WORDS)"
   ],
   "metadata": {
    "collapsed": false,
    "pycharm": {
     "name": "#%%\n"
    }
   }
  },
  {
   "cell_type": "code",
   "execution_count": 220,
   "outputs": [],
   "source": [
    "REGX_USERNAME = r\"@[A-Za-z0-9$-_@.&+]+\"\n",
    "REGX_URL = r\"https?://[A-Za-z0-9./]+\"\n",
    "def preprocessing(text):\n",
    "    text = text.lower()\n",
    "\n",
    "    # Remove\n",
    "    text = re.sub(REGX_USERNAME, ' ', text)\n",
    "    text = re.sub(REGX_URL, ' ', text)\n",
    "\n",
    "    # Replace Emojis\n",
    "    emojis = {\n",
    "        ':)': 'positive emotionen',\n",
    "        ':(': 'negative emotionen'\n",
    "    }\n",
    "\n",
    "    for e in emojis:\n",
    "        text = text.replace(e, emojis[e])\n",
    "\n",
    "    tokens = [token.text for token in nlp(text)]\n",
    "\n",
    "    # Remove Stop Words, punctuations and words with less than 3 characters\n",
    "    tokens = [t for t in tokens if\n",
    "              t not in STOP_WORDS and\n",
    "              t not in string.punctuation and\n",
    "              len(t) > 3]\n",
    "\n",
    "    tokens = [t for t in tokens if not t.isdigit()]\n",
    "\n",
    "    text = \" \".join(tokens);\n",
    "\n",
    "    # Lemmatization\n",
    "    allowed_postags = [\"NOUN\", \"ADJ\", \"VERB\", \"ADV\"]\n",
    "    doc = nlp(text)\n",
    "    new_text = []\n",
    "    for token in doc:\n",
    "        if token.pos_ in allowed_postags:\n",
    "            new_text.append(token.lemma_)\n",
    "    lemmatized = \" \".join(new_text).lower()\n",
    "\n",
    "    return lemmatized\n",
    "\n",
    "df[\"caption_clean\"] = df[\"caption\"].apply(preprocessing)"
   ],
   "metadata": {
    "collapsed": false,
    "pycharm": {
     "name": "#%%\n"
    }
   }
  },
  {
   "cell_type": "code",
   "execution_count": 221,
   "outputs": [
    {
     "data": {
      "text/plain": "                                                                                                                                              caption  \\\n0  Die mit Abstand leckerste Pizza in Deutschland, und das selbst wenn man sie um halb 10 abends zum mitnehmen bestellt :) Einfach zum niederknien! …   \n1                                      Good place to dine in! Sadly no chicken pizzas available.  Do keep in mind the waiting time when you visit✌🏻 …   \n2                                                                                                            This is the must try pizza in Frankfurt.   \n\n   food_positive  service_positive  ambient_positive  price_positive  \\\n0              1                 1                 0               0   \n1              1                 0                 0               0   \n2              1                 0                 0               0   \n\n   waiting_positive  rating  \\\n0                 0     5.0   \n1                 0     4.0   \n2                 0     5.0   \n\n                                                                                caption_clean  \n0  abstand leckerst pizza halb abends mitnehmen bestellen positiv emotion einfach niederknien  \n1                                                                              chicken pizzas  \n2                                                                                              ",
      "text/html": "<div>\n<style scoped>\n    .dataframe tbody tr th:only-of-type {\n        vertical-align: middle;\n    }\n\n    .dataframe tbody tr th {\n        vertical-align: top;\n    }\n\n    .dataframe thead th {\n        text-align: right;\n    }\n</style>\n<table border=\"1\" class=\"dataframe\">\n  <thead>\n    <tr style=\"text-align: right;\">\n      <th></th>\n      <th>caption</th>\n      <th>food_positive</th>\n      <th>service_positive</th>\n      <th>ambient_positive</th>\n      <th>price_positive</th>\n      <th>waiting_positive</th>\n      <th>rating</th>\n      <th>caption_clean</th>\n    </tr>\n  </thead>\n  <tbody>\n    <tr>\n      <th>0</th>\n      <td>Die mit Abstand leckerste Pizza in Deutschland, und das selbst wenn man sie um halb 10 abends zum mitnehmen bestellt :) Einfach zum niederknien! …</td>\n      <td>1</td>\n      <td>1</td>\n      <td>0</td>\n      <td>0</td>\n      <td>0</td>\n      <td>5.0</td>\n      <td>abstand leckerst pizza halb abends mitnehmen bestellen positiv emotion einfach niederknien</td>\n    </tr>\n    <tr>\n      <th>1</th>\n      <td>Good place to dine in! Sadly no chicken pizzas available.  Do keep in mind the waiting time when you visit✌🏻 …</td>\n      <td>1</td>\n      <td>0</td>\n      <td>0</td>\n      <td>0</td>\n      <td>0</td>\n      <td>4.0</td>\n      <td>chicken pizzas</td>\n    </tr>\n    <tr>\n      <th>2</th>\n      <td>This is the must try pizza in Frankfurt.</td>\n      <td>1</td>\n      <td>0</td>\n      <td>0</td>\n      <td>0</td>\n      <td>0</td>\n      <td>5.0</td>\n      <td></td>\n    </tr>\n  </tbody>\n</table>\n</div>"
     },
     "execution_count": 221,
     "metadata": {},
     "output_type": "execute_result"
    }
   ],
   "source": [
    "df.head(3)"
   ],
   "metadata": {
    "collapsed": false,
    "pycharm": {
     "name": "#%%\n"
    }
   }
  },
  {
   "cell_type": "code",
   "execution_count": 221,
   "outputs": [],
   "source": [],
   "metadata": {
    "collapsed": false,
    "pycharm": {
     "name": "#%%\n"
    }
   }
  },
  {
   "cell_type": "code",
   "execution_count": 222,
   "outputs": [
    {
     "data": {
      "text/plain": "    food_positive  service_positive  ambient_positive  price_positive  \\\n0               1                 1                 0               0   \n1               1                 0                 0               0   \n2               1                 0                 0               0   \n3               1                 0                 0               0   \n4               1                 0                 1               0   \n..            ...               ...               ...             ...   \n89              1                 0                 0               0   \n90              1                 1                 1               0   \n91              1                 0                 0               0   \n92              1                 0                 0               0   \n93              1                 0                 0               0   \n\n    waiting_positive  rating  \\\n0                  0     5.0   \n1                  0     4.0   \n2                  0     5.0   \n3                  0     5.0   \n4                  0     5.0   \n..               ...     ...   \n89                 0     5.0   \n90                 1     5.0   \n91                 0     5.0   \n92                 0     5.0   \n93                 0     4.0   \n\n                                                                                                    caption  \n0                abstand leckerst pizza halb abends mitnehmen bestellen positiv emotion einfach niederknien  \n1                                                                                            chicken pizzas  \n2                                                                                                            \n3                                                                                                            \n4                                                                                 leck pizz cool atmosphäre  \n..                                                                                                      ...  \n89                                                                        hervorragend neapolitanisch pizza  \n90  super fruendlich atmosphäre chillig schön auswahl pizzas lecker schnell fertig wartezeit qalität leiden  \n91                                                                                   leck pizza hochpreisig  \n92                                                                                                           \n93                                                  pizza durchschnitt atmosphäre eher jung volk preis fair  \n\n[94 rows x 7 columns]",
      "text/html": "<div>\n<style scoped>\n    .dataframe tbody tr th:only-of-type {\n        vertical-align: middle;\n    }\n\n    .dataframe tbody tr th {\n        vertical-align: top;\n    }\n\n    .dataframe thead th {\n        text-align: right;\n    }\n</style>\n<table border=\"1\" class=\"dataframe\">\n  <thead>\n    <tr style=\"text-align: right;\">\n      <th></th>\n      <th>food_positive</th>\n      <th>service_positive</th>\n      <th>ambient_positive</th>\n      <th>price_positive</th>\n      <th>waiting_positive</th>\n      <th>rating</th>\n      <th>caption</th>\n    </tr>\n  </thead>\n  <tbody>\n    <tr>\n      <th>0</th>\n      <td>1</td>\n      <td>1</td>\n      <td>0</td>\n      <td>0</td>\n      <td>0</td>\n      <td>5.0</td>\n      <td>abstand leckerst pizza halb abends mitnehmen bestellen positiv emotion einfach niederknien</td>\n    </tr>\n    <tr>\n      <th>1</th>\n      <td>1</td>\n      <td>0</td>\n      <td>0</td>\n      <td>0</td>\n      <td>0</td>\n      <td>4.0</td>\n      <td>chicken pizzas</td>\n    </tr>\n    <tr>\n      <th>2</th>\n      <td>1</td>\n      <td>0</td>\n      <td>0</td>\n      <td>0</td>\n      <td>0</td>\n      <td>5.0</td>\n      <td></td>\n    </tr>\n    <tr>\n      <th>3</th>\n      <td>1</td>\n      <td>0</td>\n      <td>0</td>\n      <td>0</td>\n      <td>0</td>\n      <td>5.0</td>\n      <td></td>\n    </tr>\n    <tr>\n      <th>4</th>\n      <td>1</td>\n      <td>0</td>\n      <td>1</td>\n      <td>0</td>\n      <td>0</td>\n      <td>5.0</td>\n      <td>leck pizz cool atmosphäre</td>\n    </tr>\n    <tr>\n      <th>...</th>\n      <td>...</td>\n      <td>...</td>\n      <td>...</td>\n      <td>...</td>\n      <td>...</td>\n      <td>...</td>\n      <td>...</td>\n    </tr>\n    <tr>\n      <th>89</th>\n      <td>1</td>\n      <td>0</td>\n      <td>0</td>\n      <td>0</td>\n      <td>0</td>\n      <td>5.0</td>\n      <td>hervorragend neapolitanisch pizza</td>\n    </tr>\n    <tr>\n      <th>90</th>\n      <td>1</td>\n      <td>1</td>\n      <td>1</td>\n      <td>0</td>\n      <td>1</td>\n      <td>5.0</td>\n      <td>super fruendlich atmosphäre chillig schön auswahl pizzas lecker schnell fertig wartezeit qalität leiden</td>\n    </tr>\n    <tr>\n      <th>91</th>\n      <td>1</td>\n      <td>0</td>\n      <td>0</td>\n      <td>0</td>\n      <td>0</td>\n      <td>5.0</td>\n      <td>leck pizza hochpreisig</td>\n    </tr>\n    <tr>\n      <th>92</th>\n      <td>1</td>\n      <td>0</td>\n      <td>0</td>\n      <td>0</td>\n      <td>0</td>\n      <td>5.0</td>\n      <td></td>\n    </tr>\n    <tr>\n      <th>93</th>\n      <td>1</td>\n      <td>0</td>\n      <td>0</td>\n      <td>0</td>\n      <td>0</td>\n      <td>4.0</td>\n      <td>pizza durchschnitt atmosphäre eher jung volk preis fair</td>\n    </tr>\n  </tbody>\n</table>\n<p>94 rows × 7 columns</p>\n</div>"
     },
     "execution_count": 222,
     "metadata": {},
     "output_type": "execute_result"
    }
   ],
   "source": [
    "# renaming dataset columns, grabbing only the cleaned captions\n",
    "USEFUL_COLUMNS_AND_CLEAN = USEFUL_COLUMNS[:]\n",
    "USEFUL_COLUMNS_AND_CLEAN.remove('caption') # don't select caption at this point\n",
    "USEFUL_COLUMNS_AND_CLEAN.append('caption_clean') # Select caption_clean\n",
    "\n",
    "df = df[USEFUL_COLUMNS_AND_CLEAN]\n",
    "\n",
    "df = df.rename(columns={\"caption_clean\": \"caption\"}) #\n",
    "USEFUL_COLUMNS_AND_CLEAN.append('caption') # add caption\n",
    "USEFUL_COLUMNS_AND_CLEAN.remove('caption_clean') # Remove caption_clean\n",
    "df.reset_index(drop=True)"
   ],
   "metadata": {
    "collapsed": false,
    "pycharm": {
     "name": "#%%\n"
    }
   }
  },
  {
   "cell_type": "code",
   "execution_count": 223,
   "outputs": [
    {
     "data": {
      "text/plain": "['food_positive',\n 'service_positive',\n 'ambient_positive',\n 'price_positive',\n 'waiting_positive',\n 'rating',\n 'caption']"
     },
     "execution_count": 223,
     "metadata": {},
     "output_type": "execute_result"
    }
   ],
   "source": [
    "USEFUL_COLUMNS_AND_CLEAN"
   ],
   "metadata": {
    "collapsed": false,
    "pycharm": {
     "name": "#%%\n"
    }
   }
  },
  {
   "cell_type": "code",
   "execution_count": 224,
   "outputs": [],
   "source": [
    "# Remove null & empty values once again for 'caption_clean' column\n",
    "df = df.loc[~df['caption'].isnull(), USEFUL_COLUMNS_AND_CLEAN]\n",
    "df = df[df['caption'].str.strip().astype(bool)]"
   ],
   "metadata": {
    "collapsed": false,
    "pycharm": {
     "name": "#%%\n"
    }
   }
  },
  {
   "cell_type": "code",
   "execution_count": 225,
   "outputs": [
    {
     "data": {
      "text/plain": "   food_positive  service_positive  ambient_positive  price_positive  \\\n0              1                 1                 0               0   \n1              1                 0                 0               0   \n4              1                 0                 1               0   \n\n   waiting_positive  rating  \\\n0                 0     5.0   \n1                 0     4.0   \n4                 0     5.0   \n\n                                                                                      caption  \n0  abstand leckerst pizza halb abends mitnehmen bestellen positiv emotion einfach niederknien  \n1                                                                              chicken pizzas  \n4                                                                   leck pizz cool atmosphäre  ",
      "text/html": "<div>\n<style scoped>\n    .dataframe tbody tr th:only-of-type {\n        vertical-align: middle;\n    }\n\n    .dataframe tbody tr th {\n        vertical-align: top;\n    }\n\n    .dataframe thead th {\n        text-align: right;\n    }\n</style>\n<table border=\"1\" class=\"dataframe\">\n  <thead>\n    <tr style=\"text-align: right;\">\n      <th></th>\n      <th>food_positive</th>\n      <th>service_positive</th>\n      <th>ambient_positive</th>\n      <th>price_positive</th>\n      <th>waiting_positive</th>\n      <th>rating</th>\n      <th>caption</th>\n    </tr>\n  </thead>\n  <tbody>\n    <tr>\n      <th>0</th>\n      <td>1</td>\n      <td>1</td>\n      <td>0</td>\n      <td>0</td>\n      <td>0</td>\n      <td>5.0</td>\n      <td>abstand leckerst pizza halb abends mitnehmen bestellen positiv emotion einfach niederknien</td>\n    </tr>\n    <tr>\n      <th>1</th>\n      <td>1</td>\n      <td>0</td>\n      <td>0</td>\n      <td>0</td>\n      <td>0</td>\n      <td>4.0</td>\n      <td>chicken pizzas</td>\n    </tr>\n    <tr>\n      <th>4</th>\n      <td>1</td>\n      <td>0</td>\n      <td>1</td>\n      <td>0</td>\n      <td>0</td>\n      <td>5.0</td>\n      <td>leck pizz cool atmosphäre</td>\n    </tr>\n  </tbody>\n</table>\n</div>"
     },
     "execution_count": 225,
     "metadata": {},
     "output_type": "execute_result"
    }
   ],
   "source": [
    "df.head(3)"
   ],
   "metadata": {
    "collapsed": false,
    "pycharm": {
     "name": "#%%\n"
    }
   }
  },
  {
   "cell_type": "code",
   "execution_count": 226,
   "id": "76ce30dc",
   "metadata": {
    "pycharm": {
     "name": "#%%\n"
    }
   },
   "outputs": [],
   "source": [
    "df.to_csv(REVIEWS_CLEANED_FILE_PATH, sep=';')"
   ]
  }
 ],
 "metadata": {
  "kernelspec": {
   "display_name": "Python 3 (ipykernel)",
   "language": "python",
   "name": "python3"
  },
  "language_info": {
   "codemirror_mode": {
    "name": "ipython",
    "version": 3
   },
   "file_extension": ".py",
   "mimetype": "text/x-python",
   "name": "python",
   "nbconvert_exporter": "python",
   "pygments_lexer": "ipython3",
   "version": "3.9.16"
  }
 },
 "nbformat": 4,
 "nbformat_minor": 5
}