{
 "cells": [
  {
   "cell_type": "code",
   "execution_count": 256,
   "id": "16b972cf",
   "metadata": {},
   "outputs": [],
   "source": [
    "import pandas as pd\n",
    "import re\n",
    "import string\n",
    "from spacy.lang.de.stop_words import STOP_WORDS\n",
    "# Spacy\n",
    "import spacy"
   ]
  },
  {
   "cell_type": "code",
   "execution_count": 257,
   "outputs": [],
   "source": [
    "pd.set_option('display.max_colwidth', None)\n",
    "nlp = spacy.load('de_core_news_md')"
   ],
   "metadata": {
    "collapsed": false,
    "pycharm": {
     "name": "#%%\n"
    }
   }
  },
  {
   "cell_type": "code",
   "execution_count": 258,
   "id": "dfd0d75b",
   "metadata": {},
   "outputs": [],
   "source": [
    "df = pd.read_csv('data/reviews.csv', sep=';')"
   ]
  },
  {
   "cell_type": "code",
   "execution_count": 259,
   "id": "3b3694fe",
   "metadata": {},
   "outputs": [
    {
     "data": {
      "text/plain": "                                                                                                                                              caption  \\\n0  Die mit Abstand leckerste Pizza in Deutschland, und das selbst wenn man sie um halb 10 abends zum mitnehmen bestellt :) Einfach zum niederknien! …   \n4                                      Good place to dine in! Sadly no chicken pizzas available.  Do keep in mind the waiting time when you visit✌🏻 …   \n5                                                                                                            This is the must try pizza in Frankfurt.   \n\n   rating                   timestamp  \n0     5.0  2023-02-15 22:10:07.146586  \n4     4.0  2023-02-14 00:10:07.146703  \n5     5.0  2023-02-14 00:10:07.146705  ",
      "text/html": "<div>\n<style scoped>\n    .dataframe tbody tr th:only-of-type {\n        vertical-align: middle;\n    }\n\n    .dataframe tbody tr th {\n        vertical-align: top;\n    }\n\n    .dataframe thead th {\n        text-align: right;\n    }\n</style>\n<table border=\"1\" class=\"dataframe\">\n  <thead>\n    <tr style=\"text-align: right;\">\n      <th></th>\n      <th>caption</th>\n      <th>rating</th>\n      <th>timestamp</th>\n    </tr>\n  </thead>\n  <tbody>\n    <tr>\n      <th>0</th>\n      <td>Die mit Abstand leckerste Pizza in Deutschland, und das selbst wenn man sie um halb 10 abends zum mitnehmen bestellt :) Einfach zum niederknien! …</td>\n      <td>5.0</td>\n      <td>2023-02-15 22:10:07.146586</td>\n    </tr>\n    <tr>\n      <th>4</th>\n      <td>Good place to dine in! Sadly no chicken pizzas available.  Do keep in mind the waiting time when you visit✌🏻 …</td>\n      <td>4.0</td>\n      <td>2023-02-14 00:10:07.146703</td>\n    </tr>\n    <tr>\n      <th>5</th>\n      <td>This is the must try pizza in Frankfurt.</td>\n      <td>5.0</td>\n      <td>2023-02-14 00:10:07.146705</td>\n    </tr>\n  </tbody>\n</table>\n</div>"
     },
     "execution_count": 259,
     "metadata": {},
     "output_type": "execute_result"
    }
   ],
   "source": [
    "# Remove NaN caption \n",
    "df = df.loc[~df['caption'].isnull(), ['caption', 'rating', 'timestamp']]\n",
    "df.reset_index(drop=True)\n",
    "df.head(3)"
   ]
  },
  {
   "cell_type": "code",
   "execution_count": 260,
   "id": "200e5b9c",
   "metadata": {},
   "outputs": [
    {
     "data": {
      "text/plain": "                                                                                                                                              caption  \\\n0  Die mit Abstand leckerste Pizza in Deutschland, und das selbst wenn man sie um halb 10 abends zum mitnehmen bestellt :) Einfach zum niederknien! …   \n4                                      Good place to dine in! Sadly no chicken pizzas available.  Do keep in mind the waiting time when you visit✌🏻 …   \n5                                                                                                            This is the must try pizza in Frankfurt.   \n\n   rating                   timestamp  \n0     5.0  2023-02-15 22:10:07.146586  \n4     4.0  2023-02-14 00:10:07.146703  \n5     5.0  2023-02-14 00:10:07.146705  ",
      "text/html": "<div>\n<style scoped>\n    .dataframe tbody tr th:only-of-type {\n        vertical-align: middle;\n    }\n\n    .dataframe tbody tr th {\n        vertical-align: top;\n    }\n\n    .dataframe thead th {\n        text-align: right;\n    }\n</style>\n<table border=\"1\" class=\"dataframe\">\n  <thead>\n    <tr style=\"text-align: right;\">\n      <th></th>\n      <th>caption</th>\n      <th>rating</th>\n      <th>timestamp</th>\n    </tr>\n  </thead>\n  <tbody>\n    <tr>\n      <th>0</th>\n      <td>Die mit Abstand leckerste Pizza in Deutschland, und das selbst wenn man sie um halb 10 abends zum mitnehmen bestellt :) Einfach zum niederknien! …</td>\n      <td>5.0</td>\n      <td>2023-02-15 22:10:07.146586</td>\n    </tr>\n    <tr>\n      <th>4</th>\n      <td>Good place to dine in! Sadly no chicken pizzas available.  Do keep in mind the waiting time when you visit✌🏻 …</td>\n      <td>4.0</td>\n      <td>2023-02-14 00:10:07.146703</td>\n    </tr>\n    <tr>\n      <th>5</th>\n      <td>This is the must try pizza in Frankfurt.</td>\n      <td>5.0</td>\n      <td>2023-02-14 00:10:07.146705</td>\n    </tr>\n  </tbody>\n</table>\n</div>"
     },
     "execution_count": 260,
     "metadata": {},
     "output_type": "execute_result"
    }
   ],
   "source": [
    "# Remove the section translated by google if present\n",
    "df['caption'] = df['caption'].str.split('(Translated by Google)').str[0]\n",
    "df.head(3)"
   ]
  },
  {
   "cell_type": "code",
   "execution_count": 261,
   "outputs": [
    {
     "name": "stdout",
     "output_type": "stream",
     "text": [
      "{'nahm', 'währenddem', 'darin', 'solchem', 'so', 'vierte', 'zweiter', 'demgemäß', 'gehen', 'zehnter', 'heute', 'wollen', 'sollte', 'en', 'dahin', 'derjenigen', 'über', 'eigenes', 'bekannt', 'konnte', 'beim', 'du', 'besser', 'ins', 'vom', 'mancher', 'sechstes', 'daß', 'ganz', 'muss', 'sollen', 'deswegen', 'wollt', 'dein', 'ihres', 'gedurft', 'gesagt', 'seitdem', 'deren', 'machen', 'recht', 'die', 'mussten', 'dort', 'seiner', 'lang', 'zusammen', 'dritte', 'sei', 'nein', 'na', 'noch', 'wart', 'man', 'wo', 'indem', 'uhr', 'gekannt', 'eines', 'wohl', 'achtes', 'einiger', 'den', 'werden', 'großen', 'zehnte', 'gleich', 'wirklich', 'dieselbe', 'besten', 'siebentes', 'acht', 'weiteres', 'statt', 'aus', 'tage', 'sonst', 'keinen', 'zeit', 'offen', 'weniger', 'zum', 'durfte', 'dafür', 'nachdem', 'solcher', 'derjenige', 'siebter', 'oben', 'mir', 'siebten', 'einem', 'leider', 'nie', 'tel', 'mein', 'hier', 'konnten', 'ohne', 'sowie', 'jedem', 'genug', 'meines', 'erster', 'wie', 'eben', 'damit', 'zurück', 'einer', 'vierten', 'jahren', 'los', 'ihre', 'dich', 'jahr', 'könnte', 'darunter', 'allgemeinen', 'immer', 'allen', 'ging', 'zweite', 'einander', 'dazu', 'mochten', 'richtig', 'kommt', 'endlich', 'also', 'bald', 'daselbst', 'sechs', 'ja', 'zweites', 'ganze', 'satt', 'sieben', 'siebte', 'keine', 'zwischen', 'hat', 'tat', 'hinter', 'etwas', 'damals', 'außerdem', 'achte', 'gegen', 'schon', 'jenem', 'welche', 'meine', 'gab', 'geht', 'viel', 'gerade', 'deshalb', 'welcher', 'neunter', 'dagegen', 'machte', 'solches', 'rechter', 'hoch', 'währenddessen', 'dieselben', 'anders', 'kaum', 'unserer', 'sechsten', 'her', 'fünften', 'kleines', 'dem', 'rechtes', 'dadurch', 'kurz', 'euch', 'geworden', 'das', 'bereits', 'beispiel', 'nichts', 'ersten', 'wir', 'demgegenüber', 'gern', 'vielem', 'für', 'derselbe', 'ausserdem', 'allerdings', 'durchaus', 'sein', 'je', 'natürlich', 'niemanden', 'kleinen', 'wollte', 'gross', 'vergangenen', 'kein', 'siebenten', 'aller', 'muß', 'sechster', 'wann', 'seine', 'worden', 'kleiner', 'erst', 'ganzer', 'zur', 'können', 'seid', 'nur', 'mochte', 'vierter', 'meinem', 'infolgedessen', 'alles', 'der', 'gemacht', 'vergangene', 'jenes', 'grosser', 'tag', 'früher', 'jetzt', 'weitere', 'ihn', 'sechste', 'sehr', 'warum', 'neue', 'keinem', 'allein', 'müssen', 'dürfen', 'neunte', 'dies', 'weiter', 'ist', 'wieder', 'fünfte', 'leicht', 'will', 'zwanzig', 'manchen', 'als', 'denn', 'es', 'hin', 'ihnen', 'großes', 'später', 'macht', 'dasselbe', 'in', 'neuntes', 'oder', 'wem', 'ich', 'hatten', 'unter', 'fünfter', 'jemandem', 'zu', 'wen', 'eine', 'am', 'wenig', 'lange', 'ag', 'musst', 'zehntes', 'sah', 'ganzen', 'unser', 'zwei', 'denen', 'seinem', 'ebenso', 'achter', 'einige', 'er', 'diesem', 'bist', 'zugleich', 'jedermanns', 'danach', 'deiner', 'anderen', 'würde', 'tun', 'wenn', 'durch', 'dermaßen', 'mögen', 'jemand', 'an', 'gewollt', 'keiner', 'magst', 'seit', 'eigen', 'gewesen', 'denselben', 'mich', 'wahr', 'welches', 'demselben', 'desselben', 'heißt', 'hatte', 'bin', 'einmaleins', 'bis', 'manche', 'zweiten', 'überhaupt', 'solang', 'gute', 'meinen', 'neuen', 'wurde', 'tagen', 'weiteren', 'gemusst', 'ach', 'guter', 'jede', 'aber', 'dabei', 'im', 'jemanden', 'waren', 'nun', 'morgen', 'von', 'jenen', 'neun', 'viertes', 'übrigens', 'ihren', 'ausser', 'darfst', 'bisher', 'manches', 'einen', 'gibt', 'entweder', 'demgemäss', 'seinen', 'schlecht', 'andern', 'außer', 'kommen', 'mögt', 'bei', 'weit', 'sagt', 'siebente', 'trotzdem', 'wessen', 'zwar', 'darf', 'sagte', 'uns', 'elf', 'was', 'manchem', 'heisst', 'sollten', 'dürft', 'einiges', 'siebenter', 'beiden', 'davor', 'a', 'rechten', 'gegenüber', 'hast', 'ein', 'neben', 'jeden', 'niemandem', 'eigene', 'jedermann', 'diese', 'werdet', 'nach', 'des', 'wirst', 'groß', 'alle', 'sondern', 'davon', 'deine', 'zuerst', 'vielen', 'deinem', 'musste', 'eigener', 'allem', 'dritten', 'grosse', 'ihm', 'möchte', 'neunten', 'könnt', 'vielleicht', 'diejenigen', 'da', 'dermassen', 'kleine', 'zunächst', 'und', 'wegen', 'große', 'viele', 'erste', 'daraus', 'kam', 'werde', 'doch', 'mag', 'auch', 'seien', 'gut', 'daneben', 'irgend', 'rechte', 'selbst', 'wenige', 'achten', 'beide', 'jeder', 'demzufolge', 'niemand', 'willst', 'dann', 'darüber', 'rund', 'war', 'wer', 'daran', 'ende', 'dementsprechend', 'durften', 'fünftes', 'drittes', 'jene', 'haben', 'dank', 'grosses', 'derselben', 'einigen', 'teil', 'welchen', 'dasein', 'möglich', 'dass', 'wäre', 'jedoch', 'ob', 'auf', 'großer', 'fünf', 'habt', 'darauf', 'ganzes', 'ihr', 'weniges', 'wird', 'darum', 'anderem', 'gemocht', 'dritter', 'dazwischen', 'meiner', 'wollten', 'müsst', 'diesen', 'wenigstens', 'diejenige', 'ehrlich', 'wurden', 'etwa', 'vier', 'grossen', 'sich', 'um', 'gekonnt', 'mittel', 'habe', 'weil', 'dieses', 'erstes', 'drin', 'dieser', 'hätte', 'dessen', 'jahre', 'gutes', 'daher', 'siebtes', 'nicht', 'zehnten', 'geschweige', 'welchem', 'á', 'unsere', 'vor', 'kann', 'dahinter', 'drei', 'gehabt', 'andere', 'jener', 'gar', 'ihrer', 'kannst', 'hätten', 'einmal', 'seines', 'oft', 'besonders', 'sind', 'soll', 'solchen', 'würden', 'solche', 'lieber', 'mehr', 'dir', 'sie', 'während', 'zehn', 'mit', 'ab', 'eigenen', 'ihrem'}\n"
     ]
    }
   ],
   "source": [
    "print (STOP_WORDS)"
   ],
   "metadata": {
    "collapsed": false,
    "pycharm": {
     "name": "#%%\n"
    }
   }
  },
  {
   "cell_type": "code",
   "execution_count": 262,
   "outputs": [
    {
     "data": {
      "text/plain": "                                                                                                                                              caption  \\\n0  Die mit Abstand leckerste Pizza in Deutschland, und das selbst wenn man sie um halb 10 abends zum mitnehmen bestellt :) Einfach zum niederknien! …   \n4                                      Good place to dine in! Sadly no chicken pizzas available.  Do keep in mind the waiting time when you visit✌🏻 …   \n5                                                                                                            This is the must try pizza in Frankfurt.   \n6                                                                                                                        5/5 Pizza place in Frankfurt   \n7                                                                                                          Leckere Pizzen und coole Atmosphäre. 👍🏼  (   \n\n                                                                                caption_clean  \\\n0  abstand leckerst pizza halb abends mitnehmen bestellen positiv emotion einfach niederknien   \n4                                                                              chicken pizzas   \n5                                                                                               \n6                                                                                               \n7                                                                   leck pizz cool atmosphäre   \n\n   rating  \n0     5.0  \n4     4.0  \n5     5.0  \n6     5.0  \n7     5.0  ",
      "text/html": "<div>\n<style scoped>\n    .dataframe tbody tr th:only-of-type {\n        vertical-align: middle;\n    }\n\n    .dataframe tbody tr th {\n        vertical-align: top;\n    }\n\n    .dataframe thead th {\n        text-align: right;\n    }\n</style>\n<table border=\"1\" class=\"dataframe\">\n  <thead>\n    <tr style=\"text-align: right;\">\n      <th></th>\n      <th>caption</th>\n      <th>caption_clean</th>\n      <th>rating</th>\n    </tr>\n  </thead>\n  <tbody>\n    <tr>\n      <th>0</th>\n      <td>Die mit Abstand leckerste Pizza in Deutschland, und das selbst wenn man sie um halb 10 abends zum mitnehmen bestellt :) Einfach zum niederknien! …</td>\n      <td>abstand leckerst pizza halb abends mitnehmen bestellen positiv emotion einfach niederknien</td>\n      <td>5.0</td>\n    </tr>\n    <tr>\n      <th>4</th>\n      <td>Good place to dine in! Sadly no chicken pizzas available.  Do keep in mind the waiting time when you visit✌🏻 …</td>\n      <td>chicken pizzas</td>\n      <td>4.0</td>\n    </tr>\n    <tr>\n      <th>5</th>\n      <td>This is the must try pizza in Frankfurt.</td>\n      <td></td>\n      <td>5.0</td>\n    </tr>\n    <tr>\n      <th>6</th>\n      <td>5/5 Pizza place in Frankfurt</td>\n      <td></td>\n      <td>5.0</td>\n    </tr>\n    <tr>\n      <th>7</th>\n      <td>Leckere Pizzen und coole Atmosphäre. 👍🏼  (</td>\n      <td>leck pizz cool atmosphäre</td>\n      <td>5.0</td>\n    </tr>\n  </tbody>\n</table>\n</div>"
     },
     "execution_count": 262,
     "metadata": {},
     "output_type": "execute_result"
    }
   ],
   "source": [
    "REGX_USERNAME = r\"@[A-Za-z0-9$-_@.&+]+\"\n",
    "REGX_URL = r\"https?://[A-Za-z0-9./]+\"\n",
    "def preprocessing(text):\n",
    "    text = text.lower()\n",
    "\n",
    "    # Remove\n",
    "    text = re.sub(REGX_USERNAME, ' ', text)\n",
    "    text = re.sub(REGX_URL, ' ', text)\n",
    "\n",
    "    # Replace Emojis\n",
    "    emojis = {\n",
    "        ':)': 'positive emotionen',\n",
    "        ':(': 'negative emotionen'\n",
    "    }\n",
    "\n",
    "    for e in emojis:\n",
    "        text = text.replace(e, emojis[e])\n",
    "\n",
    "    tokens = [token.text for token in nlp(text)]\n",
    "\n",
    "    # Remove Stop Words, punctuations and words with less than 3 characters\n",
    "    tokens = [t for t in tokens if\n",
    "              t not in STOP_WORDS and\n",
    "              t not in string.punctuation and\n",
    "              len(t) > 3]\n",
    "\n",
    "    tokens = [t for t in tokens if not t.isdigit()]\n",
    "\n",
    "    text = \" \".join(tokens);\n",
    "\n",
    "    # Lemmatization\n",
    "    allowed_postags = [\"NOUN\", \"ADJ\", \"VERB\", \"ADV\"]\n",
    "    doc = nlp(text)\n",
    "    new_text = []\n",
    "    for token in doc:\n",
    "        if token.pos_ in allowed_postags:\n",
    "            new_text.append(token.lemma_)\n",
    "    lemmatized = \" \".join(new_text).lower()\n",
    "\n",
    "    return lemmatized\n",
    "\n",
    "df[\"caption_clean\"] = df[\"caption\"].apply(preprocessing)\n",
    "df[['caption', 'caption_clean', 'rating']].head()"
   ],
   "metadata": {
    "collapsed": false,
    "pycharm": {
     "name": "#%%\n"
    }
   }
  },
  {
   "cell_type": "code",
   "execution_count": 263,
   "outputs": [
    {
     "data": {
      "text/plain": "                                                                                        caption  \\\n0    abstand leckerst pizza halb abends mitnehmen bestellen positiv emotion einfach niederknien   \n1                                                                                chicken pizzas   \n2                                                                                                 \n3                                                                                                 \n4                                                                     leck pizz cool atmosphäre   \n..                                                                                          ...   \n323                      pizza empfehlen nett zuvorkommend service voll haus öfters pizza essen   \n324                                                                        leck pizza toll team   \n325                                                                                               \n326                                                                                    favorite   \n327                                 leck pizza schaffen rest mitnehmen bitte selber einpacken:-   \n\n     rating                   timestamp  \n0       5.0  2023-02-15 22:10:07.146586  \n1       4.0  2023-02-14 00:10:07.146703  \n2       5.0  2023-02-14 00:10:07.146705  \n3       5.0  2023-02-14 00:10:07.146707  \n4       5.0  2023-02-13 00:10:07.146710  \n..      ...                         ...  \n323     5.0  2022-02-16 00:17:55.409988  \n324     4.0  2022-02-16 00:17:55.410018  \n325     5.0  2022-02-16 00:17:55.410048  \n326     5.0  2022-02-16 00:17:55.410078  \n327     4.0  2022-02-16 00:17:55.410108  \n\n[328 rows x 3 columns]",
      "text/html": "<div>\n<style scoped>\n    .dataframe tbody tr th:only-of-type {\n        vertical-align: middle;\n    }\n\n    .dataframe tbody tr th {\n        vertical-align: top;\n    }\n\n    .dataframe thead th {\n        text-align: right;\n    }\n</style>\n<table border=\"1\" class=\"dataframe\">\n  <thead>\n    <tr style=\"text-align: right;\">\n      <th></th>\n      <th>caption</th>\n      <th>rating</th>\n      <th>timestamp</th>\n    </tr>\n  </thead>\n  <tbody>\n    <tr>\n      <th>0</th>\n      <td>abstand leckerst pizza halb abends mitnehmen bestellen positiv emotion einfach niederknien</td>\n      <td>5.0</td>\n      <td>2023-02-15 22:10:07.146586</td>\n    </tr>\n    <tr>\n      <th>1</th>\n      <td>chicken pizzas</td>\n      <td>4.0</td>\n      <td>2023-02-14 00:10:07.146703</td>\n    </tr>\n    <tr>\n      <th>2</th>\n      <td></td>\n      <td>5.0</td>\n      <td>2023-02-14 00:10:07.146705</td>\n    </tr>\n    <tr>\n      <th>3</th>\n      <td></td>\n      <td>5.0</td>\n      <td>2023-02-14 00:10:07.146707</td>\n    </tr>\n    <tr>\n      <th>4</th>\n      <td>leck pizz cool atmosphäre</td>\n      <td>5.0</td>\n      <td>2023-02-13 00:10:07.146710</td>\n    </tr>\n    <tr>\n      <th>...</th>\n      <td>...</td>\n      <td>...</td>\n      <td>...</td>\n    </tr>\n    <tr>\n      <th>323</th>\n      <td>pizza empfehlen nett zuvorkommend service voll haus öfters pizza essen</td>\n      <td>5.0</td>\n      <td>2022-02-16 00:17:55.409988</td>\n    </tr>\n    <tr>\n      <th>324</th>\n      <td>leck pizza toll team</td>\n      <td>4.0</td>\n      <td>2022-02-16 00:17:55.410018</td>\n    </tr>\n    <tr>\n      <th>325</th>\n      <td></td>\n      <td>5.0</td>\n      <td>2022-02-16 00:17:55.410048</td>\n    </tr>\n    <tr>\n      <th>326</th>\n      <td>favorite</td>\n      <td>5.0</td>\n      <td>2022-02-16 00:17:55.410078</td>\n    </tr>\n    <tr>\n      <th>327</th>\n      <td>leck pizza schaffen rest mitnehmen bitte selber einpacken:-</td>\n      <td>4.0</td>\n      <td>2022-02-16 00:17:55.410108</td>\n    </tr>\n  </tbody>\n</table>\n<p>328 rows × 3 columns</p>\n</div>"
     },
     "execution_count": 263,
     "metadata": {},
     "output_type": "execute_result"
    }
   ],
   "source": [
    "# renaming dataset columns, grabbing only the cleaned captions\n",
    "df = df[['caption_clean', 'rating', 'timestamp']]\n",
    "df = df.rename(columns={\"caption_clean\": \"caption\"})\n",
    "df.reset_index(drop=True)"
   ],
   "metadata": {
    "collapsed": false,
    "pycharm": {
     "name": "#%%\n"
    }
   }
  },
  {
   "cell_type": "code",
   "execution_count": 264,
   "outputs": [],
   "source": [
    "# Remove null & empty values once again for 'caption_clean' column\n",
    "df = df.loc[~df['caption'].isnull(), ['caption', 'rating', 'timestamp']]\n",
    "df = df[df['caption'].str.strip().astype(bool)]"
   ],
   "metadata": {
    "collapsed": false,
    "pycharm": {
     "name": "#%%\n"
    }
   }
  },
  {
   "cell_type": "code",
   "execution_count": 265,
   "outputs": [
    {
     "data": {
      "text/plain": "0      abstand leckerst pizza halb abends mitnehmen bestellen positiv emotion einfach niederknien\n4                                                                                  chicken pizzas\n7                                                                       leck pizz cool atmosphäre\n11                                                                       extrem lecker empfehlung\n13                                                                          gut pizza authentisch\n                                                  ...                                            \n493                                                                    essen super lecker service\n495                        pizza empfehlen nett zuvorkommend service voll haus öfters pizza essen\n496                                                                          leck pizza toll team\n498                                                                                      favorite\n499                                   leck pizza schaffen rest mitnehmen bitte selber einpacken:-\nName: caption, Length: 236, dtype: object"
     },
     "execution_count": 265,
     "metadata": {},
     "output_type": "execute_result"
    }
   ],
   "source": [
    "df['caption']"
   ],
   "metadata": {
    "collapsed": false,
    "pycharm": {
     "name": "#%%\n"
    }
   }
  },
  {
   "cell_type": "code",
   "execution_count": 266,
   "id": "76ce30dc",
   "metadata": {
    "pycharm": {
     "name": "#%%\n"
    }
   },
   "outputs": [],
   "source": [
    "df.to_csv('data/reviews-clean.csv', sep=';')"
   ]
  }
 ],
 "metadata": {
  "kernelspec": {
   "display_name": "Python 3 (ipykernel)",
   "language": "python",
   "name": "python3"
  },
  "language_info": {
   "codemirror_mode": {
    "name": "ipython",
    "version": 3
   },
   "file_extension": ".py",
   "mimetype": "text/x-python",
   "name": "python",
   "nbconvert_exporter": "python",
   "pygments_lexer": "ipython3",
   "version": "3.9.16"
  }
 },
 "nbformat": 4,
 "nbformat_minor": 5
}