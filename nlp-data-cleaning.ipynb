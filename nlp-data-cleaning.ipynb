{
 "cells": [
  {
   "cell_type": "code",
   "execution_count": 21,
   "id": "16b972cf",
   "metadata": {},
   "outputs": [],
   "source": [
    "import pandas as pd\n",
    "pd.set_option('display.max_colwidth', None)"
   ]
  },
  {
   "cell_type": "code",
   "execution_count": 22,
   "id": "dfd0d75b",
   "metadata": {},
   "outputs": [],
   "source": [
    "df = pd.read_csv('data/reviews.csv', sep=';')"
   ]
  },
  {
   "cell_type": "code",
   "execution_count": 23,
   "id": "3b3694fe",
   "metadata": {},
   "outputs": [
    {
     "data": {
      "text/plain": "                                                                                                                                              caption  \\\n0  Die mit Abstand leckerste Pizza in Deutschland, und das selbst wenn man sie um halb 10 abends zum mitnehmen bestellt :) Einfach zum niederknien! …   \n4                                      Good place to dine in! Sadly no chicken pizzas available.  Do keep in mind the waiting time when you visit✌🏻 …   \n5                                                                                                            This is the must try pizza in Frankfurt.   \n\n   rating                   timestamp  \n0     5.0  2023-02-15 22:10:07.146586  \n4     4.0  2023-02-14 00:10:07.146703  \n5     5.0  2023-02-14 00:10:07.146705  ",
      "text/html": "<div>\n<style scoped>\n    .dataframe tbody tr th:only-of-type {\n        vertical-align: middle;\n    }\n\n    .dataframe tbody tr th {\n        vertical-align: top;\n    }\n\n    .dataframe thead th {\n        text-align: right;\n    }\n</style>\n<table border=\"1\" class=\"dataframe\">\n  <thead>\n    <tr style=\"text-align: right;\">\n      <th></th>\n      <th>caption</th>\n      <th>rating</th>\n      <th>timestamp</th>\n    </tr>\n  </thead>\n  <tbody>\n    <tr>\n      <th>0</th>\n      <td>Die mit Abstand leckerste Pizza in Deutschland, und das selbst wenn man sie um halb 10 abends zum mitnehmen bestellt :) Einfach zum niederknien! …</td>\n      <td>5.0</td>\n      <td>2023-02-15 22:10:07.146586</td>\n    </tr>\n    <tr>\n      <th>4</th>\n      <td>Good place to dine in! Sadly no chicken pizzas available.  Do keep in mind the waiting time when you visit✌🏻 …</td>\n      <td>4.0</td>\n      <td>2023-02-14 00:10:07.146703</td>\n    </tr>\n    <tr>\n      <th>5</th>\n      <td>This is the must try pizza in Frankfurt.</td>\n      <td>5.0</td>\n      <td>2023-02-14 00:10:07.146705</td>\n    </tr>\n  </tbody>\n</table>\n</div>"
     },
     "execution_count": 23,
     "metadata": {},
     "output_type": "execute_result"
    }
   ],
   "source": [
    "# Remove NaN caption \n",
    "df = df.loc[~df['caption'].isnull(), ['caption', 'rating', 'timestamp']]\n",
    "df.reset_index(drop=True)\n",
    "df.head(3)"
   ]
  },
  {
   "cell_type": "code",
   "execution_count": 24,
   "id": "200e5b9c",
   "metadata": {},
   "outputs": [
    {
     "data": {
      "text/plain": "                                                                                                                                              caption  \\\n0  Die mit Abstand leckerste Pizza in Deutschland, und das selbst wenn man sie um halb 10 abends zum mitnehmen bestellt :) Einfach zum niederknien! …   \n4                                      Good place to dine in! Sadly no chicken pizzas available.  Do keep in mind the waiting time when you visit✌🏻 …   \n5                                                                                                            This is the must try pizza in Frankfurt.   \n\n   rating                   timestamp  \n0     5.0  2023-02-15 22:10:07.146586  \n4     4.0  2023-02-14 00:10:07.146703  \n5     5.0  2023-02-14 00:10:07.146705  ",
      "text/html": "<div>\n<style scoped>\n    .dataframe tbody tr th:only-of-type {\n        vertical-align: middle;\n    }\n\n    .dataframe tbody tr th {\n        vertical-align: top;\n    }\n\n    .dataframe thead th {\n        text-align: right;\n    }\n</style>\n<table border=\"1\" class=\"dataframe\">\n  <thead>\n    <tr style=\"text-align: right;\">\n      <th></th>\n      <th>caption</th>\n      <th>rating</th>\n      <th>timestamp</th>\n    </tr>\n  </thead>\n  <tbody>\n    <tr>\n      <th>0</th>\n      <td>Die mit Abstand leckerste Pizza in Deutschland, und das selbst wenn man sie um halb 10 abends zum mitnehmen bestellt :) Einfach zum niederknien! …</td>\n      <td>5.0</td>\n      <td>2023-02-15 22:10:07.146586</td>\n    </tr>\n    <tr>\n      <th>4</th>\n      <td>Good place to dine in! Sadly no chicken pizzas available.  Do keep in mind the waiting time when you visit✌🏻 …</td>\n      <td>4.0</td>\n      <td>2023-02-14 00:10:07.146703</td>\n    </tr>\n    <tr>\n      <th>5</th>\n      <td>This is the must try pizza in Frankfurt.</td>\n      <td>5.0</td>\n      <td>2023-02-14 00:10:07.146705</td>\n    </tr>\n  </tbody>\n</table>\n</div>"
     },
     "execution_count": 24,
     "metadata": {},
     "output_type": "execute_result"
    }
   ],
   "source": [
    "# Remove the section translated by google if present\n",
    "df['caption'] = df['caption'].str.split('(Translated by Google)').str[0]\n",
    "df.head(3)"
   ]
  },
  {
   "cell_type": "code",
   "execution_count": 25,
   "id": "76ce30dc",
   "metadata": {},
   "outputs": [],
   "source": [
    "df.to_csv('data/reviews-clean.csv', sep=';')"
   ]
  },
  {
   "cell_type": "code",
   "execution_count": 25,
   "outputs": [],
   "source": [],
   "metadata": {
    "collapsed": false,
    "pycharm": {
     "name": "#%%\n"
    }
   }
  }
 ],
 "metadata": {
  "kernelspec": {
   "display_name": "Python 3 (ipykernel)",
   "language": "python",
   "name": "python3"
  },
  "language_info": {
   "codemirror_mode": {
    "name": "ipython",
    "version": 3
   },
   "file_extension": ".py",
   "mimetype": "text/x-python",
   "name": "python",
   "nbconvert_exporter": "python",
   "pygments_lexer": "ipython3",
   "version": "3.9.16"
  }
 },
 "nbformat": 4,
 "nbformat_minor": 5
}