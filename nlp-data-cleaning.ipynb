{
 "cells": [
  {
   "cell_type": "code",
   "execution_count": 1,
   "id": "16b972cf",
   "metadata": {},
   "outputs": [],
   "source": [
    "import pandas as pd\n",
    "import re\n",
    "import string\n",
    "from spacy.lang.de.stop_words import STOP_WORDS\n",
    "# Spacy\n",
    "import spacy"
   ]
  },
  {
   "cell_type": "code",
   "execution_count": 2,
   "outputs": [],
   "source": [
    "pd.set_option('display.max_colwidth', None)\n",
    "nlp = spacy.load('de_core_news_md')"
   ],
   "metadata": {
    "collapsed": false,
    "pycharm": {
     "name": "#%%\n"
    }
   }
  },
  {
   "cell_type": "code",
   "execution_count": 3,
   "id": "dfd0d75b",
   "metadata": {},
   "outputs": [],
   "source": [
    "REVIEWS_FILE_PATH = 'data/reviews_merged.csv'\n",
    "REVIEWS_CLEANED_FILE_PATH = 'data/reviews_merged_cleaned.csv'\n",
    "REVIEWS_CLEANED_UNLABELED_FILE_PATH = 'data/reviews_merged_unlabeled_cleaned.csv'\n",
    "\n",
    "df = pd.read_csv(REVIEWS_FILE_PATH, sep=';')"
   ]
  },
  {
   "cell_type": "code",
   "execution_count": 4,
   "outputs": [],
   "source": [
    "df.columns = ['caption',\n",
    "              'food_positive', 'food_negative',\n",
    "              'service_positive', 'service_negative',\n",
    "              'ambient_positive', 'ambient_negative',\n",
    "              'price_positive', 'price_negative',\n",
    "              'waiting_positive', 'waiting_negative',\n",
    "              'rating']"
   ],
   "metadata": {
    "collapsed": false,
    "pycharm": {
     "name": "#%%\n"
    }
   }
  },
  {
   "cell_type": "code",
   "execution_count": 5,
   "outputs": [
    {
     "data": {
      "text/plain": "                                                                                                                                                                                                                                                                                                                                                                                                                                                                      caption  \\\n0                                                                                                                                                                                                                                                                                           Mega cooles Ambiente und Konzept die Bürger sind auch geschmacklich sehr lecker. Man kann seiner Bürger individuelle auf seine Bedürfnisse anpassen ( Allergien/vegetarisch/Co) …   \n1                                                                                                                                                                                                                                                                                                                                Super sympathische Mitarbeiter, eine wirklich freundliche und gemütliche Atmosphäre und fantastisches Essen! Wir kommen ganz sicher öfter. …   \n2  DAS nenne ich Burger! Nicht so ein Schicki-Micki möchte gerne Burgerladen in Dortmund! *hüstel* Ein absoluter Kult! Maestro del Tozzi - ein Gedicht! Wann immer ich in der Gegend bin, Space Burger oder Lupo. Beides einfach Kult!  (Translated by Google) THAT'S what I call burgers! Not such a fancy mic would like a burger shop in Dortmund! *cough* An absolute cult! Maestro del Tozzi - a poem! Whenever I'm in the area, Space Burger or Lupo. Both simply cult!   \n\n   food_positive  food_negative  service_positive  service_negative  \\\n0              1              0                 0                 0   \n1              1              0                 1                 0   \n2              1              0                 0                 0   \n\n   ambient_positive  ambient_negative  price_positive  price_negative  \\\n0                 0                 0               0               0   \n1                 1                 0               0               0   \n2                 1                 0               0               0   \n\n   waiting_positive  waiting_negative  rating  \n0                 0                 0     4.0  \n1                 0                 0     5.0  \n2                 0                 0     5.0  ",
      "text/html": "<div>\n<style scoped>\n    .dataframe tbody tr th:only-of-type {\n        vertical-align: middle;\n    }\n\n    .dataframe tbody tr th {\n        vertical-align: top;\n    }\n\n    .dataframe thead th {\n        text-align: right;\n    }\n</style>\n<table border=\"1\" class=\"dataframe\">\n  <thead>\n    <tr style=\"text-align: right;\">\n      <th></th>\n      <th>caption</th>\n      <th>food_positive</th>\n      <th>food_negative</th>\n      <th>service_positive</th>\n      <th>service_negative</th>\n      <th>ambient_positive</th>\n      <th>ambient_negative</th>\n      <th>price_positive</th>\n      <th>price_negative</th>\n      <th>waiting_positive</th>\n      <th>waiting_negative</th>\n      <th>rating</th>\n    </tr>\n  </thead>\n  <tbody>\n    <tr>\n      <th>0</th>\n      <td>Mega cooles Ambiente und Konzept die Bürger sind auch geschmacklich sehr lecker. Man kann seiner Bürger individuelle auf seine Bedürfnisse anpassen ( Allergien/vegetarisch/Co) …</td>\n      <td>1</td>\n      <td>0</td>\n      <td>0</td>\n      <td>0</td>\n      <td>0</td>\n      <td>0</td>\n      <td>0</td>\n      <td>0</td>\n      <td>0</td>\n      <td>0</td>\n      <td>4.0</td>\n    </tr>\n    <tr>\n      <th>1</th>\n      <td>Super sympathische Mitarbeiter, eine wirklich freundliche und gemütliche Atmosphäre und fantastisches Essen! Wir kommen ganz sicher öfter. …</td>\n      <td>1</td>\n      <td>0</td>\n      <td>1</td>\n      <td>0</td>\n      <td>1</td>\n      <td>0</td>\n      <td>0</td>\n      <td>0</td>\n      <td>0</td>\n      <td>0</td>\n      <td>5.0</td>\n    </tr>\n    <tr>\n      <th>2</th>\n      <td>DAS nenne ich Burger! Nicht so ein Schicki-Micki möchte gerne Burgerladen in Dortmund! *hüstel* Ein absoluter Kult! Maestro del Tozzi - ein Gedicht! Wann immer ich in der Gegend bin, Space Burger oder Lupo. Beides einfach Kult!  (Translated by Google) THAT'S what I call burgers! Not such a fancy mic would like a burger shop in Dortmund! *cough* An absolute cult! Maestro del Tozzi - a poem! Whenever I'm in the area, Space Burger or Lupo. Both simply cult!</td>\n      <td>1</td>\n      <td>0</td>\n      <td>0</td>\n      <td>0</td>\n      <td>1</td>\n      <td>0</td>\n      <td>0</td>\n      <td>0</td>\n      <td>0</td>\n      <td>0</td>\n      <td>5.0</td>\n    </tr>\n  </tbody>\n</table>\n</div>"
     },
     "execution_count": 5,
     "metadata": {},
     "output_type": "execute_result"
    }
   ],
   "source": [
    "df.head(3)"
   ],
   "metadata": {
    "collapsed": false,
    "pycharm": {
     "name": "#%%\n"
    }
   }
  },
  {
   "cell_type": "code",
   "execution_count": 6,
   "id": "3b3694fe",
   "metadata": {},
   "outputs": [
    {
     "data": {
      "text/plain": "                                                                                                                                                                                                                                                                                                                                                                                                                                                                      caption  \\\n0                                                                                                                                                                                                                                                                                           Mega cooles Ambiente und Konzept die Bürger sind auch geschmacklich sehr lecker. Man kann seiner Bürger individuelle auf seine Bedürfnisse anpassen ( Allergien/vegetarisch/Co) …   \n1                                                                                                                                                                                                                                                                                                                                Super sympathische Mitarbeiter, eine wirklich freundliche und gemütliche Atmosphäre und fantastisches Essen! Wir kommen ganz sicher öfter. …   \n2  DAS nenne ich Burger! Nicht so ein Schicki-Micki möchte gerne Burgerladen in Dortmund! *hüstel* Ein absoluter Kult! Maestro del Tozzi - ein Gedicht! Wann immer ich in der Gegend bin, Space Burger oder Lupo. Beides einfach Kult!  (Translated by Google) THAT'S what I call burgers! Not such a fancy mic would like a burger shop in Dortmund! *cough* An absolute cult! Maestro del Tozzi - a poem! Whenever I'm in the area, Space Burger or Lupo. Both simply cult!   \n\n   food_positive  service_positive  ambient_positive  price_positive  \\\n0              1                 0                 0               0   \n1              1                 1                 1               0   \n2              1                 0                 1               0   \n\n   waiting_positive  rating  \n0                 0     4.0  \n1                 0     5.0  \n2                 0     5.0  ",
      "text/html": "<div>\n<style scoped>\n    .dataframe tbody tr th:only-of-type {\n        vertical-align: middle;\n    }\n\n    .dataframe tbody tr th {\n        vertical-align: top;\n    }\n\n    .dataframe thead th {\n        text-align: right;\n    }\n</style>\n<table border=\"1\" class=\"dataframe\">\n  <thead>\n    <tr style=\"text-align: right;\">\n      <th></th>\n      <th>caption</th>\n      <th>food_positive</th>\n      <th>service_positive</th>\n      <th>ambient_positive</th>\n      <th>price_positive</th>\n      <th>waiting_positive</th>\n      <th>rating</th>\n    </tr>\n  </thead>\n  <tbody>\n    <tr>\n      <th>0</th>\n      <td>Mega cooles Ambiente und Konzept die Bürger sind auch geschmacklich sehr lecker. Man kann seiner Bürger individuelle auf seine Bedürfnisse anpassen ( Allergien/vegetarisch/Co) …</td>\n      <td>1</td>\n      <td>0</td>\n      <td>0</td>\n      <td>0</td>\n      <td>0</td>\n      <td>4.0</td>\n    </tr>\n    <tr>\n      <th>1</th>\n      <td>Super sympathische Mitarbeiter, eine wirklich freundliche und gemütliche Atmosphäre und fantastisches Essen! Wir kommen ganz sicher öfter. …</td>\n      <td>1</td>\n      <td>1</td>\n      <td>1</td>\n      <td>0</td>\n      <td>0</td>\n      <td>5.0</td>\n    </tr>\n    <tr>\n      <th>2</th>\n      <td>DAS nenne ich Burger! Nicht so ein Schicki-Micki möchte gerne Burgerladen in Dortmund! *hüstel* Ein absoluter Kult! Maestro del Tozzi - ein Gedicht! Wann immer ich in der Gegend bin, Space Burger oder Lupo. Beides einfach Kult!  (Translated by Google) THAT'S what I call burgers! Not such a fancy mic would like a burger shop in Dortmund! *cough* An absolute cult! Maestro del Tozzi - a poem! Whenever I'm in the area, Space Burger or Lupo. Both simply cult!</td>\n      <td>1</td>\n      <td>0</td>\n      <td>1</td>\n      <td>0</td>\n      <td>0</td>\n      <td>5.0</td>\n    </tr>\n  </tbody>\n</table>\n</div>"
     },
     "execution_count": 6,
     "metadata": {},
     "output_type": "execute_result"
    }
   ],
   "source": [
    "# Remove NaN caption\n",
    "USEFUL_COLUMNS = ['caption',\n",
    "                  'food_positive', 'service_positive', 'ambient_positive', 'price_positive', 'waiting_positive', 'rating']\n",
    "df = df.loc[~df['caption'].isnull(), USEFUL_COLUMNS]\n",
    "df.reset_index(drop=True)\n",
    "df.head(3)"
   ]
  },
  {
   "cell_type": "code",
   "execution_count": 7,
   "id": "200e5b9c",
   "metadata": {},
   "outputs": [
    {
     "data": {
      "text/plain": "                                                                                                                                                                                                                                  caption  \\\n0                                                       Mega cooles Ambiente und Konzept die Bürger sind auch geschmacklich sehr lecker. Man kann seiner Bürger individuelle auf seine Bedürfnisse anpassen ( Allergien/vegetarisch/Co) …   \n1                                                                                            Super sympathische Mitarbeiter, eine wirklich freundliche und gemütliche Atmosphäre und fantastisches Essen! Wir kommen ganz sicher öfter. …   \n2  DAS nenne ich Burger! Nicht so ein Schicki-Micki möchte gerne Burgerladen in Dortmund! *hüstel* Ein absoluter Kult! Maestro del Tozzi - ein Gedicht! Wann immer ich in der Gegend bin, Space Burger oder Lupo. Beides einfach Kult!  (   \n\n   food_positive  service_positive  ambient_positive  price_positive  \\\n0              1                 0                 0               0   \n1              1                 1                 1               0   \n2              1                 0                 1               0   \n\n   waiting_positive  rating  \n0                 0     4.0  \n1                 0     5.0  \n2                 0     5.0  ",
      "text/html": "<div>\n<style scoped>\n    .dataframe tbody tr th:only-of-type {\n        vertical-align: middle;\n    }\n\n    .dataframe tbody tr th {\n        vertical-align: top;\n    }\n\n    .dataframe thead th {\n        text-align: right;\n    }\n</style>\n<table border=\"1\" class=\"dataframe\">\n  <thead>\n    <tr style=\"text-align: right;\">\n      <th></th>\n      <th>caption</th>\n      <th>food_positive</th>\n      <th>service_positive</th>\n      <th>ambient_positive</th>\n      <th>price_positive</th>\n      <th>waiting_positive</th>\n      <th>rating</th>\n    </tr>\n  </thead>\n  <tbody>\n    <tr>\n      <th>0</th>\n      <td>Mega cooles Ambiente und Konzept die Bürger sind auch geschmacklich sehr lecker. Man kann seiner Bürger individuelle auf seine Bedürfnisse anpassen ( Allergien/vegetarisch/Co) …</td>\n      <td>1</td>\n      <td>0</td>\n      <td>0</td>\n      <td>0</td>\n      <td>0</td>\n      <td>4.0</td>\n    </tr>\n    <tr>\n      <th>1</th>\n      <td>Super sympathische Mitarbeiter, eine wirklich freundliche und gemütliche Atmosphäre und fantastisches Essen! Wir kommen ganz sicher öfter. …</td>\n      <td>1</td>\n      <td>1</td>\n      <td>1</td>\n      <td>0</td>\n      <td>0</td>\n      <td>5.0</td>\n    </tr>\n    <tr>\n      <th>2</th>\n      <td>DAS nenne ich Burger! Nicht so ein Schicki-Micki möchte gerne Burgerladen in Dortmund! *hüstel* Ein absoluter Kult! Maestro del Tozzi - ein Gedicht! Wann immer ich in der Gegend bin, Space Burger oder Lupo. Beides einfach Kult!  (</td>\n      <td>1</td>\n      <td>0</td>\n      <td>1</td>\n      <td>0</td>\n      <td>0</td>\n      <td>5.0</td>\n    </tr>\n  </tbody>\n</table>\n</div>"
     },
     "execution_count": 7,
     "metadata": {},
     "output_type": "execute_result"
    }
   ],
   "source": [
    "# Remove the section translated by google if present\n",
    "df['caption'] = df['caption'].str.split('(Translated by Google)').str[0]\n",
    "df.head(3)"
   ]
  },
  {
   "cell_type": "code",
   "execution_count": 8,
   "outputs": [
    {
     "name": "stdout",
     "output_type": "stream",
     "text": [
      "{'deine', 'werde', 'vielem', 'infolgedessen', 'dem', 'na', 'davon', 'hätten', 'en', 'uhr', 'wurde', 'sechster', 'ehrlich', 'siebentes', 'welches', 'wann', 'tat', 'durften', 'dies', 'genug', 'hinter', 'drin', 'satt', 'unsere', 'damit', 'mögt', 'bereits', 'dann', 'übrigens', 'ausser', 'viele', 'denn', 'mir', 'neuntes', 'während', 'a', 'einiger', 'indem', 'keine', 'außerdem', 'jahre', 'dank', 'am', 'nun', 'gewollt', 'mancher', 'anderem', 'meinem', 'daran', 'jene', 'ebenso', 'keiner', 'drittes', 'dort', 'aus', 'heisst', 'jedem', 'an', 'ach', 'daraus', 'macht', 'kein', 'wie', 'demgegenüber', 'neun', 'gekonnt', 'also', 'zu', 'sein', 'dahinter', 'beide', 'wird', 'weiter', 'ihm', 'beispiel', 'ersten', 'ganze', 'recht', 'niemand', 'lang', 'hoch', 'rechte', 'konnten', 'darfst', 'dafür', 'deinem', 'achte', 'fünfter', 'siebten', 'darauf', 'können', 'wahr', 'wurden', 'zurück', 'den', 'achten', 'meiner', 'deiner', 'würde', 'würden', 'wem', 'kleinen', 'rechter', 'fünfte', 'einem', 'außer', 'ich', 'achter', 'je', 'vergangenen', 'will', 'zwischen', 'zweiten', 'hätte', 'magst', 'dadurch', 'gemacht', 'konnte', 'meines', 'ohne', 'kleine', 'dazwischen', 'währenddessen', 'zehnte', 'daneben', 'siebte', 'kann', 'bald', 'gesagt', 'derselbe', 'tagen', 'wirst', 'gab', 'wollt', 'denselben', 'á', 'teil', 'manche', 'gekannt', 'dürft', 'man', 'sehr', 'gerade', 'bin', 'mit', 'rund', 'einigen', 'hin', 'vor', 'mein', 'sollten', 'ihre', 'gedurft', 'ist', 'richtig', 'kannst', 'unserer', 'zwanzig', 'ganzes', 'allgemeinen', 'welchen', 'bis', 'vierter', 'offen', 'anders', 'demzufolge', 'sonst', 'früher', 'seit', 'möchte', 'erst', 'zehnten', 'fünftes', 'dieselbe', 'ihrem', 'mussten', 'dasselbe', 'grosser', 'ja', 'wart', 'zugleich', 'zehnter', 'besonders', 'bist', 'seines', 'müssen', 'weniger', 'einer', 'zum', 'her', 'wieder', 'soll', 'neunter', 'deren', 'deshalb', 'derjenige', 'leicht', 'daher', 'kommen', 'ausserdem', 'darin', 'statt', 'alles', 'zunächst', 'musst', 'grosses', 'darüber', 'geworden', 'seitdem', 'kleiner', 'schon', 'jahr', 'nicht', 'großes', 'möglich', 'darum', 'erster', 'solchem', 'desselben', 'eigener', 'sollen', 'zweite', 'ging', 'demselben', 'welcher', 'siebter', 'weiteres', 'dasein', 'rechtes', 'darf', 'jener', 'fünften', 'jede', 'gar', 'wäre', 'tel', 'du', 'nein', 'wenigstens', 'neuen', 'vom', 'aller', 'erste', 'neunten', 'ganzer', 'jemandem', 'jemand', 'zur', 'darunter', 'doch', 'siebenten', 'grosse', 'von', 'dagegen', 'wegen', 'andern', 'sechs', 'dir', 'wollte', 'jetzt', 'muss', 'davor', 'dermassen', 'dein', 'natürlich', 'drei', 'hat', 'zweiter', 'welche', 'seine', 'etwa', 'jeder', 'vierten', 'einander', 'meinen', 'lieber', 'ag', 'nach', 'die', 'mittel', 'muß', 'etwas', 'sich', 'eben', 'siebtes', 'gehen', 'seinem', 'auf', 'mochte', 'durchaus', 'viertes', 'ein', 'mich', 'acht', 'einen', 'gross', 'guter', 'machte', 'großer', 'oder', 'ihnen', 'ihn', 'erstes', 'allen', 'ihren', 'jemanden', 'hier', 'solchen', 'eigenes', 'alle', 'wen', 'waren', 'allerdings', 'schlecht', 'nie', 'gewesen', 'immer', 'besser', 'vielen', 'nachdem', 'besten', 'mag', 'dermaßen', 'beiden', 'seiner', 'jenem', 'sagt', 'haben', 'dessen', 'könnte', 'dritten', 'seien', 'da', 'sind', 'lange', 'weiteren', 'solang', 'des', 'zehntes', 'dazu', 'oben', 'solches', 'ganzen', 'dürfen', 'wenige', 'ganz', 'heißt', 'einmal', 'wollten', 'sei', 'los', 'aber', 'heute', 'geht', 'dementsprechend', 'gegen', 'auch', 'fünf', 'noch', 'so', 'wirklich', 'in', 'hatten', 'solcher', 'zweites', 'tage', 'er', 'der', 'jenen', 'zeit', 'gern', 'viel', 'sieben', 'siebenter', 'war', 'siebente', 'anderen', 'ihr', 'daß', 'wenn', 'willst', 'nur', 'sechsten', 'einmaleins', 'sah', 'tag', 'zehn', 'währenddem', 'allem', 'dass', 'diejenige', 'euch', 'sagte', 'danach', 'groß', 'es', 'ins', 'später', 'niemanden', 'kaum', 'gehabt', 'durch', 'dritte', 'sechstes', 'zusammen', 'wo', 'mögen', 'wollen', 'neue', 'bekannt', 'nahm', 'das', 'im', 'diese', 'niemandem', 'jeden', 'bisher', 'gut', 'neunte', 'allein', 'ende', 'manchem', 'jedermann', 'gibt', 'jedoch', 'jenes', 'jedermanns', 'dahin', 'manchen', 'meine', 'werden', 'ihrer', 'selbst', 'sollte', 'morgen', 'müsst', 'vielleicht', 'wer', 'was', 'wenig', 'keinen', 'gutes', 'deswegen', 'habe', 'zuerst', 'sie', 'eigen', 'werdet', 'zwei', 'uns', 'kommt', 'über', 'ob', 'derjenigen', 'sechste', 'gegenüber', 'dich', 'wir', 'dieser', 'leider', 'gemocht', 'bei', 'musste', 'vier', 'diesen', 'elf', 'solche', 'eines', 'derselben', 'demgemäss', 'einige', 'vergangene', 'weitere', 'irgend', 'eine', 'seid', 'weniges', 'entweder', 'kleines', 'große', 'demgemäß', 'welchem', 'habt', 'tun', 'dabei', 'um', 'seinen', 'einiges', 'könnt', 'beim', 'keinem', 'gleich', 'dieses', 'dieselben', 'kurz', 'diesem', 'damals', 'dritter', 'hatte', 'wohl', 'andere', 'gemusst', 'worden', 'eigenen', 'mochten', 'weil', 'eigene', 'überhaupt', 'ihres', 'neben', 'daselbst', 'diejenigen', 'unser', 'machen', 'geschweige', 'vierte', 'ab', 'oft', 'durfte', 'achtes', 'und', 'warum', 'sowie', 'jahren', 'weit', 'mehr', 'rechten', 'unter', 'großen', 'wessen', 'sondern', 'trotzdem', 'denen', 'gute', 'zwar', 'endlich', 'als', 'hast', 'grossen', 'für', 'kam', 'nichts', 'manches'}\n"
     ]
    }
   ],
   "source": [
    "print (STOP_WORDS)"
   ],
   "metadata": {
    "collapsed": false,
    "pycharm": {
     "name": "#%%\n"
    }
   }
  },
  {
   "cell_type": "code",
   "execution_count": 9,
   "outputs": [],
   "source": [
    "REGX_USERNAME = r\"@[A-Za-z0-9$-_@.&+]+\"\n",
    "REGX_URL = r\"https?://[A-Za-z0-9./]+\"\n",
    "def preprocessing(text):\n",
    "    text = text.lower()\n",
    "\n",
    "    # Remove\n",
    "    text = re.sub(REGX_USERNAME, ' ', text)\n",
    "    text = re.sub(REGX_URL, ' ', text)\n",
    "\n",
    "    # Replace Emojis\n",
    "    emojis = {\n",
    "        ':)': 'positive emotionen',\n",
    "        ':(': 'negative emotionen'\n",
    "    }\n",
    "\n",
    "    for e in emojis:\n",
    "        text = text.replace(e, emojis[e])\n",
    "\n",
    "    tokens = [token.text for token in nlp(text)]\n",
    "\n",
    "    # Remove Stop Words, punctuations and words with less than 3 characters\n",
    "    tokens = [t for t in tokens if\n",
    "              t not in STOP_WORDS and\n",
    "              t not in string.punctuation and\n",
    "              len(t) > 3]\n",
    "\n",
    "    tokens = [t for t in tokens if not t.isdigit()]\n",
    "\n",
    "    text = \" \".join(tokens);\n",
    "\n",
    "    # Lemmatization\n",
    "    '''\n",
    "    allowed_postags = [\"NOUN\", \"ADJ\", \"VERB\", \"ADV\"]\n",
    "    doc = nlp(text)\n",
    "    new_text = []\n",
    "    for token in doc:\n",
    "        if token.pos_ in allowed_postags:\n",
    "            new_text.append(token.lemma_)\n",
    "    lemmatized = \" \".join(new_text).lower()\n",
    "     '''\n",
    "\n",
    "    return  text #lemmatized\n",
    "\n",
    "df[\"caption_clean\"] = df[\"caption\"].apply(preprocessing)"
   ],
   "metadata": {
    "collapsed": false,
    "pycharm": {
     "name": "#%%\n"
    }
   }
  },
  {
   "cell_type": "code",
   "execution_count": 10,
   "outputs": [
    {
     "data": {
      "text/plain": "                                                                                                                                                                                                                                  caption  \\\n0                                                       Mega cooles Ambiente und Konzept die Bürger sind auch geschmacklich sehr lecker. Man kann seiner Bürger individuelle auf seine Bedürfnisse anpassen ( Allergien/vegetarisch/Co) …   \n1                                                                                            Super sympathische Mitarbeiter, eine wirklich freundliche und gemütliche Atmosphäre und fantastisches Essen! Wir kommen ganz sicher öfter. …   \n2  DAS nenne ich Burger! Nicht so ein Schicki-Micki möchte gerne Burgerladen in Dortmund! *hüstel* Ein absoluter Kult! Maestro del Tozzi - ein Gedicht! Wann immer ich in der Gegend bin, Space Burger oder Lupo. Beides einfach Kult!  (   \n\n   food_positive  service_positive  ambient_positive  price_positive  \\\n0              1                 0                 0               0   \n1              1                 1                 1               0   \n2              1                 0                 1               0   \n\n   waiting_positive  rating  \\\n0                 0     4.0   \n1                 0     5.0   \n2                 0     5.0   \n\n                                                                                                                                    caption_clean  \n0                         mega cooles ambiente konzept bürger geschmacklich lecker bürger individuelle bedürfnisse anpassen allergien vegetarisch  \n1                                               super sympathische mitarbeiter freundliche gemütliche atmosphäre fantastisches essen sicher öfter  \n2  nenne burger schicki-micki gerne burgerladen dortmund hüstel absoluter kult maestro tozzi gedicht gegend space burger lupo beides einfach kult  ",
      "text/html": "<div>\n<style scoped>\n    .dataframe tbody tr th:only-of-type {\n        vertical-align: middle;\n    }\n\n    .dataframe tbody tr th {\n        vertical-align: top;\n    }\n\n    .dataframe thead th {\n        text-align: right;\n    }\n</style>\n<table border=\"1\" class=\"dataframe\">\n  <thead>\n    <tr style=\"text-align: right;\">\n      <th></th>\n      <th>caption</th>\n      <th>food_positive</th>\n      <th>service_positive</th>\n      <th>ambient_positive</th>\n      <th>price_positive</th>\n      <th>waiting_positive</th>\n      <th>rating</th>\n      <th>caption_clean</th>\n    </tr>\n  </thead>\n  <tbody>\n    <tr>\n      <th>0</th>\n      <td>Mega cooles Ambiente und Konzept die Bürger sind auch geschmacklich sehr lecker. Man kann seiner Bürger individuelle auf seine Bedürfnisse anpassen ( Allergien/vegetarisch/Co) …</td>\n      <td>1</td>\n      <td>0</td>\n      <td>0</td>\n      <td>0</td>\n      <td>0</td>\n      <td>4.0</td>\n      <td>mega cooles ambiente konzept bürger geschmacklich lecker bürger individuelle bedürfnisse anpassen allergien vegetarisch</td>\n    </tr>\n    <tr>\n      <th>1</th>\n      <td>Super sympathische Mitarbeiter, eine wirklich freundliche und gemütliche Atmosphäre und fantastisches Essen! Wir kommen ganz sicher öfter. …</td>\n      <td>1</td>\n      <td>1</td>\n      <td>1</td>\n      <td>0</td>\n      <td>0</td>\n      <td>5.0</td>\n      <td>super sympathische mitarbeiter freundliche gemütliche atmosphäre fantastisches essen sicher öfter</td>\n    </tr>\n    <tr>\n      <th>2</th>\n      <td>DAS nenne ich Burger! Nicht so ein Schicki-Micki möchte gerne Burgerladen in Dortmund! *hüstel* Ein absoluter Kult! Maestro del Tozzi - ein Gedicht! Wann immer ich in der Gegend bin, Space Burger oder Lupo. Beides einfach Kult!  (</td>\n      <td>1</td>\n      <td>0</td>\n      <td>1</td>\n      <td>0</td>\n      <td>0</td>\n      <td>5.0</td>\n      <td>nenne burger schicki-micki gerne burgerladen dortmund hüstel absoluter kult maestro tozzi gedicht gegend space burger lupo beides einfach kult</td>\n    </tr>\n  </tbody>\n</table>\n</div>"
     },
     "execution_count": 10,
     "metadata": {},
     "output_type": "execute_result"
    }
   ],
   "source": [
    "df.head(3)"
   ],
   "metadata": {
    "collapsed": false,
    "pycharm": {
     "name": "#%%\n"
    }
   }
  },
  {
   "cell_type": "code",
   "execution_count": 11,
   "outputs": [
    {
     "data": {
      "text/plain": "     food_positive  service_positive  ambient_positive  price_positive  \\\n0                1                 0                 0               0   \n1                1                 1                 1               0   \n2                1                 0                 1               0   \n3                0                 0                 0               0   \n4                1                 0                 1               0   \n..             ...               ...               ...             ...   \n354              1                 0                 0               0   \n355              1                 1                 1               0   \n356              1                 0                 0               0   \n357              1                 0                 0               0   \n358              1                 0                 0               0   \n\n     waiting_positive  rating  \\\n0                   0     4.0   \n1                   0     5.0   \n2                   0     5.0   \n3                   0     1.0   \n4                   0     4.0   \n..                ...     ...   \n354                 0     5.0   \n355                 1     5.0   \n356                 0     5.0   \n357                 0     5.0   \n358                 0     4.0   \n\n                                                                                                                                                            caption  \n0                                           mega cooles ambiente konzept bürger geschmacklich lecker bürger individuelle bedürfnisse anpassen allergien vegetarisch  \n1                                                                 super sympathische mitarbeiter freundliche gemütliche atmosphäre fantastisches essen sicher öfter  \n2                    nenne burger schicki-micki gerne burgerladen dortmund hüstel absoluter kult maestro tozzi gedicht gegend space burger lupo beides einfach kult  \n3                                                gestern dritt selben burger bestellt gestern abend magen darm burger lecker irgendetwas schmeckte komisch erwartet  \n4    fanden burger restaurant klasse individuelle möglichkeiten zudem fleischlose alternativen ambiente zeitsprung vergangenheit kartenzahlung heutzutage zeitgemäß  \n..                                                                                                                                                              ...  \n354                                                                                                                             hervorragende neapolitanische pizza  \n355                                                 staff super fruendliche atmosphäre chillig schöne auswahl pizzas lecker schnell fertig wartezeit qalität leidet  \n356                                                                                                                                       leckere pizza hochpreisig  \n357                                                                                                                                                   amazing pizza  \n358                                                                                                      pizza durchschnitt atmosphäre eher jüngere volk preis fair  \n\n[359 rows x 7 columns]",
      "text/html": "<div>\n<style scoped>\n    .dataframe tbody tr th:only-of-type {\n        vertical-align: middle;\n    }\n\n    .dataframe tbody tr th {\n        vertical-align: top;\n    }\n\n    .dataframe thead th {\n        text-align: right;\n    }\n</style>\n<table border=\"1\" class=\"dataframe\">\n  <thead>\n    <tr style=\"text-align: right;\">\n      <th></th>\n      <th>food_positive</th>\n      <th>service_positive</th>\n      <th>ambient_positive</th>\n      <th>price_positive</th>\n      <th>waiting_positive</th>\n      <th>rating</th>\n      <th>caption</th>\n    </tr>\n  </thead>\n  <tbody>\n    <tr>\n      <th>0</th>\n      <td>1</td>\n      <td>0</td>\n      <td>0</td>\n      <td>0</td>\n      <td>0</td>\n      <td>4.0</td>\n      <td>mega cooles ambiente konzept bürger geschmacklich lecker bürger individuelle bedürfnisse anpassen allergien vegetarisch</td>\n    </tr>\n    <tr>\n      <th>1</th>\n      <td>1</td>\n      <td>1</td>\n      <td>1</td>\n      <td>0</td>\n      <td>0</td>\n      <td>5.0</td>\n      <td>super sympathische mitarbeiter freundliche gemütliche atmosphäre fantastisches essen sicher öfter</td>\n    </tr>\n    <tr>\n      <th>2</th>\n      <td>1</td>\n      <td>0</td>\n      <td>1</td>\n      <td>0</td>\n      <td>0</td>\n      <td>5.0</td>\n      <td>nenne burger schicki-micki gerne burgerladen dortmund hüstel absoluter kult maestro tozzi gedicht gegend space burger lupo beides einfach kult</td>\n    </tr>\n    <tr>\n      <th>3</th>\n      <td>0</td>\n      <td>0</td>\n      <td>0</td>\n      <td>0</td>\n      <td>0</td>\n      <td>1.0</td>\n      <td>gestern dritt selben burger bestellt gestern abend magen darm burger lecker irgendetwas schmeckte komisch erwartet</td>\n    </tr>\n    <tr>\n      <th>4</th>\n      <td>1</td>\n      <td>0</td>\n      <td>1</td>\n      <td>0</td>\n      <td>0</td>\n      <td>4.0</td>\n      <td>fanden burger restaurant klasse individuelle möglichkeiten zudem fleischlose alternativen ambiente zeitsprung vergangenheit kartenzahlung heutzutage zeitgemäß</td>\n    </tr>\n    <tr>\n      <th>...</th>\n      <td>...</td>\n      <td>...</td>\n      <td>...</td>\n      <td>...</td>\n      <td>...</td>\n      <td>...</td>\n      <td>...</td>\n    </tr>\n    <tr>\n      <th>354</th>\n      <td>1</td>\n      <td>0</td>\n      <td>0</td>\n      <td>0</td>\n      <td>0</td>\n      <td>5.0</td>\n      <td>hervorragende neapolitanische pizza</td>\n    </tr>\n    <tr>\n      <th>355</th>\n      <td>1</td>\n      <td>1</td>\n      <td>1</td>\n      <td>0</td>\n      <td>1</td>\n      <td>5.0</td>\n      <td>staff super fruendliche atmosphäre chillig schöne auswahl pizzas lecker schnell fertig wartezeit qalität leidet</td>\n    </tr>\n    <tr>\n      <th>356</th>\n      <td>1</td>\n      <td>0</td>\n      <td>0</td>\n      <td>0</td>\n      <td>0</td>\n      <td>5.0</td>\n      <td>leckere pizza hochpreisig</td>\n    </tr>\n    <tr>\n      <th>357</th>\n      <td>1</td>\n      <td>0</td>\n      <td>0</td>\n      <td>0</td>\n      <td>0</td>\n      <td>5.0</td>\n      <td>amazing pizza</td>\n    </tr>\n    <tr>\n      <th>358</th>\n      <td>1</td>\n      <td>0</td>\n      <td>0</td>\n      <td>0</td>\n      <td>0</td>\n      <td>4.0</td>\n      <td>pizza durchschnitt atmosphäre eher jüngere volk preis fair</td>\n    </tr>\n  </tbody>\n</table>\n<p>359 rows × 7 columns</p>\n</div>"
     },
     "execution_count": 11,
     "metadata": {},
     "output_type": "execute_result"
    }
   ],
   "source": [
    "# renaming dataset columns, grabbing only the cleaned captions\n",
    "USEFUL_COLUMNS_AND_CLEAN = USEFUL_COLUMNS[:]\n",
    "USEFUL_COLUMNS_AND_CLEAN.remove('caption') # don't select caption at this point\n",
    "USEFUL_COLUMNS_AND_CLEAN.append('caption_clean') # Select caption_clean\n",
    "\n",
    "df = df[USEFUL_COLUMNS_AND_CLEAN]\n",
    "\n",
    "df = df.rename(columns={\"caption_clean\": \"caption\"}) #\n",
    "USEFUL_COLUMNS_AND_CLEAN.append('caption') # add caption\n",
    "USEFUL_COLUMNS_AND_CLEAN.remove('caption_clean') # Remove caption_clean\n",
    "df.reset_index(drop=True)"
   ],
   "metadata": {
    "collapsed": false,
    "pycharm": {
     "name": "#%%\n"
    }
   }
  },
  {
   "cell_type": "code",
   "execution_count": 12,
   "outputs": [
    {
     "data": {
      "text/plain": "['food_positive',\n 'service_positive',\n 'ambient_positive',\n 'price_positive',\n 'waiting_positive',\n 'rating',\n 'caption']"
     },
     "execution_count": 12,
     "metadata": {},
     "output_type": "execute_result"
    }
   ],
   "source": [
    "USEFUL_COLUMNS_AND_CLEAN"
   ],
   "metadata": {
    "collapsed": false,
    "pycharm": {
     "name": "#%%\n"
    }
   }
  },
  {
   "cell_type": "code",
   "execution_count": 13,
   "outputs": [],
   "source": [
    "# Remove null & empty values once again for 'caption_clean' column\n",
    "df = df.loc[~df['caption'].isnull(), USEFUL_COLUMNS_AND_CLEAN]\n",
    "df = df[df['caption'].str.strip().astype(bool)]"
   ],
   "metadata": {
    "collapsed": false,
    "pycharm": {
     "name": "#%%\n"
    }
   }
  },
  {
   "cell_type": "code",
   "execution_count": 14,
   "outputs": [
    {
     "data": {
      "text/plain": "   food_positive  service_positive  ambient_positive  price_positive  \\\n0              1                 0                 0               0   \n1              1                 1                 1               0   \n2              1                 0                 1               0   \n\n   waiting_positive  rating  \\\n0                 0     4.0   \n1                 0     5.0   \n2                 0     5.0   \n\n                                                                                                                                          caption  \n0                         mega cooles ambiente konzept bürger geschmacklich lecker bürger individuelle bedürfnisse anpassen allergien vegetarisch  \n1                                               super sympathische mitarbeiter freundliche gemütliche atmosphäre fantastisches essen sicher öfter  \n2  nenne burger schicki-micki gerne burgerladen dortmund hüstel absoluter kult maestro tozzi gedicht gegend space burger lupo beides einfach kult  ",
      "text/html": "<div>\n<style scoped>\n    .dataframe tbody tr th:only-of-type {\n        vertical-align: middle;\n    }\n\n    .dataframe tbody tr th {\n        vertical-align: top;\n    }\n\n    .dataframe thead th {\n        text-align: right;\n    }\n</style>\n<table border=\"1\" class=\"dataframe\">\n  <thead>\n    <tr style=\"text-align: right;\">\n      <th></th>\n      <th>food_positive</th>\n      <th>service_positive</th>\n      <th>ambient_positive</th>\n      <th>price_positive</th>\n      <th>waiting_positive</th>\n      <th>rating</th>\n      <th>caption</th>\n    </tr>\n  </thead>\n  <tbody>\n    <tr>\n      <th>0</th>\n      <td>1</td>\n      <td>0</td>\n      <td>0</td>\n      <td>0</td>\n      <td>0</td>\n      <td>4.0</td>\n      <td>mega cooles ambiente konzept bürger geschmacklich lecker bürger individuelle bedürfnisse anpassen allergien vegetarisch</td>\n    </tr>\n    <tr>\n      <th>1</th>\n      <td>1</td>\n      <td>1</td>\n      <td>1</td>\n      <td>0</td>\n      <td>0</td>\n      <td>5.0</td>\n      <td>super sympathische mitarbeiter freundliche gemütliche atmosphäre fantastisches essen sicher öfter</td>\n    </tr>\n    <tr>\n      <th>2</th>\n      <td>1</td>\n      <td>0</td>\n      <td>1</td>\n      <td>0</td>\n      <td>0</td>\n      <td>5.0</td>\n      <td>nenne burger schicki-micki gerne burgerladen dortmund hüstel absoluter kult maestro tozzi gedicht gegend space burger lupo beides einfach kult</td>\n    </tr>\n  </tbody>\n</table>\n</div>"
     },
     "execution_count": 14,
     "metadata": {},
     "output_type": "execute_result"
    }
   ],
   "source": [
    "df.head(3)"
   ],
   "metadata": {
    "collapsed": false,
    "pycharm": {
     "name": "#%%\n"
    }
   }
  },
  {
   "cell_type": "code",
   "execution_count": 15,
   "id": "76ce30dc",
   "metadata": {
    "pycharm": {
     "name": "#%%\n"
    }
   },
   "outputs": [],
   "source": [
    "df[['caption', 'rating']].to_csv(REVIEWS_CLEANED_UNLABELED_FILE_PATH, sep=';')\n",
    "df.to_csv(REVIEWS_CLEANED_FILE_PATH, sep=';')"
   ]
  }
 ],
 "metadata": {
  "kernelspec": {
   "display_name": "Python 3 (ipykernel)",
   "language": "python",
   "name": "python3"
  },
  "language_info": {
   "codemirror_mode": {
    "name": "ipython",
    "version": 3
   },
   "file_extension": ".py",
   "mimetype": "text/x-python",
   "name": "python",
   "nbconvert_exporter": "python",
   "pygments_lexer": "ipython3",
   "version": "3.9.16"
  }
 },
 "nbformat": 4,
 "nbformat_minor": 5
}