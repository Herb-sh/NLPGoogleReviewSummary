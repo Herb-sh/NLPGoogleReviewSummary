{
 "cells": [
  {
   "cell_type": "code",
   "execution_count": 1,
   "id": "e194ec4e",
   "metadata": {},
   "outputs": [],
   "source": [
    "import spacy\n",
    "import pandas as pd\n",
    "from collections import Counter\n",
    "import seaborn as sns\n",
    "import matplotlib.pyplot as plt"
   ]
  },
  {
   "cell_type": "code",
   "execution_count": 2,
   "outputs": [],
   "source": [
    "nlp = spacy.load('de_core_news_md')\n",
    "pd.set_option('display.max_colwidth', None)"
   ],
   "metadata": {
    "collapsed": false,
    "pycharm": {
     "name": "#%%\n"
    }
   }
  },
  {
   "cell_type": "code",
   "execution_count": 5,
   "outputs": [
    {
     "data": {
      "text/plain": "   Unnamed: 0  \\\n0           0   \n1           4   \n2           5   \n3           6   \n4           7   \n\n                                                                                                                                              caption  \\\n0  Die mit Abstand leckerste Pizza in Deutschland, und das selbst wenn man sie um halb 10 abends zum mitnehmen bestellt :) Einfach zum niederknien! …   \n1                                      Good place to dine in! Sadly no chicken pizzas available.  Do keep in mind the waiting time when you visit✌🏻 …   \n2                                                                                                            This is the must try pizza in Frankfurt.   \n3                                                                                                                        5/5 Pizza place in Frankfurt   \n4                                                                                                          Leckere Pizzen und coole Atmosphäre. 👍🏼  (   \n\n   rating                   timestamp  \\\n0     5.0  2023-02-15 22:10:07.146586   \n1     4.0  2023-02-14 00:10:07.146703   \n2     5.0  2023-02-14 00:10:07.146705   \n3     5.0  2023-02-14 00:10:07.146707   \n4     5.0  2023-02-13 00:10:07.146710   \n\n                                                                                                           caption_clean  \n0  abstand leckerste pizza deutschland selbst wenn halb abends mitnehmen bestellt positive emotionen einfach niederknien  \n1                                       good place dine sadly chicken pizzas available keep mind waiting time when visit  \n2                                                                                              this must pizza frankfurt  \n3                                                                                                  pizza place frankfurt  \n4                                                                                        leckere pizzen coole atmosphäre  ",
      "text/html": "<div>\n<style scoped>\n    .dataframe tbody tr th:only-of-type {\n        vertical-align: middle;\n    }\n\n    .dataframe tbody tr th {\n        vertical-align: top;\n    }\n\n    .dataframe thead th {\n        text-align: right;\n    }\n</style>\n<table border=\"1\" class=\"dataframe\">\n  <thead>\n    <tr style=\"text-align: right;\">\n      <th></th>\n      <th>Unnamed: 0</th>\n      <th>caption</th>\n      <th>rating</th>\n      <th>timestamp</th>\n      <th>caption_clean</th>\n    </tr>\n  </thead>\n  <tbody>\n    <tr>\n      <th>0</th>\n      <td>0</td>\n      <td>Die mit Abstand leckerste Pizza in Deutschland, und das selbst wenn man sie um halb 10 abends zum mitnehmen bestellt :) Einfach zum niederknien! …</td>\n      <td>5.0</td>\n      <td>2023-02-15 22:10:07.146586</td>\n      <td>abstand leckerste pizza deutschland selbst wenn halb abends mitnehmen bestellt positive emotionen einfach niederknien</td>\n    </tr>\n    <tr>\n      <th>1</th>\n      <td>4</td>\n      <td>Good place to dine in! Sadly no chicken pizzas available.  Do keep in mind the waiting time when you visit✌🏻 …</td>\n      <td>4.0</td>\n      <td>2023-02-14 00:10:07.146703</td>\n      <td>good place dine sadly chicken pizzas available keep mind waiting time when visit</td>\n    </tr>\n    <tr>\n      <th>2</th>\n      <td>5</td>\n      <td>This is the must try pizza in Frankfurt.</td>\n      <td>5.0</td>\n      <td>2023-02-14 00:10:07.146705</td>\n      <td>this must pizza frankfurt</td>\n    </tr>\n    <tr>\n      <th>3</th>\n      <td>6</td>\n      <td>5/5 Pizza place in Frankfurt</td>\n      <td>5.0</td>\n      <td>2023-02-14 00:10:07.146707</td>\n      <td>pizza place frankfurt</td>\n    </tr>\n    <tr>\n      <th>4</th>\n      <td>7</td>\n      <td>Leckere Pizzen und coole Atmosphäre. 👍🏼  (</td>\n      <td>5.0</td>\n      <td>2023-02-13 00:10:07.146710</td>\n      <td>leckere pizzen coole atmosphäre</td>\n    </tr>\n  </tbody>\n</table>\n</div>"
     },
     "execution_count": 5,
     "metadata": {},
     "output_type": "execute_result"
    }
   ],
   "source": [
    "df = pd.read_csv('data/reviews-clean.csv', sep=';')\n",
    "df.head()"
   ],
   "metadata": {
    "collapsed": false,
    "pycharm": {
     "name": "#%%\n"
    }
   }
  },
  {
   "cell_type": "code",
   "execution_count": 10,
   "outputs": [
    {
     "data": {
      "text/plain": "0                                                             Die mit Abstand leckerste Pizza in Deutschland, und das selbst wenn man sie um halb 10 abends zum mitnehmen bestellt :) Einfach zum niederknien! …\n1                                                                                                 Good place to dine in! Sadly no chicken pizzas available.  Do keep in mind the waiting time when you visit✌🏻 …\n2                                                                                                                                                                       This is the must try pizza in Frankfurt.\n3                                                                                                                                                                                   5/5 Pizza place in Frankfurt\n4                                                                                                                                                                     Leckere Pizzen und coole Atmosphäre. 👍🏼  (\n                                                                                                         ...                                                                                                    \n323                                                      Sehr gute Pizza, besonders die Nr. 9 sehr zu empfehlen . Netter und zuvorkommender Service bei vollem Haus. Hier werde ich öfters Pizza essen gehen ! …\n324                                                                                                                                                                          Sehr leckere Pizza, tolles Team.  (\n325                                                                                                                                                               good dough, however, everything is a bit salty\n326    One of my favorite pizza place in town. Some may value it overpriced, some may complain the service. But their pizza just got me that I am willing to adjust, also lucky me that I always receive great …\n327                                                                                         Leckere Pizza, wenn man diese jedoch nicht schafft und Reste mitnehmen möchte dann bitte alles selber einpacken:-/ …\nName: caption, Length: 328, dtype: object"
     },
     "execution_count": 10,
     "metadata": {},
     "output_type": "execute_result"
    }
   ],
   "source": [
    "df['caption']"
   ],
   "metadata": {
    "collapsed": false,
    "pycharm": {
     "name": "#%%\n"
    }
   }
  },
  {
   "cell_type": "code",
   "execution_count": 8,
   "outputs": [
    {
     "ename": "TypeError",
     "evalue": "sequence item 12: expected str instance, float found",
     "output_type": "error",
     "traceback": [
      "\u001B[0;31m---------------------------------------------------------------------------\u001B[0m",
      "\u001B[0;31mTypeError\u001B[0m                                 Traceback (most recent call last)",
      "Cell \u001B[0;32mIn[8], line 2\u001B[0m\n\u001B[1;32m      1\u001B[0m \u001B[38;5;66;03m# Caption to text. Joining all captions in a long text\u001B[39;00m\n\u001B[0;32m----> 2\u001B[0m full_caption_text \u001B[38;5;241m=\u001B[39m \u001B[38;5;124;43m'\u001B[39;49m\u001B[38;5;124;43m. \u001B[39;49m\u001B[38;5;124;43m'\u001B[39;49m\u001B[38;5;241;43m.\u001B[39;49m\u001B[43mjoin\u001B[49m\u001B[43m(\u001B[49m\u001B[43mdf\u001B[49m\u001B[43m[\u001B[49m\u001B[38;5;124;43m'\u001B[39;49m\u001B[38;5;124;43mcaption_clean\u001B[39;49m\u001B[38;5;124;43m'\u001B[39;49m\u001B[43m]\u001B[49m\u001B[43m)\u001B[49m\n",
      "\u001B[0;31mTypeError\u001B[0m: sequence item 12: expected str instance, float found"
     ]
    }
   ],
   "source": [
    "# Caption to text. Joining all captions in a long text\n",
    "full_caption_text = '. '.join(df['caption_clean'])\n",
    "len(full_caption_text)"
   ],
   "metadata": {
    "collapsed": false,
    "pycharm": {
     "name": "#%%\n"
    }
   }
  },
  {
   "cell_type": "code",
   "execution_count": null,
   "outputs": [],
   "source": [
    "# Top used words based on arguments\n",
    "def getWordFrequency(text, pos=\"NOUN\", top_items=0):\n",
    "    doc = nlp(text)\n",
    "    words = [token.lemma_\n",
    "             for token in doc\n",
    "             if (not token.is_stop and not token.is_punct and (pos == \"\" or token.pos_ == pos))]\n",
    "    word_freq = Counter(words)\n",
    "\n",
    "    return(dict(word_freq.most_common(top_items) if top_items else word_freq.most_common()))"
   ],
   "metadata": {
    "collapsed": false,
    "pycharm": {
     "name": "#%%\n"
    }
   }
  },
  {
   "cell_type": "markdown",
   "source": [
    "### Bewertungen pro Nummer"
   ],
   "metadata": {
    "collapsed": false,
    "pycharm": {
     "name": "#%% md\n"
    }
   }
  },
  {
   "cell_type": "code",
   "execution_count": null,
   "outputs": [],
   "source": [
    "sns.set_theme()"
   ],
   "metadata": {
    "collapsed": false,
    "pycharm": {
     "name": "#%%\n"
    }
   }
  },
  {
   "cell_type": "code",
   "execution_count": null,
   "outputs": [],
   "source": [
    "f, ax = plt.subplots(1,1)\n",
    "ratings = df['rating'].value_counts().reset_index()\n",
    "ratings.columns = ['rating', 'count']\n",
    "ratings = ratings.sort_values(by=['rating'], ascending=False)\n",
    "#ratings\n",
    "sns.barplot(ratings, x=\"rating\", y='count', color='b', ax=ax)\n",
    "#ax.set(xlabel='Bewertung', ylabel='Zahl')"
   ],
   "metadata": {
    "collapsed": false,
    "pycharm": {
     "name": "#%%\n"
    }
   }
  },
  {
   "cell_type": "markdown",
   "source": [
    "### Meistverwendete Wörter"
   ],
   "metadata": {
    "collapsed": false
   }
  },
  {
   "cell_type": "code",
   "execution_count": null,
   "outputs": [],
   "source": [
    "from wordcloud import WordCloud"
   ],
   "metadata": {
    "collapsed": false,
    "pycharm": {
     "name": "#%%\n"
    }
   }
  },
  {
   "cell_type": "code",
   "execution_count": null,
   "outputs": [],
   "source": [
    "freq = getWordFrequency(full_caption_text, \"NOUN\")"
   ],
   "metadata": {
    "collapsed": false,
    "pycharm": {
     "name": "#%%\n"
    }
   }
  },
  {
   "cell_type": "code",
   "execution_count": null,
   "outputs": [],
   "source": [
    "plt.figure(figsize=(15, 12), facecolor = None)\n",
    "plt.imshow(WordCloud(width = 800, height = 400,\n",
    "                     background_color='white').generate( full_caption_text ))\n",
    "plt.axis('off')\n",
    "plt.tight_layout(pad=0)\n",
    "plt.title('meistverwendete Wörter', fontsize=23, fontweight='bold')\n",
    "plt.show()"
   ],
   "metadata": {
    "collapsed": false,
    "pycharm": {
     "name": "#%%\n"
    }
   }
  },
  {
   "cell_type": "markdown",
   "source": [
    "### Meistverwendete Nomen & Verben"
   ],
   "metadata": {
    "collapsed": false,
    "pycharm": {
     "name": "#%% md\n"
    }
   }
  },
  {
   "cell_type": "code",
   "execution_count": null,
   "outputs": [],
   "source": [
    "freqNoun = getWordFrequency(full_caption_text, \"NOUN\")\n",
    "freqVerb = getWordFrequency(full_caption_text, \"VERB\")\n",
    "\n",
    "freqs = [freqNoun, freqVerb]\n",
    "titles = ['meistverwendete Nomen', 'meistverwendete Verben']\n",
    "\n",
    "f, axes = plt.subplots(1,2)\n",
    "f.set_figheight(15)\n",
    "f.set_figwidth(20)\n",
    "for i, ax in enumerate(axes):\n",
    "    ax.imshow(WordCloud(width = 800, height = 800,\n",
    "                        background_color='white').generate_from_frequencies( freqs[i] ))\n",
    "    ax.axis('off')\n",
    "    ax.set_title(titles[i], fontsize=18, fontweight='bold')"
   ],
   "metadata": {
    "collapsed": false,
    "pycharm": {
     "name": "#%%\n"
    }
   }
  },
  {
   "cell_type": "markdown",
   "source": [
    "### Meisteverwendete Verben pro Bewertung"
   ],
   "metadata": {
    "collapsed": false,
    "pycharm": {
     "name": "#%% md\n"
    }
   }
  },
  {
   "cell_type": "code",
   "execution_count": null,
   "outputs": [],
   "source": [
    "full_caption_text_1 = '. '.join(df.loc[df['rating'] == 1]['caption'])\n",
    "full_caption_text_2 = '. '.join(df.loc[df['rating'] == 2]['caption'])\n",
    "full_caption_text_3 = '. '.join(df.loc[df['rating'] == 3]['caption'])\n",
    "full_caption_text_4 = '. '.join(df.loc[df['rating'] == 4]['caption'])\n",
    "full_caption_text_5 = '. '.join(df.loc[df['rating'] == 5]['caption'])"
   ],
   "metadata": {
    "collapsed": false,
    "pycharm": {
     "name": "#%%\n"
    }
   }
  },
  {
   "cell_type": "code",
   "execution_count": null,
   "outputs": [],
   "source": [
    "freqs1 = [ getWordFrequency(full_caption_text_5, \"ADJ\"),\n",
    "           getWordFrequency(full_caption_text_4, \"ADJ\")]\n",
    "\n",
    "freqs2 = [getWordFrequency(full_caption_text_3, \"ADJ\"),\n",
    "          getWordFrequency(full_caption_text_2, \"ADJ\"),\n",
    "          getWordFrequency(full_caption_text_1, \"ADJ\")]\n",
    "\n",
    "titles1 = ['5 Sterne', '4 Sterne']\n",
    "titles2 = ['3 Sterne', '2 Sterne', '1 Stern']\n",
    "\n",
    "f1, axes1 = plt.subplots(1, 2)\n",
    "f2, axes2 = plt.subplots(1, 3)\n",
    "\n",
    "f1.set_figheight(15)\n",
    "f1.set_figwidth(20)\n",
    "\n",
    "f2.set_figheight(15)\n",
    "f2.set_figwidth(20)\n",
    "\n",
    "for i, ax in enumerate(axes1):\n",
    "    ax.imshow(WordCloud(width = 300, height = 300,\n",
    "                        background_color='white').generate_from_frequencies( freqs1[i] ))\n",
    "    ax.axis('off')\n",
    "    ax.set_title(titles1[i], fontsize=18, fontweight='bold')\n",
    "\n",
    "for i, ax in enumerate(axes2):\n",
    "    ax.imshow(WordCloud(width = 300, height = 300,\n",
    "                        background_color='white').generate_from_frequencies( freqs2[i] ))\n",
    "    ax.axis('off')\n",
    "    ax.set_title(titles2[i], fontsize=18, fontweight='bold')"
   ],
   "metadata": {
    "collapsed": false,
    "pycharm": {
     "name": "#%%\n"
    }
   }
  }
 ],
 "metadata": {
  "kernelspec": {
   "display_name": "Python 3 (ipykernel)",
   "language": "python",
   "name": "python3"
  },
  "language_info": {
   "codemirror_mode": {
    "name": "ipython",
    "version": 3
   },
   "file_extension": ".py",
   "mimetype": "text/x-python",
   "name": "python",
   "nbconvert_exporter": "python",
   "pygments_lexer": "ipython3",
   "version": "3.9.16"
  }
 },
 "nbformat": 4,
 "nbformat_minor": 5
}