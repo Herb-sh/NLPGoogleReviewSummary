{
 "cells": [
  {
   "cell_type": "code",
   "execution_count": 193,
   "outputs": [],
   "source": [
    "import os\n",
    "import spacy\n",
    "import numpy as np\n",
    "#\n",
    "import pandas as pd\n",
    "#\n",
    "from spacy.matcher import Matcher"
   ],
   "metadata": {
    "collapsed": false,
    "pycharm": {
     "name": "#%%\n"
    }
   }
  },
  {
   "cell_type": "code",
   "execution_count": 194,
   "outputs": [],
   "source": [
    "nlp = spacy.load('de_core_news_md')\n",
    "pd.set_option('display.max_colwidth', None)\n",
    "os.environ[\"SPACY_WARNING_IGNORE\"] = \"W008\""
   ],
   "metadata": {
    "collapsed": false,
    "pycharm": {
     "name": "#%%\n"
    }
   }
  },
  {
   "cell_type": "code",
   "execution_count": 203,
   "outputs": [
    {
     "data": {
      "text/plain": "   Unnamed: 0  \\\n0           0   \n1           4   \n2           5   \n3           6   \n4           7   \n\n                                                                                                                                              caption  \\\n0  Die mit Abstand leckerste Pizza in Deutschland, und das selbst wenn man sie um halb 10 abends zum mitnehmen bestellt :) Einfach zum niederknien! …   \n1                                      Good place to dine in! Sadly no chicken pizzas available.  Do keep in mind the waiting time when you visit✌🏻 …   \n2                                                                                                            This is the must try pizza in Frankfurt.   \n3                                                                                                                        5/5 Pizza place in Frankfurt   \n4                                                                                                          Leckere Pizzen und coole Atmosphäre. 👍🏼  (   \n\n   Essen (positiv)  Essen (negativ)  Service (positive)  Service (negativ)  \\\n0                1                0                   1                  0   \n1                1                0                   0                  1   \n2                1                0                   0                  0   \n3                1                0                   0                  0   \n4                1                0                   0                  0   \n\n   Ambiente (positive)  Ambiente (negative)  Preis (positive)  \\\n0                    0                    0                 0   \n1                    0                    0                 0   \n2                    0                    0                 0   \n3                    0                    0                 0   \n4                    1                    0                 0   \n\n   Preis (negativ)  Wartezeit (positiv)  Wartezeit (negativ)  rating  \n0                0                    0                    0     5.0  \n1                0                    0                    1     4.0  \n2                0                    0                    0     5.0  \n3                0                    0                    0     5.0  \n4                0                    0                    0     5.0  ",
      "text/html": "<div>\n<style scoped>\n    .dataframe tbody tr th:only-of-type {\n        vertical-align: middle;\n    }\n\n    .dataframe tbody tr th {\n        vertical-align: top;\n    }\n\n    .dataframe thead th {\n        text-align: right;\n    }\n</style>\n<table border=\"1\" class=\"dataframe\">\n  <thead>\n    <tr style=\"text-align: right;\">\n      <th></th>\n      <th>Unnamed: 0</th>\n      <th>caption</th>\n      <th>Essen (positiv)</th>\n      <th>Essen (negativ)</th>\n      <th>Service (positive)</th>\n      <th>Service (negativ)</th>\n      <th>Ambiente (positive)</th>\n      <th>Ambiente (negative)</th>\n      <th>Preis (positive)</th>\n      <th>Preis (negativ)</th>\n      <th>Wartezeit (positiv)</th>\n      <th>Wartezeit (negativ)</th>\n      <th>rating</th>\n    </tr>\n  </thead>\n  <tbody>\n    <tr>\n      <th>0</th>\n      <td>0</td>\n      <td>Die mit Abstand leckerste Pizza in Deutschland, und das selbst wenn man sie um halb 10 abends zum mitnehmen bestellt :) Einfach zum niederknien! …</td>\n      <td>1</td>\n      <td>0</td>\n      <td>1</td>\n      <td>0</td>\n      <td>0</td>\n      <td>0</td>\n      <td>0</td>\n      <td>0</td>\n      <td>0</td>\n      <td>0</td>\n      <td>5.0</td>\n    </tr>\n    <tr>\n      <th>1</th>\n      <td>4</td>\n      <td>Good place to dine in! Sadly no chicken pizzas available.  Do keep in mind the waiting time when you visit✌🏻 …</td>\n      <td>1</td>\n      <td>0</td>\n      <td>0</td>\n      <td>1</td>\n      <td>0</td>\n      <td>0</td>\n      <td>0</td>\n      <td>0</td>\n      <td>0</td>\n      <td>1</td>\n      <td>4.0</td>\n    </tr>\n    <tr>\n      <th>2</th>\n      <td>5</td>\n      <td>This is the must try pizza in Frankfurt.</td>\n      <td>1</td>\n      <td>0</td>\n      <td>0</td>\n      <td>0</td>\n      <td>0</td>\n      <td>0</td>\n      <td>0</td>\n      <td>0</td>\n      <td>0</td>\n      <td>0</td>\n      <td>5.0</td>\n    </tr>\n    <tr>\n      <th>3</th>\n      <td>6</td>\n      <td>5/5 Pizza place in Frankfurt</td>\n      <td>1</td>\n      <td>0</td>\n      <td>0</td>\n      <td>0</td>\n      <td>0</td>\n      <td>0</td>\n      <td>0</td>\n      <td>0</td>\n      <td>0</td>\n      <td>0</td>\n      <td>5.0</td>\n    </tr>\n    <tr>\n      <th>4</th>\n      <td>7</td>\n      <td>Leckere Pizzen und coole Atmosphäre. 👍🏼  (</td>\n      <td>1</td>\n      <td>0</td>\n      <td>0</td>\n      <td>0</td>\n      <td>1</td>\n      <td>0</td>\n      <td>0</td>\n      <td>0</td>\n      <td>0</td>\n      <td>0</td>\n      <td>5.0</td>\n    </tr>\n  </tbody>\n</table>\n</div>"
     },
     "execution_count": 203,
     "metadata": {},
     "output_type": "execute_result"
    }
   ],
   "source": [
    "REVIEWS_CLEANED_FILE_PATH = 'data/labeled_data.csv'\n",
    "\n",
    "df = pd.read_csv(REVIEWS_CLEANED_FILE_PATH, sep=';')\n",
    "df.head()"
   ],
   "metadata": {
    "collapsed": false,
    "pycharm": {
     "name": "#%%\n"
    }
   }
  },
  {
   "cell_type": "code",
   "execution_count": 196,
   "outputs": [],
   "source": [
    "categories = ['essen', 'gaststättengewerbe', 'atmosphäre', 'preis', 'warten']"
   ],
   "metadata": {
    "collapsed": false,
    "pycharm": {
     "name": "#%%\n"
    }
   }
  },
  {
   "cell_type": "code",
   "execution_count": 197,
   "outputs": [],
   "source": [
    "def spacy_most_similar(word, topn=10):\n",
    "    ms = nlp.vocab.vectors.most_similar(\n",
    "        nlp(word).vector.reshape(1,nlp(word).vector.shape[0]), n=topn)\n",
    "    words = [nlp.vocab.strings[w] for w in ms[0][0]]\n",
    "    distances = ms[2]\n",
    "    return words, distances"
   ],
   "metadata": {
    "collapsed": false,
    "pycharm": {
     "name": "#%%\n"
    }
   }
  },
  {
   "cell_type": "code",
   "execution_count": 198,
   "outputs": [
    {
     "data": {
      "text/plain": "(['Aufessen',\n  'weggefuttert',\n  'drinken',\n  'einzukochen',\n  'koten',\n  'inhaliere',\n  'knabbere',\n  'Bio-Essen',\n  'schmatz',\n  'Trinket'],\n array([[1.    , 0.8243, 0.8131, 0.7734, 0.7115, 0.7059, 0.7032, 0.6845,\n         0.672 , 0.6681]], dtype=float32))"
     },
     "execution_count": 198,
     "metadata": {},
     "output_type": "execute_result"
    }
   ],
   "source": [
    "spacy_most_similar(categories[0])"
   ],
   "metadata": {
    "collapsed": false,
    "pycharm": {
     "name": "#%%\n"
    }
   }
  },
  {
   "cell_type": "code",
   "execution_count": 207,
   "outputs": [
    {
     "name": "stdout",
     "output_type": "stream",
     "text": [
      "Die mit Abstand leckerste Pizza in Deutschland, und das selbst wenn man sie um halb 10 abends zum mitnehmen bestellt :) Einfach zum niederknien! …\n",
      "[(12545855305924804326, 3, 5)]\n",
      "leckerste Pizza\n",
      "Good place to dine in! Sadly no chicken pizzas available.  Do keep in mind the waiting time when you visit✌🏻 …\n",
      "[]\n",
      "This is the must try pizza in Frankfurt.\n",
      "[]\n",
      "5/5 Pizza place in Frankfurt\n",
      "[]\n",
      "Leckere Pizzen und coole Atmosphäre. 👍🏼  (\n",
      "[(12545855305924804326, 0, 2), (12545855305924804326, 3, 5)]\n",
      "Leckere Pizzen\n",
      "coole Atmosphäre\n"
     ]
    }
   ],
   "source": [
    "matcher = Matcher(nlp.vocab)\n",
    "patterns = [[{'POS':'ADJ'}, {'POS':'NOUN'}]]\n",
    "matcher.add(\"category\", patterns)\n",
    "\n",
    "##matches = matcher(nlp('ein gutes Fenster'))\n",
    "#print(matches)\n",
    "\n",
    "\n",
    "for rowIndex, wordText in enumerate(df['caption'][0:5]):\n",
    "    print(wordText)\n",
    "    doc = nlp(wordText)\n",
    "    matches = matcher(doc)\n",
    "    print(matches)\n",
    "    for match_id, start, end in matches:\n",
    "        string_id = nlp.vocab.strings[match_id]\n",
    "        span = doc[start:end]\n",
    "        print(span.text)"
   ],
   "metadata": {
    "collapsed": false,
    "pycharm": {
     "name": "#%%\n"
    }
   }
  },
  {
   "cell_type": "code",
   "execution_count": 200,
   "outputs": [
    {
     "name": "stdout",
     "output_type": "stream",
     "text": [
      "0 essen Pizza 0.43865881948792484\n",
      "0 essen mitnehmen 0.5011485718220593\n",
      "2 essen pizza 0.43865881948792484\n"
     ]
    },
    {
     "name": "stderr",
     "output_type": "stream",
     "text": [
      "/var/folders/8f/b5rl_hw50bn0_k4xrt7mtm7w0000gn/T/ipykernel_43291/1235100666.py:15: UserWarning: [W008] Evaluating Doc.similarity based on empty vectors.\n",
      "  similarity_cat1 = nlp(categories[1]).similarity(token)\n"
     ]
    }
   ],
   "source": [
    "similarity_min = 0.4\n",
    "\n",
    "for rowIndex, wordText in enumerate(df['caption'][0:3]):\n",
    "    word = nlp(wordText)\n",
    "    tokens = [token.text for token in word]\n",
    "    #tokens\n",
    "    allowed_postags = [\"NOUN\"]\n",
    "    for i, token in enumerate(word):\n",
    "        if token.pos_ in allowed_postags:\n",
    "            if token and token.vector_norm > 1:\n",
    "                similarity_cat0 = nlp(categories[0]).similarity(token)\n",
    "                if similarity_cat0 > similarity_min: # fits into\n",
    "                    print(rowIndex, categories[0], token, similarity_cat0)\n",
    "\n",
    "                similarity_cat1 = nlp(categories[1]).similarity(token)\n",
    "                if similarity_cat1 > similarity_min: # fits into\n",
    "                    print(rowIndex, categories[1], token, similarity_cat1)\n",
    "\n",
    "                similarity_cat2 = nlp(categories[2]).similarity(token)\n",
    "                if similarity_cat2 > similarity_min: # fits into\n",
    "                   print(rowIndex, categories[2], token, similarity_cat2)\n",
    "\n",
    "                similarity_cat3 = nlp(categories[3]).similarity(token)\n",
    "                if similarity_cat3 > similarity_min: # fits into\n",
    "                    print(rowIndex, categories[3], token, similarity_cat3)\n",
    "\n",
    "                similarity_cat4 = nlp(categories[4]).similarity(token)\n",
    "                if similarity_cat2 > similarity_min: # fits into\n",
    "                   print(rowIndex, categories[4], token, similarity_cat4)\n"
   ],
   "metadata": {
    "collapsed": false,
    "pycharm": {
     "name": "#%%\n"
    }
   }
  },
  {
   "cell_type": "code",
   "execution_count": 201,
   "outputs": [
    {
     "data": {
      "text/plain": "0.4386588382204547"
     },
     "execution_count": 201,
     "metadata": {},
     "output_type": "execute_result"
    }
   ],
   "source": [
    "nlp(\"essen\").similarity(nlp(\"pizza\"))"
   ],
   "metadata": {
    "collapsed": false,
    "pycharm": {
     "name": "#%%\n"
    }
   }
  },
  {
   "cell_type": "code",
   "execution_count": 202,
   "outputs": [
    {
     "data": {
      "text/plain": "0"
     },
     "execution_count": 202,
     "metadata": {},
     "output_type": "execute_result"
    }
   ],
   "source": [
    "nlp('pizz').vector_norm"
   ],
   "metadata": {
    "collapsed": false,
    "pycharm": {
     "name": "#%%\n"
    }
   }
  },
  {
   "cell_type": "code",
   "execution_count": 202,
   "outputs": [],
   "source": [],
   "metadata": {
    "collapsed": false,
    "pycharm": {
     "name": "#%%\n"
    }
   }
  }
 ],
 "metadata": {
  "kernelspec": {
   "display_name": "Python 3",
   "language": "python",
   "name": "python3"
  },
  "language_info": {
   "codemirror_mode": {
    "name": "ipython",
    "version": 2
   },
   "file_extension": ".py",
   "mimetype": "text/x-python",
   "name": "python",
   "nbconvert_exporter": "python",
   "pygments_lexer": "ipython2",
   "version": "2.7.6"
  }
 },
 "nbformat": 4,
 "nbformat_minor": 0
}