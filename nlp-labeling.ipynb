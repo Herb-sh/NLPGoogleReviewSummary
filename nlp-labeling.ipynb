{
 "cells": [
  {
   "cell_type": "code",
   "execution_count": 221,
   "outputs": [],
   "source": [
    "import os\n",
    "import spacy\n",
    "import numpy as np\n",
    "#\n",
    "import pandas as pd\n",
    "#\n",
    "from spacy.matcher import Matcher"
   ],
   "metadata": {
    "collapsed": false,
    "pycharm": {
     "name": "#%%\n"
    }
   }
  },
  {
   "cell_type": "code",
   "execution_count": 222,
   "outputs": [],
   "source": [
    "nlp = spacy.load('de_core_news_md')\n",
    "pd.set_option('display.max_colwidth', None)\n",
    "os.environ[\"SPACY_WARNING_IGNORE\"] = \"W008\""
   ],
   "metadata": {
    "collapsed": false,
    "pycharm": {
     "name": "#%%\n"
    }
   }
  },
  {
   "cell_type": "code",
   "execution_count": 223,
   "outputs": [
    {
     "data": {
      "text/plain": "   Unnamed: 0  \\\n0           0   \n1           1   \n2           2   \n3           3   \n4           4   \n\n                                                                                                                                                          caption  \\\n0                                         mega cooles ambiente konzept bürger geschmacklich lecker bürger individuelle bedürfnisse anpassen allergien vegetarisch   \n1                                                               super sympathische mitarbeiter freundliche gemütliche atmosphäre fantastisches essen sicher öfter   \n2                  nenne burger schicki-micki gerne burgerladen dortmund hüstel absoluter kult maestro tozzi gedicht gegend space burger lupo beides einfach kult   \n3                                              gestern dritt selben burger bestellt gestern abend magen darm burger lecker irgendetwas schmeckte komisch erwartet   \n4  fanden burger restaurant klasse individuelle möglichkeiten zudem fleischlose alternativen ambiente zeitsprung vergangenheit kartenzahlung heutzutage zeitgemäß   \n\n   rating  \n0     4.0  \n1     5.0  \n2     5.0  \n3     1.0  \n4     4.0  ",
      "text/html": "<div>\n<style scoped>\n    .dataframe tbody tr th:only-of-type {\n        vertical-align: middle;\n    }\n\n    .dataframe tbody tr th {\n        vertical-align: top;\n    }\n\n    .dataframe thead th {\n        text-align: right;\n    }\n</style>\n<table border=\"1\" class=\"dataframe\">\n  <thead>\n    <tr style=\"text-align: right;\">\n      <th></th>\n      <th>Unnamed: 0</th>\n      <th>caption</th>\n      <th>rating</th>\n    </tr>\n  </thead>\n  <tbody>\n    <tr>\n      <th>0</th>\n      <td>0</td>\n      <td>mega cooles ambiente konzept bürger geschmacklich lecker bürger individuelle bedürfnisse anpassen allergien vegetarisch</td>\n      <td>4.0</td>\n    </tr>\n    <tr>\n      <th>1</th>\n      <td>1</td>\n      <td>super sympathische mitarbeiter freundliche gemütliche atmosphäre fantastisches essen sicher öfter</td>\n      <td>5.0</td>\n    </tr>\n    <tr>\n      <th>2</th>\n      <td>2</td>\n      <td>nenne burger schicki-micki gerne burgerladen dortmund hüstel absoluter kult maestro tozzi gedicht gegend space burger lupo beides einfach kult</td>\n      <td>5.0</td>\n    </tr>\n    <tr>\n      <th>3</th>\n      <td>3</td>\n      <td>gestern dritt selben burger bestellt gestern abend magen darm burger lecker irgendetwas schmeckte komisch erwartet</td>\n      <td>1.0</td>\n    </tr>\n    <tr>\n      <th>4</th>\n      <td>4</td>\n      <td>fanden burger restaurant klasse individuelle möglichkeiten zudem fleischlose alternativen ambiente zeitsprung vergangenheit kartenzahlung heutzutage zeitgemäß</td>\n      <td>4.0</td>\n    </tr>\n  </tbody>\n</table>\n</div>"
     },
     "execution_count": 223,
     "metadata": {},
     "output_type": "execute_result"
    }
   ],
   "source": [
    "REVIEWS_CLEANED_FILE_PATH = 'data/reviews_merged_unlabeled_cleaned.csv'\n",
    "\n",
    "df = pd.read_csv(REVIEWS_CLEANED_FILE_PATH, sep=';')\n",
    "df.head()"
   ],
   "metadata": {
    "collapsed": false,
    "pycharm": {
     "name": "#%%\n"
    }
   }
  },
  {
   "cell_type": "code",
   "execution_count": 224,
   "outputs": [],
   "source": [
    "categories = ['essen', 'gaststättengewerbe', 'atmosphäre', 'preis', 'warten']"
   ],
   "metadata": {
    "collapsed": false,
    "pycharm": {
     "name": "#%%\n"
    }
   }
  },
  {
   "cell_type": "code",
   "execution_count": 225,
   "outputs": [],
   "source": [
    "def spacy_most_similar(word, topn=10):\n",
    "    ms = nlp.vocab.vectors.most_similar(\n",
    "        nlp(word).vector.reshape(1,nlp(word).vector.shape[0]), n=topn)\n",
    "    words = [nlp.vocab.strings[w] for w in ms[0][0]]\n",
    "    distances = ms[2]\n",
    "    return words, distances"
   ],
   "metadata": {
    "collapsed": false,
    "pycharm": {
     "name": "#%%\n"
    }
   }
  },
  {
   "cell_type": "code",
   "execution_count": 226,
   "outputs": [
    {
     "data": {
      "text/plain": "(['Aufessen',\n  'weggefuttert',\n  'drinken',\n  'einzukochen',\n  'koten',\n  'inhaliere',\n  'knabbere',\n  'Bio-Essen',\n  'schmatz',\n  'Trinket'],\n array([[1.    , 0.8243, 0.8131, 0.7734, 0.7115, 0.7059, 0.7032, 0.6845,\n         0.672 , 0.6681]], dtype=float32))"
     },
     "execution_count": 226,
     "metadata": {},
     "output_type": "execute_result"
    }
   ],
   "source": [
    "spacy_most_similar(categories[0])"
   ],
   "metadata": {
    "collapsed": false,
    "pycharm": {
     "name": "#%%\n"
    }
   }
  },
  {
   "cell_type": "code",
   "execution_count": 300,
   "outputs": [
    {
     "name": "stderr",
     "output_type": "stream",
     "text": [
      "/var/folders/8f/b5rl_hw50bn0_k4xrt7mtm7w0000gn/T/ipykernel_43291/2378623975.py:27: UserWarning: [W008] Evaluating Doc.similarity based on empty vectors.\n",
      "  similarity_cat1 = nlp(categories[1]).similarity(span)\n",
      "/var/folders/8f/b5rl_hw50bn0_k4xrt7mtm7w0000gn/T/ipykernel_43291/2378623975.py:27: UserWarning: [W008] Evaluating Doc.similarity based on empty vectors.\n",
      "  similarity_cat1 = nlp(categories[1]).similarity(span)\n",
      "/var/folders/8f/b5rl_hw50bn0_k4xrt7mtm7w0000gn/T/ipykernel_43291/2378623975.py:27: UserWarning: [W008] Evaluating Doc.similarity based on empty vectors.\n",
      "  similarity_cat1 = nlp(categories[1]).similarity(span)\n"
     ]
    },
    {
     "name": "stdout",
     "output_type": "stream",
     "text": [
      "0  -  atmosphäre  -  ambiente konzept  -  0.568398898436853\n",
      "0  -  atmosphäre  -  cooles ambiente konzept  -  0.5555121262381959\n",
      "0  -  essen  -  lecker bürger  -  0.4209613832566812\n",
      "1  -  atmosphäre  -  sympathische mitarbeiter  -  0.41114811017893294\n",
      "1  -  atmosphäre  -  gemütliche atmosphäre  -  0.9041401865935277\n",
      "1  -  atmosphäre  -  freundliche gemütliche atmosphäre  -  0.8451887596877069\n",
      "1  -  essen  -  fantastisches essen  -  0.9070816153259378\n",
      "4  -  atmosphäre  -  individuelle möglichkeiten  -  0.42664221280523584\n",
      "4  -  atmosphäre  -  ambiente zeitsprung  -  0.7064088538909967\n",
      "4  -  atmosphäre  -  alternativen ambiente zeitsprung  -  0.6628601520202437\n",
      "4  -  atmosphäre  -  fleischlose alternativen ambiente zeitsprung  -  0.5270339242481952\n"
     ]
    },
    {
     "name": "stderr",
     "output_type": "stream",
     "text": [
      "/var/folders/8f/b5rl_hw50bn0_k4xrt7mtm7w0000gn/T/ipykernel_43291/2378623975.py:27: UserWarning: [W008] Evaluating Doc.similarity based on empty vectors.\n",
      "  similarity_cat1 = nlp(categories[1]).similarity(span)\n",
      "/var/folders/8f/b5rl_hw50bn0_k4xrt7mtm7w0000gn/T/ipykernel_43291/2378623975.py:27: UserWarning: [W008] Evaluating Doc.similarity based on empty vectors.\n",
      "  similarity_cat1 = nlp(categories[1]).similarity(span)\n"
     ]
    }
   ],
   "source": [
    "matcher = Matcher(nlp.vocab)\n",
    "patterns = [\n",
    "    [{'POS':'ADJ', 'OP': '+'}, {'POS':'NOUN'}],\n",
    "    [{'POS':'NOUN'}, {'POS':'VERB'}, {'POS':'ADJ'}]\n",
    "]\n",
    "matcher.add(\"category\", patterns)\n",
    "\n",
    "df_matches = pd.DataFrame([], columns=['index', 'matches'])\n",
    "\n",
    "similarity_min = 0.4\n",
    "\n",
    "for rowIndex, wordText in enumerate(df['caption'][:5]):\n",
    "    doc = nlp(wordText)\n",
    "    matches = matcher(doc)\n",
    "    #print(rowIndex, len(matches))\n",
    "\n",
    "    for match_id, start, end in matches:\n",
    "        string_id = nlp.vocab.strings[match_id]\n",
    "        span = doc[start:end]\n",
    "        #print(span)\n",
    "        for i, s in enumerate(span):\n",
    "            if s.pos_ in ['NOUN']:\n",
    "                similarity_cat0 = nlp(categories[0]).similarity(span)\n",
    "                if similarity_cat0 > similarity_min: # fits into\n",
    "                    print(rowIndex, ' - ', categories[0], ' - ', span, ' - ', similarity_cat0)\n",
    "\n",
    "                similarity_cat1 = nlp(categories[1]).similarity(span)\n",
    "                if similarity_cat1 > similarity_min: # fits into\n",
    "                    print(rowIndex, ' - ', categories[1], ' - ', span, ' - ', similarity_cat1)\n",
    "\n",
    "                similarity_cat2 = nlp(categories[2]).similarity(span)\n",
    "                if similarity_cat2 > similarity_min: # fits into\n",
    "                    print(rowIndex, ' - ', categories[2], ' - ', span, ' - ', similarity_cat2)\n",
    "\n",
    "                similarity_cat3 = nlp(categories[3]).similarity(span)\n",
    "                if similarity_cat3 > similarity_min: # fits into\n",
    "                    print(rowIndex, ' - ', categories[3], ' - ', span, ' - ', similarity_cat3)\n",
    "\n",
    "                similarity_cat4 = nlp(categories[4]).similarity(span)\n",
    "                if similarity_cat4 > similarity_min: # fits into\n",
    "                    print(rowIndex, ' - ', categories[4], ' - ', span, ' - ', similarity_cat4)\n",
    "    df_matches = pd.concat([pd.DataFrame({'index': rowIndex, 'matches': matches}, columns=df_matches.columns), df_matches])\n",
    "\n",
    "#print(len(df_matches))"
   ],
   "metadata": {
    "collapsed": false,
    "pycharm": {
     "name": "#%%\n"
    }
   }
  },
  {
   "cell_type": "code",
   "execution_count": 228,
   "outputs": [
    {
     "name": "stdout",
     "output_type": "stream",
     "text": [
      "1 atmosphäre atmosphäre 1.0\n",
      "1 warten atmosphäre 0.15941722217303403\n",
      "1 essen essen 1.0\n"
     ]
    },
    {
     "name": "stderr",
     "output_type": "stream",
     "text": [
      "/var/folders/8f/b5rl_hw50bn0_k4xrt7mtm7w0000gn/T/ipykernel_43291/1235100666.py:15: UserWarning: [W008] Evaluating Doc.similarity based on empty vectors.\n",
      "  similarity_cat1 = nlp(categories[1]).similarity(token)\n"
     ]
    }
   ],
   "source": [
    "similarity_min = 0.4\n",
    "\n",
    "for rowIndex, wordText in enumerate(df['caption']):\n",
    "    word = nlp(wordText)\n",
    "    tokens = [token.text for token in word]\n",
    "    #tokens\n",
    "    allowed_postags = [\"NOUN\"]\n",
    "    for i, token in enumerate(word):\n",
    "        if token.pos_ in allowed_postags:\n",
    "            if token and token.vector_norm > 1:\n",
    "                similarity_cat0 = nlp(categories[0]).similarity(token)\n",
    "                if similarity_cat0 > similarity_min: # fits into\n",
    "                    print(rowIndex, categories[0], token, similarity_cat0)\n",
    "\n",
    "                similarity_cat1 = nlp(categories[1]).similarity(token)\n",
    "                if similarity_cat1 > similarity_min: # fits into\n",
    "                    print(rowIndex, categories[1], token, similarity_cat1)\n",
    "\n",
    "                similarity_cat2 = nlp(categories[2]).similarity(token)\n",
    "                if similarity_cat2 > similarity_min: # fits into\n",
    "                   print(rowIndex, categories[2], token, similarity_cat2)\n",
    "\n",
    "                similarity_cat3 = nlp(categories[3]).similarity(token)\n",
    "                if similarity_cat3 > similarity_min: # fits into\n",
    "                    print(rowIndex, categories[3], token, similarity_cat3)\n",
    "\n",
    "                similarity_cat4 = nlp(categories[4]).similarity(token)\n",
    "                if similarity_cat2 > similarity_min: # fits into\n",
    "                   print(rowIndex, categories[4], token, similarity_cat4)\n"
   ],
   "metadata": {
    "collapsed": false,
    "pycharm": {
     "name": "#%%\n"
    }
   }
  },
  {
   "cell_type": "code",
   "execution_count": 229,
   "outputs": [
    {
     "data": {
      "text/plain": "0.4386588382204547"
     },
     "execution_count": 229,
     "metadata": {},
     "output_type": "execute_result"
    }
   ],
   "source": [
    "nlp(\"essen\").similarity(nlp(\"pizza\"))"
   ],
   "metadata": {
    "collapsed": false,
    "pycharm": {
     "name": "#%%\n"
    }
   }
  },
  {
   "cell_type": "code",
   "execution_count": 230,
   "outputs": [
    {
     "data": {
      "text/plain": "0"
     },
     "execution_count": 230,
     "metadata": {},
     "output_type": "execute_result"
    }
   ],
   "source": [
    "nlp('pizz').vector_norm"
   ],
   "metadata": {
    "collapsed": false,
    "pycharm": {
     "name": "#%%\n"
    }
   }
  },
  {
   "cell_type": "code",
   "execution_count": 230,
   "outputs": [],
   "source": [],
   "metadata": {
    "collapsed": false,
    "pycharm": {
     "name": "#%%\n"
    }
   }
  }
 ],
 "metadata": {
  "kernelspec": {
   "display_name": "Python 3",
   "language": "python",
   "name": "python3"
  },
  "language_info": {
   "codemirror_mode": {
    "name": "ipython",
    "version": 2
   },
   "file_extension": ".py",
   "mimetype": "text/x-python",
   "name": "python",
   "nbconvert_exporter": "python",
   "pygments_lexer": "ipython2",
   "version": "2.7.6"
  }
 },
 "nbformat": 4,
 "nbformat_minor": 0
}