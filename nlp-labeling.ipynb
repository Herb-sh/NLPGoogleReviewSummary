{
 "cells": [
  {
   "cell_type": "code",
   "execution_count": 1,
   "outputs": [],
   "source": [
    "import os\n",
    "import spacy\n",
    "#\n",
    "import pandas as pd\n",
    "#\n",
    "from spacy.matcher import Matcher\n",
    "#\n",
    "from textblob_de import TextBlobDE as TextBlob"
   ],
   "metadata": {
    "collapsed": false,
    "pycharm": {
     "name": "#%%\n"
    }
   }
  },
  {
   "cell_type": "code",
   "execution_count": 2,
   "outputs": [],
   "source": [
    "nlp = spacy.load('de_core_news_md')\n",
    "pd.set_option('display.max_colwidth', None)\n",
    "#os.environ[\"SPACY_WARNING_IGNORE\"] = \"W008\""
   ],
   "metadata": {
    "collapsed": false,
    "pycharm": {
     "name": "#%%\n"
    }
   }
  },
  {
   "cell_type": "code",
   "execution_count": 3,
   "outputs": [
    {
     "data": {
      "text/plain": "   Unnamed: 0  \\\n0           0   \n1           1   \n2           2   \n3           3   \n4           4   \n\n                                                                                                                                                          caption  \\\n0                                         mega cooles ambiente konzept bürger geschmacklich lecker bürger individuelle bedürfnisse anpassen allergien vegetarisch   \n1                                                               super sympathische mitarbeiter freundliche gemütliche atmosphäre fantastisches essen sicher öfter   \n2                  nenne burger schicki-micki gerne burgerladen dortmund hüstel absoluter kult maestro tozzi gedicht gegend space burger lupo beides einfach kult   \n3                                              gestern dritt selben burger bestellt gestern abend magen darm burger lecker irgendetwas schmeckte komisch erwartet   \n4  fanden burger restaurant klasse individuelle möglichkeiten zudem fleischlose alternativen ambiente zeitsprung vergangenheit kartenzahlung heutzutage zeitgemäß   \n\n   rating  \n0     4.0  \n1     5.0  \n2     5.0  \n3     1.0  \n4     4.0  ",
      "text/html": "<div>\n<style scoped>\n    .dataframe tbody tr th:only-of-type {\n        vertical-align: middle;\n    }\n\n    .dataframe tbody tr th {\n        vertical-align: top;\n    }\n\n    .dataframe thead th {\n        text-align: right;\n    }\n</style>\n<table border=\"1\" class=\"dataframe\">\n  <thead>\n    <tr style=\"text-align: right;\">\n      <th></th>\n      <th>Unnamed: 0</th>\n      <th>caption</th>\n      <th>rating</th>\n    </tr>\n  </thead>\n  <tbody>\n    <tr>\n      <th>0</th>\n      <td>0</td>\n      <td>mega cooles ambiente konzept bürger geschmacklich lecker bürger individuelle bedürfnisse anpassen allergien vegetarisch</td>\n      <td>4.0</td>\n    </tr>\n    <tr>\n      <th>1</th>\n      <td>1</td>\n      <td>super sympathische mitarbeiter freundliche gemütliche atmosphäre fantastisches essen sicher öfter</td>\n      <td>5.0</td>\n    </tr>\n    <tr>\n      <th>2</th>\n      <td>2</td>\n      <td>nenne burger schicki-micki gerne burgerladen dortmund hüstel absoluter kult maestro tozzi gedicht gegend space burger lupo beides einfach kult</td>\n      <td>5.0</td>\n    </tr>\n    <tr>\n      <th>3</th>\n      <td>3</td>\n      <td>gestern dritt selben burger bestellt gestern abend magen darm burger lecker irgendetwas schmeckte komisch erwartet</td>\n      <td>1.0</td>\n    </tr>\n    <tr>\n      <th>4</th>\n      <td>4</td>\n      <td>fanden burger restaurant klasse individuelle möglichkeiten zudem fleischlose alternativen ambiente zeitsprung vergangenheit kartenzahlung heutzutage zeitgemäß</td>\n      <td>4.0</td>\n    </tr>\n  </tbody>\n</table>\n</div>"
     },
     "execution_count": 3,
     "metadata": {},
     "output_type": "execute_result"
    }
   ],
   "source": [
    "REVIEWS_CLEANED_UNLABELED_FILE_PATH = 'data/reviews_merged_unlabeled_cleaned.csv'\n",
    "REVIEWS_CLEANED_FILE_PATH = 'data/reviews_merged_cleaned.csv'\n",
    "\n",
    "df = pd.read_csv(REVIEWS_CLEANED_UNLABELED_FILE_PATH, sep=';')\n",
    "df.head()"
   ],
   "metadata": {
    "collapsed": false,
    "pycharm": {
     "name": "#%%\n"
    }
   }
  },
  {
   "cell_type": "code",
   "execution_count": 4,
   "outputs": [],
   "source": [
    "categories = ['essen', 'service', 'atmosphäre', 'preis', 'warten']\n",
    "categories_columns = ['food_positive', 'food_negative',\n",
    "                        'service_positive', 'service_negative',\n",
    "                        'ambient_positive', 'ambient_negative',\n",
    "                        'price_positive', 'price_negative',\n",
    "                        'waiting_positive', 'waiting_negative']"
   ],
   "metadata": {
    "collapsed": false,
    "pycharm": {
     "name": "#%%\n"
    }
   }
  },
  {
   "cell_type": "code",
   "execution_count": 5,
   "outputs": [],
   "source": [
    "def spacy_most_similar(word, topn=10):\n",
    "    ms = nlp.vocab.vectors.most_similar(\n",
    "        nlp(word).vector.reshape(1,nlp(word).vector.shape[0]), n=topn)\n",
    "    words = [nlp.vocab.strings[w] for w in ms[0][0]]\n",
    "    distances = ms[2]\n",
    "    return words, distances"
   ],
   "metadata": {
    "collapsed": false,
    "pycharm": {
     "name": "#%%\n"
    }
   }
  },
  {
   "cell_type": "code",
   "execution_count": 6,
   "outputs": [
    {
     "data": {
      "text/plain": "(['Aufessen',\n  'weggefuttert',\n  'drinken',\n  'einzukochen',\n  'koten',\n  'inhaliere',\n  'knabbere',\n  'Bio-Essen',\n  'schmatz',\n  'Trinket'],\n array([[1.    , 0.8243, 0.8131, 0.7734, 0.7115, 0.7059, 0.7032, 0.6845,\n         0.672 , 0.6681]], dtype=float32))"
     },
     "execution_count": 6,
     "metadata": {},
     "output_type": "execute_result"
    }
   ],
   "source": [
    "spacy_most_similar(categories[0])"
   ],
   "metadata": {
    "collapsed": false,
    "pycharm": {
     "name": "#%%\n"
    }
   }
  },
  {
   "cell_type": "markdown",
   "source": [
    "### Aspect based sentiment analysis"
   ],
   "metadata": {
    "collapsed": false,
    "pycharm": {
     "name": "#%% md\n"
    }
   }
  },
  {
   "cell_type": "code",
   "execution_count": 7,
   "outputs": [
    {
     "name": "stdout",
     "output_type": "stream",
     "text": [
      "ambiente konzept\n",
      "cooles ambiente konzept\n",
      "lecker bürger\n",
      "individuelle bedürfnisse\n",
      "sympathische mitarbeiter\n",
      "gemütliche atmosphäre\n",
      "freundliche gemütliche atmosphäre\n",
      "fantastisches essen\n",
      "burger schicki-micki\n",
      "absoluter kult\n",
      "burger lupo\n",
      "selben burger\n",
      "individuelle möglichkeiten\n",
      "ambiente zeitsprung\n",
      "alternativen ambiente zeitsprung\n",
      "fleischlose alternativen ambiente zeitsprung\n",
      "bester service\n",
      "lecker burger\n",
      "fairen preis\n",
      "ambiente kartenzahlung\n",
      "coolen ambiente kartenzahlung\n",
      "leckere burger\n",
      "freundliche bedienung\n",
      "klasse auswahl\n",
      "milchshake kombination\n",
      "sterne milchshake kombination\n",
      "veganer vegetarier\n",
      "bescheidenen services\n",
      "kreative auswahl\n",
      "schlechten erfahrungen\n",
      "tolle atmosphäre\n",
      "leckere burger\n",
      "leckere burger\n",
      "nette bedienung\n",
      "burger d-dorf\n",
      "handgemachte burger\n",
      "lecker gast\n",
      "tische minuten\n",
      "kalter burger\n",
      "nettes personal\n",
      "erstklassige burger\n",
      "witziges ambiente\n",
      "lieblingslokale stadt\n",
      "eingerichtetes restaurant\n",
      "lockeren servicemitarbeitern\n",
      "größer sparmenüs\n",
      "versteckte kamera\n",
      "cooles ambiente\n",
      "fairen preisen\n",
      "bester burger\n",
      "baustein ausgewählt stammkunde\n",
      "barzahlung drängen komische\n",
      "komische gedanken\n",
      "leckere auswahl\n",
      "burger auswahl\n",
      "gestalteter burger\n",
      "gefallen burger\n",
      "vegetarische variante\n",
      "vegane vegetarische variante\n",
      "ausgefallen klassiker\n",
      "leckeren burgern\n",
      "geschichte speisekarte\n",
      "lecker preis\n",
      "leckere burger\n",
      "riesige auswahl\n",
      "burgern menge\n",
      "vegane burger\n",
      "vegane mayo\n",
      "vegane burger\n",
      "burger stern\n",
      "schwierige auswahl\n",
      "langen beschreibungen\n",
      "karte langen beschreibungen\n",
      "ausgefallene kreationen\n",
      "burgerladen ausgefallene kreationen\n",
      "super auswahl\n",
      "leckerer burgerladen\n",
      "gereizter stimmung\n",
      "leckere burger\n",
      "schnelle bedienung\n",
      "leckere burger\n",
      "tolles ambiente\n",
      "leckere burger\n",
      "freundliches personal\n",
      "space burger\n",
      "besuchtes restaurant\n",
      "falsche bestellung\n",
      "wusste gastronomie\n",
      "einzige wusste gastronomie\n",
      "männlichen kellner\n",
      "nette location\n",
      "getränkenestllungen okay\n",
      "weiterer getränkenestllungen okay\n",
      "leckere burger\n",
      "freundliches personal\n",
      "ausgefallenes interieur\n",
      "guten hamburger-sortiment\n",
      "guten guten hamburger-sortiment\n",
      "leckerer burger\n",
      "schärfe stufe\n",
      "fall essen nächsten\n",
      "sauberes burgerrestaurant\n",
      "nette bedienung\n",
      "angenehme atmosphäre\n",
      "leckere burger\n",
      "lecker punkt\n",
      "burger freund\n",
      "rohe avocado\n",
      "leckere burger\n",
      "leckere burger\n",
      "nettes personal\n",
      "frühen sonntag\n",
      "ambiente bedienung\n",
      "cooles ambiente bedienung\n",
      "feinsten cooles ambiente bedienung\n",
      "leckeren burgern\n",
      "leckere burger\n",
      "tolle variationen\n",
      "allerfeinsten tolle variationen\n",
      "frische zutaten\n",
      "tolle drinks\n",
      "absolute empfehlung\n",
      "burgern getränken\n",
      "konkreten burgerwahl\n",
      "schönes ambiente\n",
      "freundliche bedienung\n",
      "bedienung essen fairen\n",
      "fairen preis\n",
      "burger schmeckt absolute\n",
      "oberklasse portion\n",
      "absolute oberklasse portion\n",
      "perfekte menge\n",
      "größte perfekte menge\n",
      "soße burger\n",
      "wichtiger kunden\n",
      "üblichen burgerbuden\n",
      "nacktschnecke teller\n",
      "langer pause\n",
      "mayo boten guten\n",
      "leckere burger\n",
      "nettes personal\n",
      "20min bestellung\n",
      "bestellung aufgenommen 10min\n",
      "10min bedienung\n",
      "freundliches personal\n",
      "entspanntes freundliches personal\n",
      "riesengroße burger\n",
      "pommes beilage\n",
      "einfallsreiche pommes beilage\n",
      "leckere einfallsreiche pommes beilage\n",
      "interessante lokalität\n",
      "bester burger\n",
      "burger auswahl\n",
      "veganen optionen\n",
      "vegetarischen veganen optionen\n",
      "persönlichem burgerfavoritenliste\n",
      "burgerladen witz\n",
      "cooler burgerladen witz\n",
      "netter bedienung\n",
      "fairen preisen\n",
      "burger fairen preisen\n",
      "burger preis\n",
      "liebe restaurant\n",
      "betreten restaurants\n",
      "testnachweisen burger\n",
      "lecker kellner\n",
      "leckeren burger\n",
      "tollen aufenthalt\n",
      "nette bedienung\n",
      "ausgefallenen burgen\n",
      "unappetitliches essen\n",
      "bitter burger\n",
      "sprite bitter burger\n",
      "warmes fleisch\n",
      "knuspriger döner\n",
      "saftiger knuspriger döner\n",
      "beste döner\n",
      "döner enttäuschung\n",
      "döner portion\n",
      "döner stadt\n",
      "beste döner stadt\n",
      "überteuerten preis\n",
      "gegangen preise\n",
      "letzten besuch\n",
      "schmeckte letzten besuch\n",
      "feuchttücher zahnstocher\n",
      "alten mitarbeiter\n",
      "beste döner\n",
      "wurden.die geschwindigkeit\n",
      "freundliche bedienung\n",
      "saucen ordnung\n",
      "echte dönner\n",
      "dönerläden stadt\n",
      "schlechte qualität\n"
     ]
    },
    {
     "name": "stderr",
     "output_type": "stream",
     "text": [
      "/var/folders/8f/b5rl_hw50bn0_k4xrt7mtm7w0000gn/T/ipykernel_55707/2380499998.py:25: UserWarning: [W008] Evaluating Doc.similarity based on empty vectors.\n",
      "  similarity_cat0 = nlp(categories[0]).similarity(span)\n",
      "/var/folders/8f/b5rl_hw50bn0_k4xrt7mtm7w0000gn/T/ipykernel_55707/2380499998.py:31: UserWarning: [W008] Evaluating Doc.similarity based on empty vectors.\n",
      "  similarity_cat1 = nlp(categories[1]).similarity(span)\n",
      "/var/folders/8f/b5rl_hw50bn0_k4xrt7mtm7w0000gn/T/ipykernel_55707/2380499998.py:36: UserWarning: [W008] Evaluating Doc.similarity based on empty vectors.\n",
      "  similarity_cat2 = nlp(categories[2]).similarity(span)\n",
      "/var/folders/8f/b5rl_hw50bn0_k4xrt7mtm7w0000gn/T/ipykernel_55707/2380499998.py:41: UserWarning: [W008] Evaluating Doc.similarity based on empty vectors.\n",
      "  similarity_cat3 = nlp(categories[3]).similarity(span)\n",
      "/var/folders/8f/b5rl_hw50bn0_k4xrt7mtm7w0000gn/T/ipykernel_55707/2380499998.py:46: UserWarning: [W008] Evaluating Doc.similarity based on empty vectors.\n",
      "  similarity_cat4 = nlp(categories[4]).similarity(span)\n"
     ]
    },
    {
     "name": "stdout",
     "output_type": "stream",
     "text": [
      "schlechteste döner\n",
      "peperoni döner\n",
      "beste peperoni döner\n",
      "döner preis\n",
      "einziger stern\n",
      "döner schmeckt absoluter\n",
      "absoluter standard\n",
      "appetit gesehen anderer\n",
      "anderer zutaten\n",
      "negative emotionen\n",
      "qualität verschlechtert rote\n",
      "soße geschmack\n",
      "rote soße geschmack\n",
      "restaurant gerannt letztes\n",
      "letztes döner\n",
      "negativen sinne\n",
      "unfreundliche bedienung\n",
      "soße ertränkt\n",
      "monatlichen preiserhöhungen\n",
      "look kind\n",
      "erwartete döner\n",
      "teurer preis\n",
      "besseren döner\n",
      "unverhältnismäßiger preisanstieg\n",
      "döner plastik\n",
      "durchschnittlicher standard\n",
      "günstigste preis\n",
      "besonderes fett\n",
      "leidenschaftlicher essenkritiker\n",
      "totzdessen gemüse\n",
      "döner totzdessen gemüse\n",
      "soße brot\n",
      "richtiges fleisch\n",
      "schlechte qualität\n",
      "döner stadt\n",
      "beste döner stadt\n",
      "soße soße\n",
      "ähnlichem sterne\n",
      "netten mitarbeiter\n",
      "letzter gefühl\n",
      "düsseldorfer innenstadt\n",
      "bessere gegessen\n",
      "update chance\n",
      "lustiges personal\n",
      "herzliches lustiges personal\n",
      "lieblingsdöner herzliches lustiges personal\n",
      "absoluter lieblingsdöner herzliches lustiges personal\n",
      "bester döner\n",
      "döner geschmack\n",
      "bester döner geschmack\n",
      "überflüssiger krimskrams\n",
      "nette leute\n",
      "korrekten preis\n",
      "bester döner\n",
      "döner stadt\n",
      "beste döner stadt\n",
      "perfekten döner\n",
      "toller service\n",
      "lecker toller service\n",
      "langen warteschlange\n",
      "perfekte entscheidung\n",
      "guten soßen\n",
      "netter köstlicher\n",
      "freundliche mitarbeiter\n",
      "bester döner\n",
      "bester döner\n",
      "knuspriges brot\n",
      "gemischtes fleisch\n",
      "beste wahl\n",
      "tolle soßen\n",
      "frischer salat\n",
      "guten öffnungszeiten\n",
      "bester döner\n",
      "positive emotionen\n",
      "edible positive emotionen\n",
      "d'dorfer verhältnisse\n",
      "döner d'dorfer verhältnisse\n",
      "nettes personal\n",
      "toller döner\n",
      "schnelle zubereitung\n",
      "beste döner\n",
      "positive emotionen\n",
      "leckerste pizza\n",
      "positive emotionen\n",
      "leckere pizzen\n",
      "coole atmosphäre\n",
      "lecker empfehlung\n",
      "beste pizza\n",
      "solide pizza\n",
      "leckere pizza\n",
      "phänomenale pizza\n",
      "netter service\n",
      "belegte pizza\n",
      "leckere belegte pizza\n",
      "fluffiger rand\n",
      "dicker fluffiger rand\n",
      "deutsche sorten\n",
      "normale deutsche sorten\n",
      "lecker wartezeit\n",
      "pizza mozarella\n",
      "frische zutaten\n",
      "stolzen preis\n",
      "durchwachsenes produkt\n",
      "beste pizza\n",
      "kosten servierte neapolitanische\n",
      "neapolitanische pizza\n",
      "italienische pizza\n",
      "leckerste pizza\n",
      "tolles ambiente\n",
      "beste pizza\n",
      "neapolitanische pizza\n",
      "originale neapolitanische pizza\n",
      "leckere pizza\n",
      "leckere pizzen\n",
      "trubeliger atmosphäre\n",
      "stylisher trubeliger atmosphäre\n",
      "leckere pizza\n",
      "beste pizza\n",
      "sonstigen symptome\n",
      "völlegefühle sonstigen symptome\n",
      "hervorragender teig\n",
      "hervorragender service\n",
      "angerufen probleme\n",
      "kosten pizzen\n",
      "wärmeboxen benutzen warmen\n",
      "warmen pizzen\n",
      "kalte pizza\n",
      "beste pizzeria\n",
      "awesome pizza\n",
      "tolle pizza\n",
      "beste pizza\n",
      "einzige pizza\n",
      "negativen rezensionen\n",
      "leckere pizzen\n",
      "leckere pizza\n",
      "netter service\n",
      "leckere pizza\n",
      "kalter temperaturen\n",
      "leckere pizza\n",
      "netter service\n",
      "junge männer\n",
      "hungrige junge männer\n",
      "grandiose pizza\n",
      "klassischen pizzen\n",
      "geschmack sagen schlechtesten\n",
      "schlechtesten pizzen\n",
      "zutaten fehlte gewisse\n",
      "gewisse geschmacklich\n",
      "direkten vergleich\n",
      "leckere pizza\n",
      "längeren verbleib\n",
      "positive emotionen\n",
      "neapolitanische pizza\n",
      "echte neapolitanische pizza\n",
      "platz bekommen coole\n",
      "coole leute\n",
      "beste pizza\n",
      "ungeschlagener liebling\n",
      "bockenheimer kekspizza\n",
      "neapolitanischen pizza\n",
      "laute musik\n",
      "freien tische\n",
      "echter italiener\n",
      "intensiven geschmack\n",
      "beste pizza\n"
     ]
    },
    {
     "name": "stderr",
     "output_type": "stream",
     "text": [
      "/var/folders/8f/b5rl_hw50bn0_k4xrt7mtm7w0000gn/T/ipykernel_55707/2380499998.py:25: UserWarning: [W008] Evaluating Doc.similarity based on empty vectors.\n",
      "  similarity_cat0 = nlp(categories[0]).similarity(span)\n",
      "/var/folders/8f/b5rl_hw50bn0_k4xrt7mtm7w0000gn/T/ipykernel_55707/2380499998.py:31: UserWarning: [W008] Evaluating Doc.similarity based on empty vectors.\n",
      "  similarity_cat1 = nlp(categories[1]).similarity(span)\n",
      "/var/folders/8f/b5rl_hw50bn0_k4xrt7mtm7w0000gn/T/ipykernel_55707/2380499998.py:36: UserWarning: [W008] Evaluating Doc.similarity based on empty vectors.\n",
      "  similarity_cat2 = nlp(categories[2]).similarity(span)\n",
      "/var/folders/8f/b5rl_hw50bn0_k4xrt7mtm7w0000gn/T/ipykernel_55707/2380499998.py:41: UserWarning: [W008] Evaluating Doc.similarity based on empty vectors.\n",
      "  similarity_cat3 = nlp(categories[3]).similarity(span)\n",
      "/var/folders/8f/b5rl_hw50bn0_k4xrt7mtm7w0000gn/T/ipykernel_55707/2380499998.py:46: UserWarning: [W008] Evaluating Doc.similarity based on empty vectors.\n",
      "  similarity_cat4 = nlp(categories[4]).similarity(span)\n"
     ]
    },
    {
     "name": "stdout",
     "output_type": "stream",
     "text": [
      "leckere pizza\n",
      "vegane käse\n",
      "lecker vegane käse\n",
      "pizza essen getränke\n",
      "getränke theke\n",
      "pizza niveau\n",
      "zuvorkommendes personal\n",
      "freundliches zuvorkommendes personal\n",
      "schönen abend\n",
      "neapolitanische pizza\n",
      "vernünftige neapolitanische pizza\n",
      "beste pizza\n",
      "italiens stimmung\n",
      "geschmackssache pizza\n",
      "nettes personal\n",
      "angenehmes ambiente\n",
      "neapolitanische pizza\n",
      "hervorragende neapolitanische pizza\n",
      "fruendliche atmosphäre\n",
      "schöne auswahl\n",
      "leckere pizza\n",
      "jüngere volk\n"
     ]
    }
   ],
   "source": [
    "matcher = Matcher(nlp.vocab)\n",
    "patterns = [\n",
    "    [{'POS':'ADJ', 'OP': '+'}, {'POS':'NOUN'}],\n",
    "    [{'POS':'NOUN'}, {'POS':'VERB'}, {'POS':'ADJ'}]\n",
    "]\n",
    "matcher.add(\"category\", patterns)\n",
    "\n",
    "df_matches = pd.DataFrame([], columns=['index', 'aspect', 'entity_group'])\n",
    "\n",
    "similarity_min = 0.4\n",
    "\n",
    "for rowIndex, wordText in enumerate(df['caption']):\n",
    "    doc = nlp(wordText)\n",
    "    matches = matcher(doc)\n",
    "\n",
    "    for match_id, start, end in matches:\n",
    "        string_id = nlp.vocab.strings[match_id]\n",
    "        span = doc[start:end]\n",
    "\n",
    "        for i, s in enumerate(span):\n",
    "            if s.pos_ in ['NOUN']:\n",
    "                category = ''\n",
    "                similarity = 0\n",
    "\n",
    "                similarity_cat0 = nlp(categories[0]).similarity(span)\n",
    "                if similarity_cat0 > similarity_min: # fits into\n",
    "                    category = categories[0]\n",
    "                    similarity = similarity_cat0\n",
    "\n",
    "                print(span)\n",
    "                similarity_cat1 = nlp(categories[1]).similarity(span)\n",
    "                if similarity_cat1 > similarity_min: # fits into\n",
    "                    category = categories[1]\n",
    "                    similarity = similarity_cat1\n",
    "\n",
    "                similarity_cat2 = nlp(categories[2]).similarity(span)\n",
    "                if similarity_cat2 > similarity_min: # fits into\n",
    "                    category = categories[2]\n",
    "                    similarity = similarity_cat2\n",
    "\n",
    "                similarity_cat3 = nlp(categories[3]).similarity(span)\n",
    "                if similarity_cat3 > similarity_min: # fits into\n",
    "                    category = categories[3]\n",
    "                    similarity = similarity_cat3\n",
    "\n",
    "                similarity_cat4 = nlp(categories[4]).similarity(span)\n",
    "                if similarity_cat4 > similarity_min: # fits into\n",
    "                    category = categories[4]\n",
    "                    similarity = similarity_cat4\n",
    "\n",
    "                df_matches = pd.concat([pd.DataFrame({'index': rowIndex,\n",
    "                                                      'aspect': category,\n",
    "                                                      'entity_group': span.text,\n",
    "                                                      }, columns=df_matches.columns, index=[0]),\n",
    "                                        df_matches])"
   ],
   "metadata": {
    "collapsed": false,
    "pycharm": {
     "name": "#%%\n"
    }
   }
  },
  {
   "cell_type": "code",
   "execution_count": 8,
   "outputs": [
    {
     "data": {
      "text/plain": "   index      aspect                         entity_group\n0    332                                     jüngere volk\n0    330       essen                        leckere pizza\n0    329                                   schöne auswahl\n0    329  atmosphäre               fruendliche atmosphäre\n0    328              hervorragende neapolitanische pizza\n..   ...         ...                                  ...\n0      1  atmosphäre             sympathische mitarbeiter\n0      0                         individuelle bedürfnisse\n0      0       essen                        lecker bürger\n0      0  atmosphäre              cooles ambiente konzept\n0      0  atmosphäre                     ambiente konzept\n\n[381 rows x 3 columns]",
      "text/html": "<div>\n<style scoped>\n    .dataframe tbody tr th:only-of-type {\n        vertical-align: middle;\n    }\n\n    .dataframe tbody tr th {\n        vertical-align: top;\n    }\n\n    .dataframe thead th {\n        text-align: right;\n    }\n</style>\n<table border=\"1\" class=\"dataframe\">\n  <thead>\n    <tr style=\"text-align: right;\">\n      <th></th>\n      <th>index</th>\n      <th>aspect</th>\n      <th>entity_group</th>\n    </tr>\n  </thead>\n  <tbody>\n    <tr>\n      <th>0</th>\n      <td>332</td>\n      <td></td>\n      <td>jüngere volk</td>\n    </tr>\n    <tr>\n      <th>0</th>\n      <td>330</td>\n      <td>essen</td>\n      <td>leckere pizza</td>\n    </tr>\n    <tr>\n      <th>0</th>\n      <td>329</td>\n      <td></td>\n      <td>schöne auswahl</td>\n    </tr>\n    <tr>\n      <th>0</th>\n      <td>329</td>\n      <td>atmosphäre</td>\n      <td>fruendliche atmosphäre</td>\n    </tr>\n    <tr>\n      <th>0</th>\n      <td>328</td>\n      <td></td>\n      <td>hervorragende neapolitanische pizza</td>\n    </tr>\n    <tr>\n      <th>...</th>\n      <td>...</td>\n      <td>...</td>\n      <td>...</td>\n    </tr>\n    <tr>\n      <th>0</th>\n      <td>1</td>\n      <td>atmosphäre</td>\n      <td>sympathische mitarbeiter</td>\n    </tr>\n    <tr>\n      <th>0</th>\n      <td>0</td>\n      <td></td>\n      <td>individuelle bedürfnisse</td>\n    </tr>\n    <tr>\n      <th>0</th>\n      <td>0</td>\n      <td>essen</td>\n      <td>lecker bürger</td>\n    </tr>\n    <tr>\n      <th>0</th>\n      <td>0</td>\n      <td>atmosphäre</td>\n      <td>cooles ambiente konzept</td>\n    </tr>\n    <tr>\n      <th>0</th>\n      <td>0</td>\n      <td>atmosphäre</td>\n      <td>ambiente konzept</td>\n    </tr>\n  </tbody>\n</table>\n<p>381 rows × 3 columns</p>\n</div>"
     },
     "execution_count": 8,
     "metadata": {},
     "output_type": "execute_result"
    }
   ],
   "source": [
    "df_matches"
   ],
   "metadata": {
    "collapsed": false,
    "pycharm": {
     "name": "#%%\n"
    }
   }
  },
  {
   "cell_type": "markdown",
   "source": [
    "#### TextBlob sentiment analysis"
   ],
   "metadata": {
    "collapsed": false,
    "pycharm": {
     "name": "#%% md\n"
    }
   }
  },
  {
   "cell_type": "code",
   "execution_count": 9,
   "outputs": [
    {
     "name": "stdout",
     "output_type": "stream",
     "text": [
      "   index      aspect                         entity_group  sentiment_polarity  \\\n",
      "0      0  atmosphäre                     ambiente konzept                 0.0   \n",
      "0      0                         individuelle bedürfnisse                 0.0   \n",
      "0      0  atmosphäre              cooles ambiente konzept                 0.7   \n",
      "0      0       essen                        lecker bürger                 0.0   \n",
      "0      1       essen                  fantastisches essen                 1.0   \n",
      "..   ...         ...                                  ...                 ...   \n",
      "0    328              hervorragende neapolitanische pizza                 1.0   \n",
      "0    329  atmosphäre               fruendliche atmosphäre                 0.0   \n",
      "0    329                                   schöne auswahl                 1.0   \n",
      "0    330       essen                        leckere pizza                 0.0   \n",
      "0    332                                     jüngere volk                 0.0   \n",
      "\n",
      "    sentiment_subjectivity  \n",
      "0                      0.0  \n",
      "0                      0.0  \n",
      "0                      0.0  \n",
      "0                      0.0  \n",
      "0                      0.0  \n",
      "..                     ...  \n",
      "0                      0.0  \n",
      "0                      0.0  \n",
      "0                      0.0  \n",
      "0                      0.0  \n",
      "0                      0.0  \n",
      "\n",
      "[381 rows x 5 columns]\n"
     ]
    }
   ],
   "source": [
    "sentiment_polarities = []\n",
    "sentiment_subjectivities = []\n",
    "\n",
    "for i, row in df_matches.iterrows():\n",
    "    sentiment = TextBlob(row['entity_group']).sentiment\n",
    "    sentiment_polarities.append(sentiment.polarity)\n",
    "    sentiment_subjectivities.append(sentiment.subjectivity)\n",
    "\n",
    "df_matches['sentiment_polarity'] = sentiment_polarities\n",
    "df_matches['sentiment_subjectivity'] = sentiment_subjectivities\n",
    "\n",
    "df_matches_sorted = df_matches.sort_values(by='index')\n",
    "print(df_matches_sorted)"
   ],
   "metadata": {
    "collapsed": false,
    "pycharm": {
     "name": "#%%\n"
    }
   }
  },
  {
   "cell_type": "code",
   "execution_count": 10,
   "outputs": [
    {
     "data": {
      "text/plain": "   Unnamed: 0  \\\n0           0   \n1           1   \n2           2   \n\n                                                                                                                                          caption  \\\n0                         mega cooles ambiente konzept bürger geschmacklich lecker bürger individuelle bedürfnisse anpassen allergien vegetarisch   \n1                                               super sympathische mitarbeiter freundliche gemütliche atmosphäre fantastisches essen sicher öfter   \n2  nenne burger schicki-micki gerne burgerladen dortmund hüstel absoluter kult maestro tozzi gedicht gegend space burger lupo beides einfach kult   \n\n   rating  \n0     4.0  \n1     5.0  \n2     5.0  ",
      "text/html": "<div>\n<style scoped>\n    .dataframe tbody tr th:only-of-type {\n        vertical-align: middle;\n    }\n\n    .dataframe tbody tr th {\n        vertical-align: top;\n    }\n\n    .dataframe thead th {\n        text-align: right;\n    }\n</style>\n<table border=\"1\" class=\"dataframe\">\n  <thead>\n    <tr style=\"text-align: right;\">\n      <th></th>\n      <th>Unnamed: 0</th>\n      <th>caption</th>\n      <th>rating</th>\n    </tr>\n  </thead>\n  <tbody>\n    <tr>\n      <th>0</th>\n      <td>0</td>\n      <td>mega cooles ambiente konzept bürger geschmacklich lecker bürger individuelle bedürfnisse anpassen allergien vegetarisch</td>\n      <td>4.0</td>\n    </tr>\n    <tr>\n      <th>1</th>\n      <td>1</td>\n      <td>super sympathische mitarbeiter freundliche gemütliche atmosphäre fantastisches essen sicher öfter</td>\n      <td>5.0</td>\n    </tr>\n    <tr>\n      <th>2</th>\n      <td>2</td>\n      <td>nenne burger schicki-micki gerne burgerladen dortmund hüstel absoluter kult maestro tozzi gedicht gegend space burger lupo beides einfach kult</td>\n      <td>5.0</td>\n    </tr>\n  </tbody>\n</table>\n</div>"
     },
     "execution_count": 10,
     "metadata": {},
     "output_type": "execute_result"
    }
   ],
   "source": [
    "df.head(3)"
   ],
   "metadata": {
    "collapsed": false,
    "pycharm": {
     "name": "#%%\n"
    }
   }
  },
  {
   "cell_type": "code",
   "execution_count": 11,
   "outputs": [
    {
     "data": {
      "text/plain": "   Unnamed: 0  \\\n0           0   \n1           1   \n2           2   \n3           3   \n4           4   \n\n                                                                                                                                                          caption  \\\n0                                         mega cooles ambiente konzept bürger geschmacklich lecker bürger individuelle bedürfnisse anpassen allergien vegetarisch   \n1                                                               super sympathische mitarbeiter freundliche gemütliche atmosphäre fantastisches essen sicher öfter   \n2                  nenne burger schicki-micki gerne burgerladen dortmund hüstel absoluter kult maestro tozzi gedicht gegend space burger lupo beides einfach kult   \n3                                              gestern dritt selben burger bestellt gestern abend magen darm burger lecker irgendetwas schmeckte komisch erwartet   \n4  fanden burger restaurant klasse individuelle möglichkeiten zudem fleischlose alternativen ambiente zeitsprung vergangenheit kartenzahlung heutzutage zeitgemäß   \n\n   rating  food_positive  food_negative  service_positive  service_negative  \\\n0     4.0              0              0                 0                 0   \n1     5.0              1              0                 0                 0   \n2     5.0              0              0                 0                 0   \n3     1.0              0              0                 0                 0   \n4     4.0              0              0                 0                 0   \n\n   ambient_positive  ambient_negative  price_positive  price_negative  \\\n0                 1                 0               0               0   \n1                 1                 0               0               0   \n2                 0                 0               0               0   \n3                 0                 0               0               0   \n4                 0                 0               0               0   \n\n   waiting_positive  waiting_negative  \n0                 0                 0  \n1                 0                 0  \n2                 0                 0  \n3                 0                 0  \n4                 0                 0  ",
      "text/html": "<div>\n<style scoped>\n    .dataframe tbody tr th:only-of-type {\n        vertical-align: middle;\n    }\n\n    .dataframe tbody tr th {\n        vertical-align: top;\n    }\n\n    .dataframe thead th {\n        text-align: right;\n    }\n</style>\n<table border=\"1\" class=\"dataframe\">\n  <thead>\n    <tr style=\"text-align: right;\">\n      <th></th>\n      <th>Unnamed: 0</th>\n      <th>caption</th>\n      <th>rating</th>\n      <th>food_positive</th>\n      <th>food_negative</th>\n      <th>service_positive</th>\n      <th>service_negative</th>\n      <th>ambient_positive</th>\n      <th>ambient_negative</th>\n      <th>price_positive</th>\n      <th>price_negative</th>\n      <th>waiting_positive</th>\n      <th>waiting_negative</th>\n    </tr>\n  </thead>\n  <tbody>\n    <tr>\n      <th>0</th>\n      <td>0</td>\n      <td>mega cooles ambiente konzept bürger geschmacklich lecker bürger individuelle bedürfnisse anpassen allergien vegetarisch</td>\n      <td>4.0</td>\n      <td>0</td>\n      <td>0</td>\n      <td>0</td>\n      <td>0</td>\n      <td>1</td>\n      <td>0</td>\n      <td>0</td>\n      <td>0</td>\n      <td>0</td>\n      <td>0</td>\n    </tr>\n    <tr>\n      <th>1</th>\n      <td>1</td>\n      <td>super sympathische mitarbeiter freundliche gemütliche atmosphäre fantastisches essen sicher öfter</td>\n      <td>5.0</td>\n      <td>1</td>\n      <td>0</td>\n      <td>0</td>\n      <td>0</td>\n      <td>1</td>\n      <td>0</td>\n      <td>0</td>\n      <td>0</td>\n      <td>0</td>\n      <td>0</td>\n    </tr>\n    <tr>\n      <th>2</th>\n      <td>2</td>\n      <td>nenne burger schicki-micki gerne burgerladen dortmund hüstel absoluter kult maestro tozzi gedicht gegend space burger lupo beides einfach kult</td>\n      <td>5.0</td>\n      <td>0</td>\n      <td>0</td>\n      <td>0</td>\n      <td>0</td>\n      <td>0</td>\n      <td>0</td>\n      <td>0</td>\n      <td>0</td>\n      <td>0</td>\n      <td>0</td>\n    </tr>\n    <tr>\n      <th>3</th>\n      <td>3</td>\n      <td>gestern dritt selben burger bestellt gestern abend magen darm burger lecker irgendetwas schmeckte komisch erwartet</td>\n      <td>1.0</td>\n      <td>0</td>\n      <td>0</td>\n      <td>0</td>\n      <td>0</td>\n      <td>0</td>\n      <td>0</td>\n      <td>0</td>\n      <td>0</td>\n      <td>0</td>\n      <td>0</td>\n    </tr>\n    <tr>\n      <th>4</th>\n      <td>4</td>\n      <td>fanden burger restaurant klasse individuelle möglichkeiten zudem fleischlose alternativen ambiente zeitsprung vergangenheit kartenzahlung heutzutage zeitgemäß</td>\n      <td>4.0</td>\n      <td>0</td>\n      <td>0</td>\n      <td>0</td>\n      <td>0</td>\n      <td>0</td>\n      <td>0</td>\n      <td>0</td>\n      <td>0</td>\n      <td>0</td>\n      <td>0</td>\n    </tr>\n  </tbody>\n</table>\n</div>"
     },
     "execution_count": 11,
     "metadata": {},
     "output_type": "execute_result"
    }
   ],
   "source": [
    "# Loop through all df_matches\n",
    "# For each index check the aspect, if it matches a category\n",
    "# Update the right category of df with the respective sentiment\n",
    "for column in categories_columns:\n",
    "    df[column] = 0\n",
    "\n",
    "for rowIndex, row in df.iterrows():\n",
    "    entities_by_index = df_matches_sorted.loc[df_matches_sorted['index'] == rowIndex]\n",
    "    # reset\n",
    "    for j, item in entities_by_index.iterrows():\n",
    "        if item['aspect'] != '':\n",
    "            category_i = categories.index(item['aspect'])\n",
    "            polarity = item['sentiment_polarity']\n",
    "            if polarity != 0:\n",
    "                column_index = (category_i * 2) if polarity > 0 else (category_i * 2) + 1\n",
    "                df.at[rowIndex, categories_columns[column_index]] = 1\n",
    "\n",
    "df.head()"
   ],
   "metadata": {
    "collapsed": false,
    "pycharm": {
     "name": "#%%\n"
    }
   }
  },
  {
   "cell_type": "code",
   "execution_count": 12,
   "outputs": [],
   "source": [
    "df.to_csv(REVIEWS_CLEANED_FILE_PATH, sep=';')"
   ],
   "metadata": {
    "collapsed": false,
    "pycharm": {
     "name": "#%%\n"
    }
   }
  },
  {
   "cell_type": "code",
   "execution_count": 12,
   "outputs": [],
   "source": [],
   "metadata": {
    "collapsed": false,
    "pycharm": {
     "name": "#%%\n"
    }
   }
  }
 ],
 "metadata": {
  "kernelspec": {
   "display_name": "Python 3",
   "language": "python",
   "name": "python3"
  },
  "language_info": {
   "codemirror_mode": {
    "name": "ipython",
    "version": 2
   },
   "file_extension": ".py",
   "mimetype": "text/x-python",
   "name": "python",
   "nbconvert_exporter": "python",
   "pygments_lexer": "ipython2",
   "version": "2.7.6"
  }
 },
 "nbformat": 4,
 "nbformat_minor": 0
}