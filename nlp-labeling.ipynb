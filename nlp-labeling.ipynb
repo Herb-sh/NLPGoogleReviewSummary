{
 "cells": [
  {
   "cell_type": "code",
   "execution_count": 171,
   "outputs": [],
   "source": [
    "import os\n",
    "import spacy\n",
    "import numpy as np\n",
    "#\n",
    "import pandas as pd\n",
    "#\n",
    "from spacy.matcher import Matcher"
   ],
   "metadata": {
    "collapsed": false,
    "pycharm": {
     "name": "#%%\n"
    }
   }
  },
  {
   "cell_type": "code",
   "execution_count": 163,
   "outputs": [],
   "source": [
    "nlp = spacy.load('de_core_news_md')\n",
    "pd.set_option('display.max_colwidth', None)\n",
    "os.environ[\"SPACY_WARNING_IGNORE\"] = \"W008\""
   ],
   "metadata": {
    "collapsed": false,
    "pycharm": {
     "name": "#%%\n"
    }
   }
  },
  {
   "cell_type": "code",
   "execution_count": 164,
   "outputs": [
    {
     "data": {
      "text/plain": "   Unnamed: 0  \\\n0           0   \n1           4   \n2           7   \n3          11   \n4          13   \n\n                                                                                      caption  \\\n0  abstand leckerst pizza halb abends mitnehmen bestellen positiv emotion einfach niederknien   \n1                                                                              chicken pizzas   \n2                                                                   leck pizz cool atmosphäre   \n3                                                                    extrem lecker empfehlung   \n4                                                                       gut pizza authentisch   \n\n   rating                   timestamp  \n0     5.0  2023-02-15 22:10:07.146586  \n1     4.0  2023-02-14 00:10:07.146703  \n2     5.0  2023-02-13 00:10:07.146710  \n3     5.0  2023-02-10 00:11:07.737920  \n4     5.0  2023-02-09 00:11:07.737926  ",
      "text/html": "<div>\n<style scoped>\n    .dataframe tbody tr th:only-of-type {\n        vertical-align: middle;\n    }\n\n    .dataframe tbody tr th {\n        vertical-align: top;\n    }\n\n    .dataframe thead th {\n        text-align: right;\n    }\n</style>\n<table border=\"1\" class=\"dataframe\">\n  <thead>\n    <tr style=\"text-align: right;\">\n      <th></th>\n      <th>Unnamed: 0</th>\n      <th>caption</th>\n      <th>rating</th>\n      <th>timestamp</th>\n    </tr>\n  </thead>\n  <tbody>\n    <tr>\n      <th>0</th>\n      <td>0</td>\n      <td>abstand leckerst pizza halb abends mitnehmen bestellen positiv emotion einfach niederknien</td>\n      <td>5.0</td>\n      <td>2023-02-15 22:10:07.146586</td>\n    </tr>\n    <tr>\n      <th>1</th>\n      <td>4</td>\n      <td>chicken pizzas</td>\n      <td>4.0</td>\n      <td>2023-02-14 00:10:07.146703</td>\n    </tr>\n    <tr>\n      <th>2</th>\n      <td>7</td>\n      <td>leck pizz cool atmosphäre</td>\n      <td>5.0</td>\n      <td>2023-02-13 00:10:07.146710</td>\n    </tr>\n    <tr>\n      <th>3</th>\n      <td>11</td>\n      <td>extrem lecker empfehlung</td>\n      <td>5.0</td>\n      <td>2023-02-10 00:11:07.737920</td>\n    </tr>\n    <tr>\n      <th>4</th>\n      <td>13</td>\n      <td>gut pizza authentisch</td>\n      <td>5.0</td>\n      <td>2023-02-09 00:11:07.737926</td>\n    </tr>\n  </tbody>\n</table>\n</div>"
     },
     "execution_count": 164,
     "metadata": {},
     "output_type": "execute_result"
    }
   ],
   "source": [
    "REVIEWS_CLEANED_FILE_PATH = 'data/reviews-clean.csv'\n",
    "\n",
    "df = pd.read_csv(REVIEWS_CLEANED_FILE_PATH, sep=';')\n",
    "df.head()"
   ],
   "metadata": {
    "collapsed": false,
    "pycharm": {
     "name": "#%%\n"
    }
   }
  },
  {
   "cell_type": "code",
   "execution_count": 165,
   "outputs": [],
   "source": [
    "categories = ['essen', 'gaststättengewerbe', 'atmosphäre', 'preis', 'warten']"
   ],
   "metadata": {
    "collapsed": false,
    "pycharm": {
     "name": "#%%\n"
    }
   }
  },
  {
   "cell_type": "code",
   "execution_count": 166,
   "outputs": [],
   "source": [
    "def spacy_most_similar(word, topn=10):\n",
    "    ms = nlp.vocab.vectors.most_similar(\n",
    "        nlp(word).vector.reshape(1,nlp(word).vector.shape[0]), n=topn)\n",
    "    words = [nlp.vocab.strings[w] for w in ms[0][0]]\n",
    "    distances = ms[2]\n",
    "    return words, distances"
   ],
   "metadata": {
    "collapsed": false,
    "pycharm": {
     "name": "#%%\n"
    }
   }
  },
  {
   "cell_type": "code",
   "execution_count": 167,
   "outputs": [
    {
     "data": {
      "text/plain": "(['Aufessen',\n  'weggefuttert',\n  'drinken',\n  'einzukochen',\n  'koten',\n  'inhaliere',\n  'knabbere',\n  'Bio-Essen',\n  'schmatz',\n  'Trinket'],\n array([[1.    , 0.8243, 0.8131, 0.7734, 0.7115, 0.7059, 0.7032, 0.6845,\n         0.672 , 0.6681]], dtype=float32))"
     },
     "execution_count": 167,
     "metadata": {},
     "output_type": "execute_result"
    }
   ],
   "source": [
    "spacy_most_similar(categories[0])"
   ],
   "metadata": {
    "collapsed": false,
    "pycharm": {
     "name": "#%%\n"
    }
   }
  },
  {
   "cell_type": "code",
   "execution_count": 192,
   "outputs": [
    {
     "name": "stdout",
     "output_type": "stream",
     "text": [
      "[]\n"
     ]
    },
    {
     "data": {
      "text/plain": "\"\\nfor rowIndex, wordText in enumerate(df['caption'][0:2]):\\n    print(wordText)\\n    doc = nlp(wordText)\\n    matches = matcher(doc)\\n    print(matches)\\n    for match_id, start, end in matches:\\n        string_id = nlp.vocab.strings[match_id]\\n        span = doc[start:end]\\n        print(span.text)\\n\""
     },
     "execution_count": 192,
     "metadata": {},
     "output_type": "execute_result"
    }
   ],
   "source": [
    "matcher = Matcher(nlp.vocab)\n",
    "patterns = [[{'POS':'ADJ'}, {'POS':'NOUN'}]]\n",
    "matcher.add(\"category\", patterns)\n",
    "\n",
    "matches = matcher(nlp('ein gut Fensert'))\n",
    "print(matches)\n",
    "\n",
    "'''\n",
    "for rowIndex, wordText in enumerate(df['caption'][0:2]):\n",
    "    print(wordText)\n",
    "    doc = nlp(wordText)\n",
    "    matches = matcher(doc)\n",
    "    print(matches)\n",
    "    for match_id, start, end in matches:\n",
    "        string_id = nlp.vocab.strings[match_id]\n",
    "        span = doc[start:end]\n",
    "        print(span.text)\n",
    "'''"
   ],
   "metadata": {
    "collapsed": false,
    "pycharm": {
     "name": "#%%\n"
    }
   }
  },
  {
   "cell_type": "code",
   "execution_count": 168,
   "outputs": [
    {
     "name": "stdout",
     "output_type": "stream",
     "text": [
      "0 essen pizza 0.43865881948792484\n",
      "0 essen bestellen 0.4143392967224167\n",
      "0 preis bestellen 0.4073594233690193\n",
      "0 atmosphäre emotion 0.4534038094758903\n",
      "0 warten emotion 0.02380392906254289\n",
      "2 atmosphäre atmosphäre 1.0\n",
      "2 warten atmosphäre 0.15941722217303403\n"
     ]
    },
    {
     "name": "stderr",
     "output_type": "stream",
     "text": [
      "/var/folders/8f/b5rl_hw50bn0_k4xrt7mtm7w0000gn/T/ipykernel_43291/3461502951.py:15: UserWarning: [W008] Evaluating Doc.similarity based on empty vectors.\n",
      "  similarity_cat1 = nlp(categories[1]).similarity(token)\n"
     ]
    }
   ],
   "source": [
    "similarity_min = 0.4\n",
    "\n",
    "for rowIndex, wordText in enumerate(df['caption'][0:3]):\n",
    "    word = nlp(wordText)\n",
    "    tokens = [token.text for token in word]\n",
    "    #tokens\n",
    "    allowed_postags = [\"NOUN\"]\n",
    "    for i, token in enumerate(word):\n",
    "        if token.pos_ in allowed_postags:\n",
    "            if token and token.vector_norm > 1:\n",
    "                similarity_cat0 = nlp(categories[0]).similarity(token)\n",
    "                if similarity_cat0 > similarity_min: # fits into\n",
    "                    print(rowIndex, categories[0], token, similarity_cat0)\n",
    "\n",
    "                similarity_cat1 = nlp(categories[1]).similarity(token)\n",
    "                if similarity_cat1 > similarity_min: # fits into\n",
    "                    print(rowIndex, categories[1], token, similarity_cat1)\n",
    "\n",
    "                similarity_cat2 = nlp(categories[2]).similarity(token)\n",
    "                if similarity_cat2 > similarity_min: # fits into\n",
    "                   print(rowIndex, categories[2], token, similarity_cat2)\n",
    "\n",
    "                similarity_cat3 = nlp(categories[3]).similarity(token)\n",
    "                if similarity_cat3 > similarity_min: # fits into\n",
    "                    print(rowIndex, categories[3], token, similarity_cat3)\n",
    "\n",
    "                similarity_cat4 = nlp(categories[4]).similarity(token)\n",
    "                if similarity_cat2 > similarity_min: # fits into\n",
    "                   print(rowIndex, categories[4], token, similarity_cat4)\n"
   ],
   "metadata": {
    "collapsed": false,
    "pycharm": {
     "name": "#%%\n"
    }
   }
  },
  {
   "cell_type": "code",
   "execution_count": 169,
   "outputs": [
    {
     "data": {
      "text/plain": "0.4386588382204547"
     },
     "execution_count": 169,
     "metadata": {},
     "output_type": "execute_result"
    }
   ],
   "source": [
    "nlp(\"essen\").similarity(nlp(\"pizza\"))"
   ],
   "metadata": {
    "collapsed": false,
    "pycharm": {
     "name": "#%%\n"
    }
   }
  },
  {
   "cell_type": "code",
   "execution_count": 170,
   "outputs": [
    {
     "data": {
      "text/plain": "0"
     },
     "execution_count": 170,
     "metadata": {},
     "output_type": "execute_result"
    }
   ],
   "source": [
    "nlp('pizz').vector_norm"
   ],
   "metadata": {
    "collapsed": false,
    "pycharm": {
     "name": "#%%\n"
    }
   }
  },
  {
   "cell_type": "code",
   "execution_count": 170,
   "outputs": [],
   "source": [],
   "metadata": {
    "collapsed": false,
    "pycharm": {
     "name": "#%%\n"
    }
   }
  }
 ],
 "metadata": {
  "kernelspec": {
   "display_name": "Python 3",
   "language": "python",
   "name": "python3"
  },
  "language_info": {
   "codemirror_mode": {
    "name": "ipython",
    "version": 2
   },
   "file_extension": ".py",
   "mimetype": "text/x-python",
   "name": "python",
   "nbconvert_exporter": "python",
   "pygments_lexer": "ipython2",
   "version": "2.7.6"
  }
 },
 "nbformat": 4,
 "nbformat_minor": 0
}