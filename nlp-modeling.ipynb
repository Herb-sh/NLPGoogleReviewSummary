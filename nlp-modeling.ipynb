{
 "cells": [
  {
   "cell_type": "code",
   "execution_count": 274,
   "outputs": [],
   "source": [
    "import pandas as pd\n",
    "import numpy as np\n",
    "import re\n",
    "import string\n",
    "# SpaCy\n",
    "import spacy\n",
    "from spacy.util import minibatch\n",
    "from spacy.training import Example\n",
    "from spacy.lang.pt.stop_words import STOP_WORDS"
   ],
   "metadata": {
    "collapsed": false,
    "pycharm": {
     "name": "#%%\n"
    }
   }
  },
  {
   "cell_type": "code",
   "execution_count": 275,
   "outputs": [],
   "source": [
    "#nlp = spacy.load('de_core_news_md')\n",
    "nlp = spacy.blank(\"en\")"
   ],
   "metadata": {
    "collapsed": false,
    "pycharm": {
     "name": "#%%\n"
    }
   }
  },
  {
   "cell_type": "code",
   "execution_count": 276,
   "outputs": [],
   "source": [
    "df = pd.read_csv('data/reviews-clean.csv', sep=';')"
   ],
   "metadata": {
    "collapsed": false,
    "pycharm": {
     "name": "#%%\n"
    }
   }
  },
  {
   "cell_type": "code",
   "execution_count": 277,
   "outputs": [
    {
     "data": {
      "text/plain": "   Unnamed: 0                                            caption  rating  \\\n0           0  Die mit Abstand leckerste Pizza in Deutschland...     5.0   \n1           4  Good place to dine in! Sadly no chicken pizzas...     4.0   \n2           5           This is the must try pizza in Frankfurt.     5.0   \n3           6                       5/5 Pizza place in Frankfurt     5.0   \n4           7         Leckere Pizzen und coole Atmosphäre. 👍🏼  (     5.0   \n\n                    timestamp  \\\n0  2023-02-15 22:10:07.146586   \n1  2023-02-14 00:10:07.146703   \n2  2023-02-14 00:10:07.146705   \n3  2023-02-14 00:10:07.146707   \n4  2023-02-13 00:10:07.146710   \n\n                                       caption_clean  \n0  abstand leckerste pizza deutschland selbst wen...  \n1  good place dine sadly chicken pizzas available...  \n2                          this must pizza frankfurt  \n3                              pizza place frankfurt  \n4                    leckere pizzen coole atmosphäre  ",
      "text/html": "<div>\n<style scoped>\n    .dataframe tbody tr th:only-of-type {\n        vertical-align: middle;\n    }\n\n    .dataframe tbody tr th {\n        vertical-align: top;\n    }\n\n    .dataframe thead th {\n        text-align: right;\n    }\n</style>\n<table border=\"1\" class=\"dataframe\">\n  <thead>\n    <tr style=\"text-align: right;\">\n      <th></th>\n      <th>Unnamed: 0</th>\n      <th>caption</th>\n      <th>rating</th>\n      <th>timestamp</th>\n      <th>caption_clean</th>\n    </tr>\n  </thead>\n  <tbody>\n    <tr>\n      <th>0</th>\n      <td>0</td>\n      <td>Die mit Abstand leckerste Pizza in Deutschland...</td>\n      <td>5.0</td>\n      <td>2023-02-15 22:10:07.146586</td>\n      <td>abstand leckerste pizza deutschland selbst wen...</td>\n    </tr>\n    <tr>\n      <th>1</th>\n      <td>4</td>\n      <td>Good place to dine in! Sadly no chicken pizzas...</td>\n      <td>4.0</td>\n      <td>2023-02-14 00:10:07.146703</td>\n      <td>good place dine sadly chicken pizzas available...</td>\n    </tr>\n    <tr>\n      <th>2</th>\n      <td>5</td>\n      <td>This is the must try pizza in Frankfurt.</td>\n      <td>5.0</td>\n      <td>2023-02-14 00:10:07.146705</td>\n      <td>this must pizza frankfurt</td>\n    </tr>\n    <tr>\n      <th>3</th>\n      <td>6</td>\n      <td>5/5 Pizza place in Frankfurt</td>\n      <td>5.0</td>\n      <td>2023-02-14 00:10:07.146707</td>\n      <td>pizza place frankfurt</td>\n    </tr>\n    <tr>\n      <th>4</th>\n      <td>7</td>\n      <td>Leckere Pizzen und coole Atmosphäre. 👍🏼  (</td>\n      <td>5.0</td>\n      <td>2023-02-13 00:10:07.146710</td>\n      <td>leckere pizzen coole atmosphäre</td>\n    </tr>\n  </tbody>\n</table>\n</div>"
     },
     "execution_count": 277,
     "metadata": {},
     "output_type": "execute_result"
    }
   ],
   "source": [
    "REGX_USERNAME = r\"@[A-Za-z0-9$-_@.&+]+\"\n",
    "REGX_URL = r\"https?://[A-Za-z0-9./]+\"\n",
    "def preprocessing(text):\n",
    "    text = text.lower()\n",
    "\n",
    "    text = re.sub(REGX_USERNAME, ' ', text)\n",
    "    text = re.sub(REGX_URL, ' ', text)\n",
    "\n",
    "    emojis = {\n",
    "        ':)': 'emocaopositiva',\n",
    "        ':(': 'emocaonegativa'\n",
    "    }\n",
    "\n",
    "    for e in emojis:\n",
    "        text = text.replace(e, emojis[e])\n",
    "\n",
    "    tokens = [token.text for token in nlp(text)]\n",
    "\n",
    "    tokens = [t for t in tokens if\n",
    "              t not in STOP_WORDS and\n",
    "              t not in string.punctuation and\n",
    "              len(t) > 3]\n",
    "\n",
    "    tokens = [t for t in tokens if not t.isdigit()]\n",
    "\n",
    "    return \" \".join(tokens)\n",
    "df[\"caption_clean\"] = df[\"caption\"].apply(preprocessing)\n",
    "df.head()"
   ],
   "metadata": {
    "collapsed": false,
    "pycharm": {
     "name": "#%%\n"
    }
   }
  },
  {
   "cell_type": "code",
   "execution_count": 278,
   "outputs": [],
   "source": [
    "from spacy.pipeline.textcat_multilabel import DEFAULT_MULTI_TEXTCAT_MODEL"
   ],
   "metadata": {
    "collapsed": false,
    "pycharm": {
     "name": "#%%\n"
    }
   }
  },
  {
   "cell_type": "code",
   "execution_count": 279,
   "outputs": [
    {
     "data": {
      "text/plain": "1"
     },
     "execution_count": 279,
     "metadata": {},
     "output_type": "execute_result"
    }
   ],
   "source": [
    "textcat_multilabel = nlp.add_pipe(\"textcat_multilabel\", config={\n",
    "    \"threshold\": 0.5,\n",
    "    \"model\": DEFAULT_MULTI_TEXTCAT_MODEL,\n",
    "}, last=True)\n",
    "\n",
    "# Add the labels to the text classifier\n",
    "textcat_multilabel.add_label('1')\n",
    "textcat_multilabel.add_label('2')\n",
    "textcat_multilabel.add_label('3')\n",
    "textcat_multilabel.add_label('4')\n",
    "textcat_multilabel.add_label('5')"
   ],
   "metadata": {
    "collapsed": false,
    "pycharm": {
     "name": "#%%\n"
    }
   }
  },
  {
   "cell_type": "code",
   "execution_count": 280,
   "outputs": [],
   "source": [
    "def load_data(split=0.8):\n",
    "    split = int(len(df) * split)\n",
    "\n",
    "    X_train = df['caption_clean'][:split]\n",
    "    y_train = df['rating'][:split]\n",
    "    X_test = df['caption_clean'][split:]\n",
    "    y_test = df['rating'][split:]\n",
    "\n",
    "    return (X_train, y_train), (X_test, y_test)"
   ],
   "metadata": {
    "collapsed": false,
    "pycharm": {
     "name": "#%%\n"
    }
   }
  },
  {
   "cell_type": "code",
   "execution_count": 281,
   "outputs": [],
   "source": [
    "# load the dataset\n",
    "(X_train, y_train), (X_test, y_test) = load_data()\n",
    "\n",
    "train_data = list(zip(X_train, [{'cats': {\"1\":  cats==1, \"2\":  cats==2, \"3\":  cats==3, \"4\":  cats==4, \"5\":  cats==5}} for cats in y_train]))\n",
    "test_data = list(zip(X_test, [{'cats': {\"1\":  cats==1, \"2\":  cats==2, \"3\":  cats==3, \"4\":  cats==4, \"5\":  cats==5}} for cats in y_test]))"
   ],
   "metadata": {
    "collapsed": false,
    "pycharm": {
     "name": "#%%\n"
    }
   }
  },
  {
   "cell_type": "code",
   "execution_count": 282,
   "outputs": [
    {
     "data": {
      "text/plain": "[('abstand leckerste pizza deutschland selbst wenn halb abends mitnehmen bestellt emocaopositiva einfach niederknien',\n  {'cats': {'1': False, '2': False, '3': False, '4': False, '5': True}}),\n ('good place dine sadly chicken pizzas available keep mind waiting time when visit',\n  {'cats': {'1': False, '2': False, '3': False, '4': True, '5': False}})]"
     },
     "execution_count": 282,
     "metadata": {},
     "output_type": "execute_result"
    }
   ],
   "source": [
    "train_data[:2]"
   ],
   "metadata": {
    "collapsed": false,
    "pycharm": {
     "name": "#%%\n"
    }
   }
  },
  {
   "cell_type": "code",
   "execution_count": 283,
   "outputs": [],
   "source": [
    "# Train the text classifier\n",
    "other_pipes = [pipe for pipe in nlp.pipe_names if pipe != 'textcat_multilabel']\n",
    "\n",
    "with nlp.disable_pipes(*other_pipes):\n",
    "    optimizer = nlp.initialize()\n",
    "    for i in range(10): # Iterations\n",
    "        np.random.shuffle(train_data)\n",
    "        for batch in minibatch(train_data, size=8):\n",
    "            for text, annotations in batch:\n",
    "                # create Example\n",
    "                doc = nlp.make_doc(text)\n",
    "                example = Example.from_dict(doc, annotations)\n",
    "                # Update the model\n",
    "                nlp.update([example], drop=0.3, sgd=optimizer)"
   ],
   "metadata": {
    "collapsed": false,
    "pycharm": {
     "name": "#%%\n"
    }
   }
  },
  {
   "cell_type": "code",
   "execution_count": 285,
   "outputs": [
    {
     "name": "stdout",
     "output_type": "stream",
     "text": [
      "[[1.5094861e-03 8.4847243e-06 3.5990693e-04 7.6045457e-05 9.9990261e-01]] {'cats': {'1': False, '2': False, '3': False, '4': False, '5': True}}\n",
      "[[2.6325665e-03 2.9654262e-04 9.8680239e-03 5.2447308e-02 4.5179033e-01]] {'cats': {'1': False, '2': False, '3': False, '4': False, '5': True}}\n",
      "[[2.4671812e-04 1.6436334e-05 2.1713453e-04 6.5434133e-06 9.9999619e-01]] {'cats': {'1': False, '2': False, '3': False, '4': False, '5': True}}\n",
      "[[3.2200979e-04 4.3943774e-06 8.4009342e-05 5.7980913e-05 9.9945515e-01]] {'cats': {'1': False, '2': False, '3': False, '4': False, '5': True}}\n",
      "[[2.4147630e-03 4.4320823e-05 2.1615645e-02 3.5127247e-05 9.8597461e-01]] {'cats': {'1': False, '2': False, '3': False, '4': True, '5': False}}\n",
      "[[4.90932260e-04 7.86400778e-06 2.64884089e-04 1.08504886e-04\n",
      "  9.99298930e-01]] {'cats': {'1': False, '2': False, '3': False, '4': False, '5': True}}\n",
      "[[4.8860777e-03 1.2889511e-05 2.7216837e-04 4.9307309e-06 9.9889261e-01]] {'cats': {'1': False, '2': False, '3': False, '4': False, '5': True}}\n",
      "[[3.8589867e-05 1.9605372e-05 4.6176888e-04 2.6467069e-06 9.9999821e-01]] {'cats': {'1': False, '2': False, '3': False, '4': False, '5': True}}\n",
      "[[1.1024945e-03 4.2273608e-05 3.6268879e-04 2.8619845e-04 9.9977559e-01]] {'cats': {'1': False, '2': False, '3': False, '4': False, '5': True}}\n",
      "[[4.1952092e-04 2.4981258e-05 1.8145916e-03 5.2904352e-06 9.9999011e-01]] {'cats': {'1': False, '2': False, '3': False, '4': False, '5': True}}\n",
      "[[2.0851600e-01 1.7152384e-05 1.0875484e-04 9.9803205e-04 8.6583799e-01]] {'cats': {'1': True, '2': False, '3': False, '4': False, '5': False}}\n",
      "[[1.1617402e-03 8.0732771e-06 2.4407428e-04 5.6847051e-04 9.9337691e-01]] {'cats': {'1': False, '2': False, '3': True, '4': False, '5': False}}\n",
      "[[0. 0. 0. 0. 0.]] {'cats': {'1': False, '2': False, '3': False, '4': False, '5': True}}\n",
      "[[0.00736006 0.00013757 0.03478044 0.00129692 0.09810784]] {'cats': {'1': False, '2': False, '3': False, '4': False, '5': True}}\n",
      "[[3.14183533e-03 2.09818354e-05 1.97777204e-04 1.15900664e-04\n",
      "  9.98904586e-01]] {'cats': {'1': False, '2': False, '3': False, '4': False, '5': True}}\n",
      "[[6.9867373e-03 6.6440523e-04 2.6319132e-03 9.1130114e-01 7.6818641e-04]] {'cats': {'1': False, '2': False, '3': True, '4': False, '5': False}}\n",
      "[[0.07933948 0.00030792 0.01720129 0.27979085 0.00182466]] {'cats': {'1': False, '2': False, '3': True, '4': False, '5': False}}\n",
      "[[2.4913796e-04 1.8866394e-04 4.2971942e-01 1.3475247e-02 3.9435185e-02]] {'cats': {'1': False, '2': False, '3': True, '4': False, '5': False}}\n",
      "[[0.15820476 0.00065405 0.00409115 0.17877065 0.02200498]] {'cats': {'1': False, '2': True, '3': False, '4': False, '5': False}}\n",
      "[[0. 0. 0. 0. 0.]] {'cats': {'1': False, '2': False, '3': False, '4': True, '5': False}}\n",
      "[[0.15023576 0.00021959 0.02807196 0.00090894 0.21248029]] {'cats': {'1': True, '2': False, '3': False, '4': False, '5': False}}\n",
      "[[6.1361754e-04 3.4711593e-05 8.3795994e-06 2.6595432e-01 8.7568128e-01]] {'cats': {'1': False, '2': False, '3': False, '4': False, '5': True}}\n",
      "[[1.3248788e-01 2.7305132e-05 8.3564976e-03 9.1468068e-03 5.4727536e-01]] {'cats': {'1': False, '2': False, '3': True, '4': False, '5': False}}\n",
      "[[1.3301608e-02 2.5883619e-05 1.1668362e-03 2.0374844e-03 8.9513320e-01]] {'cats': {'1': False, '2': False, '3': False, '4': False, '5': True}}\n",
      "[[3.4295645e-02 3.9893388e-05 1.4398474e-04 8.0141827e-02 6.0439712e-01]] {'cats': {'1': False, '2': False, '3': False, '4': False, '5': True}}\n",
      "[[0.00054057 0.00048338 0.098943   0.21689835 0.00087818]] {'cats': {'1': False, '2': False, '3': False, '4': False, '5': True}}\n",
      "[[1.3309808e-03 2.9250482e-04 2.1876873e-02 3.6239782e-03 8.7532300e-01]] {'cats': {'1': False, '2': False, '3': True, '4': False, '5': False}}\n",
      "[[1.8407973e-04 4.6698196e-06 2.2784401e-04 3.2231631e-04 9.9783009e-01]] {'cats': {'1': False, '2': False, '3': False, '4': False, '5': True}}\n",
      "[[8.2092930e-04 3.9173610e-06 6.4690202e-04 1.1478432e-06 9.9998331e-01]] {'cats': {'1': False, '2': False, '3': False, '4': False, '5': True}}\n",
      "[[1.8383487e-04 3.7078648e-06 1.4431325e-04 1.5077239e-05 9.9997711e-01]] {'cats': {'1': False, '2': False, '3': False, '4': False, '5': True}}\n",
      "[[2.7828240e-05 4.1338294e-06 7.7741781e-05 6.0313821e-05 9.9997592e-01]] {'cats': {'1': False, '2': False, '3': False, '4': False, '5': True}}\n",
      "[[5.6024763e-04 9.7923030e-06 2.8002376e-04 1.0640547e-02 8.4394968e-01]] {'cats': {'1': False, '2': False, '3': False, '4': False, '5': True}}\n",
      "[[2.8174327e-04 1.5460201e-04 4.6605729e-03 9.8959255e-01 6.4136351e-05]] {'cats': {'1': False, '2': False, '3': False, '4': False, '5': True}}\n",
      "[[2.0145866e-01 9.2435497e-05 1.2497933e-03 7.8663812e-05 9.9482614e-01]] {'cats': {'1': False, '2': False, '3': False, '4': False, '5': True}}\n",
      "[[1.9979388e-04 7.6991637e-06 9.2663203e-04 1.7524943e-03 9.9948406e-01]] {'cats': {'1': False, '2': False, '3': False, '4': False, '5': True}}\n",
      "[[2.9924804e-05 5.5133919e-06 1.2911382e-04 3.0058774e-05 9.9991798e-01]] {'cats': {'1': False, '2': False, '3': False, '4': False, '5': True}}\n",
      "[[1.4955393e-04 6.1180385e-06 2.9862762e-04 2.3266952e-04 9.9775082e-01]] {'cats': {'1': False, '2': False, '3': False, '4': False, '5': True}}\n",
      "[[1.4152654e-04 6.8095242e-06 8.4692554e-04 4.1898896e-04 9.8721129e-01]] {'cats': {'1': False, '2': False, '3': False, '4': True, '5': False}}\n",
      "[[4.4062574e-05 3.0097810e-06 5.5991713e-04 1.2456496e-05 9.9990571e-01]] {'cats': {'1': False, '2': False, '3': False, '4': True, '5': False}}\n",
      "[[5.1386119e-04 5.6082799e-06 1.4778050e-03 4.8214333e-05 9.9707067e-01]] {'cats': {'1': False, '2': False, '3': True, '4': False, '5': False}}\n",
      "[[1.8787694e-04 2.7655603e-06 1.2606544e-04 1.9478459e-03 9.9585152e-01]] {'cats': {'1': False, '2': False, '3': True, '4': False, '5': False}}\n",
      "[[5.2823369e-05 5.4241432e-06 5.5751146e-04 6.4286673e-05 9.9827683e-01]] {'cats': {'1': False, '2': False, '3': False, '4': False, '5': True}}\n",
      "[[7.2025025e-04 2.4027499e-06 8.1759971e-04 4.5758520e-06 9.9987304e-01]] {'cats': {'1': False, '2': False, '3': False, '4': False, '5': True}}\n",
      "[[6.38870802e-03 1.14462910e-05 1.48813585e-02 2.99548218e-03\n",
      "  6.21833690e-02]] {'cats': {'1': False, '2': False, '3': True, '4': False, '5': False}}\n",
      "[[6.8001944e-05 9.6806662e-06 1.2946466e-03 2.9451496e-05 9.9990869e-01]] {'cats': {'1': False, '2': False, '3': False, '4': True, '5': False}}\n",
      "[[7.6475975e-05 8.6654300e-06 4.8657513e-04 2.6303478e-05 9.9991298e-01]] {'cats': {'1': False, '2': False, '3': False, '4': False, '5': True}}\n",
      "[[1.05863658e-03 9.54946154e-06 2.37379179e-04 1.06550826e-04\n",
      "  9.99824345e-01]] {'cats': {'1': False, '2': False, '3': False, '4': False, '5': True}}\n",
      "[[0. 0. 0. 0. 0.]] {'cats': {'1': False, '2': False, '3': False, '4': False, '5': True}}\n",
      "[[5.0038770e-03 1.2597355e-05 7.7832775e-04 1.7502842e-05 9.9967086e-01]] {'cats': {'1': True, '2': False, '3': False, '4': False, '5': False}}\n",
      "[[0. 0. 0. 0. 0.]] {'cats': {'1': False, '2': False, '3': False, '4': False, '5': True}}\n",
      "[[4.4656824e-03 1.4738743e-05 2.0590820e-05 2.6499941e-03 9.9298942e-01]] {'cats': {'1': False, '2': False, '3': False, '4': False, '5': True}}\n",
      "[[3.0894068e-04 2.2417707e-05 6.9685921e-05 5.8288540e-05 9.9998367e-01]] {'cats': {'1': False, '2': False, '3': False, '4': False, '5': True}}\n",
      "[[6.3269305e-05 2.3984003e-06 2.0383665e-04 8.6937225e-06 9.9997604e-01]] {'cats': {'1': False, '2': False, '3': False, '4': False, '5': True}}\n",
      "[[1.5447219e-03 1.7141623e-05 2.0341566e-03 8.0977479e-04 3.7317625e-01]] {'cats': {'1': False, '2': False, '3': True, '4': False, '5': False}}\n",
      "[[1.7247086e-03 2.9797458e-05 1.7608526e-03 2.3588224e-03 7.7201515e-01]] {'cats': {'1': False, '2': False, '3': False, '4': True, '5': False}}\n",
      "[[1.2978383e-04 5.0405350e-05 3.5095896e-04 4.3572855e-04 9.9977595e-01]] {'cats': {'1': False, '2': False, '3': False, '4': False, '5': True}}\n",
      "[[0. 0. 0. 0. 0.]] {'cats': {'1': False, '2': False, '3': False, '4': False, '5': True}}\n",
      "[[2.7432947e-05 3.4148234e-06 2.0180341e-04 1.3053230e-05 9.9985635e-01]] {'cats': {'1': False, '2': False, '3': False, '4': False, '5': True}}\n",
      "[[0.02495136 0.00014078 0.00961419 0.00261761 0.09912717]] {'cats': {'1': True, '2': False, '3': False, '4': False, '5': False}}\n",
      "[[1.4499020e-04 1.1469634e-06 1.6245811e-04 2.2762888e-05 9.9997711e-01]] {'cats': {'1': False, '2': False, '3': False, '4': True, '5': False}}\n",
      "[[0. 0. 0. 0. 0.]] {'cats': {'1': False, '2': False, '3': False, '4': False, '5': True}}\n",
      "[[4.1513963e-04 8.0934815e-06 6.2216085e-04 3.4439673e-03 9.8594934e-01]] {'cats': {'1': False, '2': False, '3': False, '4': False, '5': True}}\n",
      "[[1.1369047e-03 2.3805984e-05 3.1976280e-04 3.0737714e-04 9.9896014e-01]] {'cats': {'1': False, '2': False, '3': False, '4': True, '5': False}}\n",
      "[[2.0706726e-04 1.5959320e-06 7.6261326e-04 5.3052840e-06 9.9975616e-01]] {'cats': {'1': False, '2': False, '3': False, '4': False, '5': True}}\n",
      "[[8.7008619e-01 9.1835065e-04 1.0622050e-02 8.7071083e-02 1.7955261e-05]] {'cats': {'1': False, '2': False, '3': False, '4': False, '5': True}}\n",
      "[[0.25236744 0.00086689 0.25067782 0.00681245 0.0084089 ]] {'cats': {'1': False, '2': False, '3': False, '4': True, '5': False}}\n"
     ]
    }
   ],
   "source": [
    "# Evaluate the model\n",
    "correct = 0\n",
    "total = 0\n",
    "\n",
    "for index, row in enumerate(test_data):\n",
    "    text = row[0]\n",
    "    rating = row[1]\n",
    "    #print(text, rating)\n",
    "\n",
    "    doc = nlp(text)\n",
    "    scores = textcat_multilabel.predict([doc])\n",
    "    print(scores, rating)\n",
    "    #predicted_rating = doc.cats[\"1\"]\n",
    "    #print(doc.cats, rating)\n",
    "    #if int(doc.cats[rating]) == True:\n",
    "    #    correct += 1\n",
    "    #total += 1\n",
    "#accuracy = correct / total\n",
    "#print(f\"Accuracy: {accuracy}\")"
   ],
   "metadata": {
    "collapsed": false,
    "pycharm": {
     "name": "#%%\n"
    }
   }
  },
  {
   "cell_type": "code",
   "execution_count": 284,
   "outputs": [],
   "source": [],
   "metadata": {
    "collapsed": false,
    "pycharm": {
     "name": "#%%\n"
    }
   }
  }
 ],
 "metadata": {
  "kernelspec": {
   "display_name": "Python 3 (ipykernel)",
   "language": "python",
   "name": "python3"
  },
  "language_info": {
   "codemirror_mode": {
    "name": "ipython",
    "version": 3
   },
   "file_extension": ".py",
   "mimetype": "text/x-python",
   "name": "python",
   "nbconvert_exporter": "python",
   "pygments_lexer": "ipython3",
   "version": "3.9.16"
  }
 },
 "nbformat": 4,
 "nbformat_minor": 5
}