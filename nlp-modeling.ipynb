{
 "cells": [
  {
   "cell_type": "code",
   "execution_count": 437,
   "outputs": [],
   "source": [
    "import pandas as pd\n",
    "import numpy as np\n",
    "# SpaCy\n",
    "import spacy\n",
    "from spacy.util import minibatch\n",
    "from spacy.training import Example"
   ],
   "metadata": {
    "collapsed": false,
    "pycharm": {
     "name": "#%%\n"
    }
   }
  },
  {
   "cell_type": "code",
   "execution_count": 438,
   "outputs": [],
   "source": [
    "nlp = spacy.load('de_core_news_md')"
   ],
   "metadata": {
    "collapsed": false,
    "pycharm": {
     "name": "#%%\n"
    }
   }
  },
  {
   "cell_type": "code",
   "execution_count": 447,
   "outputs": [
    {
     "data": {
      "text/plain": "   Unnamed: 0                                            caption  rating  \\\n0           0  Die mit Abstand leckerste Pizza in Deutschland...     5.0   \n1           4  Good place to dine in! Sadly no chicken pizzas...     4.0   \n2           5           This is the must try pizza in Frankfurt.     5.0   \n3           6                       5/5 Pizza place in Frankfurt     5.0   \n4           7         Leckere Pizzen und coole Atmosphäre. 👍🏼  (     5.0   \n\n                    timestamp  \\\n0  2023-02-15 22:10:07.146586   \n1  2023-02-14 00:10:07.146703   \n2  2023-02-14 00:10:07.146705   \n3  2023-02-14 00:10:07.146707   \n4  2023-02-13 00:10:07.146710   \n\n                                       caption_clean  \n0  abstand leckerste pizza deutschland selbst wen...  \n1  good place dine sadly chicken pizzas available...  \n2                          this must pizza frankfurt  \n3                              pizza place frankfurt  \n4                    leckere pizzen coole atmosphäre  ",
      "text/html": "<div>\n<style scoped>\n    .dataframe tbody tr th:only-of-type {\n        vertical-align: middle;\n    }\n\n    .dataframe tbody tr th {\n        vertical-align: top;\n    }\n\n    .dataframe thead th {\n        text-align: right;\n    }\n</style>\n<table border=\"1\" class=\"dataframe\">\n  <thead>\n    <tr style=\"text-align: right;\">\n      <th></th>\n      <th>Unnamed: 0</th>\n      <th>caption</th>\n      <th>rating</th>\n      <th>timestamp</th>\n      <th>caption_clean</th>\n    </tr>\n  </thead>\n  <tbody>\n    <tr>\n      <th>0</th>\n      <td>0</td>\n      <td>Die mit Abstand leckerste Pizza in Deutschland...</td>\n      <td>5.0</td>\n      <td>2023-02-15 22:10:07.146586</td>\n      <td>abstand leckerste pizza deutschland selbst wen...</td>\n    </tr>\n    <tr>\n      <th>1</th>\n      <td>4</td>\n      <td>Good place to dine in! Sadly no chicken pizzas...</td>\n      <td>4.0</td>\n      <td>2023-02-14 00:10:07.146703</td>\n      <td>good place dine sadly chicken pizzas available...</td>\n    </tr>\n    <tr>\n      <th>2</th>\n      <td>5</td>\n      <td>This is the must try pizza in Frankfurt.</td>\n      <td>5.0</td>\n      <td>2023-02-14 00:10:07.146705</td>\n      <td>this must pizza frankfurt</td>\n    </tr>\n    <tr>\n      <th>3</th>\n      <td>6</td>\n      <td>5/5 Pizza place in Frankfurt</td>\n      <td>5.0</td>\n      <td>2023-02-14 00:10:07.146707</td>\n      <td>pizza place frankfurt</td>\n    </tr>\n    <tr>\n      <th>4</th>\n      <td>7</td>\n      <td>Leckere Pizzen und coole Atmosphäre. 👍🏼  (</td>\n      <td>5.0</td>\n      <td>2023-02-13 00:10:07.146710</td>\n      <td>leckere pizzen coole atmosphäre</td>\n    </tr>\n  </tbody>\n</table>\n</div>"
     },
     "execution_count": 447,
     "metadata": {},
     "output_type": "execute_result"
    }
   ],
   "source": [
    "df = pd.read_csv('data/reviews-clean.csv', sep=';')\n",
    "df.head()"
   ],
   "metadata": {
    "collapsed": false,
    "pycharm": {
     "name": "#%%\n"
    }
   }
  },
  {
   "cell_type": "code",
   "execution_count": 440,
   "outputs": [],
   "source": [
    "from spacy.pipeline.textcat_multilabel import DEFAULT_MULTI_TEXTCAT_MODEL"
   ],
   "metadata": {
    "collapsed": false,
    "pycharm": {
     "name": "#%%\n"
    }
   }
  },
  {
   "cell_type": "code",
   "execution_count": 441,
   "outputs": [
    {
     "data": {
      "text/plain": "1"
     },
     "execution_count": 441,
     "metadata": {},
     "output_type": "execute_result"
    }
   ],
   "source": [
    "textcat_multilabel = nlp.add_pipe(\"textcat_multilabel\", config={\n",
    "    \"threshold\": 0.5,\n",
    "    \"model\": DEFAULT_MULTI_TEXTCAT_MODEL,\n",
    "}, last=True)\n",
    "\n",
    "# Add the labels to the text classifier\n",
    "textcat_multilabel.add_label('1')\n",
    "textcat_multilabel.add_label('2')\n",
    "textcat_multilabel.add_label('3')\n",
    "textcat_multilabel.add_label('4')\n",
    "textcat_multilabel.add_label('5')"
   ],
   "metadata": {
    "collapsed": false,
    "pycharm": {
     "name": "#%%\n"
    }
   }
  },
  {
   "cell_type": "code",
   "execution_count": 442,
   "outputs": [],
   "source": [
    "def load_data(split=0.8):\n",
    "    split = int(len(df) * split)\n",
    "\n",
    "    X_train = df['caption_clean'][:split]\n",
    "    y_train = df['rating'][:split]\n",
    "    X_test = df['caption_clean'][split:]\n",
    "    y_test = df['rating'][split:]\n",
    "\n",
    "    return (X_train, y_train), (X_test, y_test)"
   ],
   "metadata": {
    "collapsed": false,
    "pycharm": {
     "name": "#%%\n"
    }
   }
  },
  {
   "cell_type": "code",
   "execution_count": 443,
   "outputs": [],
   "source": [
    "# load the dataset\n",
    "(X_train, y_train), (X_test, y_test) = load_data()\n",
    "\n",
    "train_data = list(zip(X_train, [{'cats': {\"1\":  cats==1, \"2\":  cats==2, \"3\":  cats==3, \"4\":  cats==4, \"5\":  cats==5}} for cats in y_train]))\n",
    "test_data = list(zip(X_test, [{'cats': {\"1\":  cats==1, \"2\":  cats==2, \"3\":  cats==3, \"4\":  cats==4, \"5\":  cats==5}} for cats in y_test]))"
   ],
   "metadata": {
    "collapsed": false,
    "pycharm": {
     "name": "#%%\n"
    }
   }
  },
  {
   "cell_type": "code",
   "execution_count": 444,
   "outputs": [
    {
     "data": {
      "text/plain": "[('abstand leckerste pizza deutschland selbst wenn halb abends mitnehmen bestellt positive emotionen einfach niederknien',\n  {'cats': {'1': False, '2': False, '3': False, '4': False, '5': True}}),\n ('good place dine sadly chicken pizzas available keep mind waiting time when visit',\n  {'cats': {'1': False, '2': False, '3': False, '4': True, '5': False}})]"
     },
     "execution_count": 444,
     "metadata": {},
     "output_type": "execute_result"
    }
   ],
   "source": [
    "train_data[:2]"
   ],
   "metadata": {
    "collapsed": false,
    "pycharm": {
     "name": "#%%\n"
    }
   }
  },
  {
   "cell_type": "markdown",
   "source": [
    "### Training"
   ],
   "metadata": {
    "collapsed": false,
    "pycharm": {
     "name": "#%% md\n"
    }
   }
  },
  {
   "cell_type": "code",
   "execution_count": 445,
   "outputs": [],
   "source": [
    "nlp = spacy.blank(\"de\")"
   ],
   "metadata": {
    "collapsed": false,
    "pycharm": {
     "name": "#%%\n"
    }
   }
  },
  {
   "cell_type": "code",
   "execution_count": 446,
   "outputs": [
    {
     "ename": "TypeError",
     "evalue": "object of type 'float' has no len()",
     "output_type": "error",
     "traceback": [
      "\u001B[0;31m---------------------------------------------------------------------------\u001B[0m",
      "\u001B[0;31mTypeError\u001B[0m                                 Traceback (most recent call last)",
      "Cell \u001B[0;32mIn[446], line 12\u001B[0m\n\u001B[1;32m      9\u001B[0m \u001B[38;5;28;01mfor\u001B[39;00m batch \u001B[38;5;129;01min\u001B[39;00m minibatch(train_data, size\u001B[38;5;241m=\u001B[39m\u001B[38;5;241m8\u001B[39m):\n\u001B[1;32m     10\u001B[0m     \u001B[38;5;28;01mfor\u001B[39;00m text, annotations \u001B[38;5;129;01min\u001B[39;00m batch:\n\u001B[1;32m     11\u001B[0m         \u001B[38;5;66;03m# create Example\u001B[39;00m\n\u001B[0;32m---> 12\u001B[0m         doc \u001B[38;5;241m=\u001B[39m \u001B[43mnlp\u001B[49m\u001B[38;5;241;43m.\u001B[39;49m\u001B[43mmake_doc\u001B[49m\u001B[43m(\u001B[49m\u001B[43mtext\u001B[49m\u001B[43m)\u001B[49m\n\u001B[1;32m     13\u001B[0m         example \u001B[38;5;241m=\u001B[39m Example\u001B[38;5;241m.\u001B[39mfrom_dict(doc, annotations)\n\u001B[1;32m     14\u001B[0m         \u001B[38;5;66;03m# Update the model\u001B[39;00m\n",
      "File \u001B[0;32m~/opt/anaconda3/envs/data_spell/lib/python3.9/site-packages/spacy/language.py:1078\u001B[0m, in \u001B[0;36mLanguage.make_doc\u001B[0;34m(self, text)\u001B[0m\n\u001B[1;32m   1072\u001B[0m \u001B[38;5;28;01mdef\u001B[39;00m \u001B[38;5;21mmake_doc\u001B[39m(\u001B[38;5;28mself\u001B[39m, text: \u001B[38;5;28mstr\u001B[39m) \u001B[38;5;241m-\u001B[39m\u001B[38;5;241m>\u001B[39m Doc:\n\u001B[1;32m   1073\u001B[0m \u001B[38;5;250m    \u001B[39m\u001B[38;5;124;03m\"\"\"Turn a text into a Doc object.\u001B[39;00m\n\u001B[1;32m   1074\u001B[0m \n\u001B[1;32m   1075\u001B[0m \u001B[38;5;124;03m    text (str): The text to process.\u001B[39;00m\n\u001B[1;32m   1076\u001B[0m \u001B[38;5;124;03m    RETURNS (Doc): The processed doc.\u001B[39;00m\n\u001B[1;32m   1077\u001B[0m \u001B[38;5;124;03m    \"\"\"\u001B[39;00m\n\u001B[0;32m-> 1078\u001B[0m     \u001B[38;5;28;01mif\u001B[39;00m \u001B[38;5;28;43mlen\u001B[39;49m\u001B[43m(\u001B[49m\u001B[43mtext\u001B[49m\u001B[43m)\u001B[49m \u001B[38;5;241m>\u001B[39m \u001B[38;5;28mself\u001B[39m\u001B[38;5;241m.\u001B[39mmax_length:\n\u001B[1;32m   1079\u001B[0m         \u001B[38;5;28;01mraise\u001B[39;00m \u001B[38;5;167;01mValueError\u001B[39;00m(\n\u001B[1;32m   1080\u001B[0m             Errors\u001B[38;5;241m.\u001B[39mE088\u001B[38;5;241m.\u001B[39mformat(length\u001B[38;5;241m=\u001B[39m\u001B[38;5;28mlen\u001B[39m(text), max_length\u001B[38;5;241m=\u001B[39m\u001B[38;5;28mself\u001B[39m\u001B[38;5;241m.\u001B[39mmax_length)\n\u001B[1;32m   1081\u001B[0m         )\n\u001B[1;32m   1082\u001B[0m     \u001B[38;5;28;01mreturn\u001B[39;00m \u001B[38;5;28mself\u001B[39m\u001B[38;5;241m.\u001B[39mtokenizer(text)\n",
      "\u001B[0;31mTypeError\u001B[0m: object of type 'float' has no len()"
     ]
    }
   ],
   "source": [
    "# Train the text classifier\n",
    "other_pipes = [pipe for pipe in nlp.pipe_names if pipe != 'textcat_multilabel']\n",
    "\n",
    "with nlp.disable_pipes(*other_pipes):\n",
    "    optimizer = nlp.initialize()\n",
    "    for i in range(100): # Iterations\n",
    "        losses = {}\n",
    "        np.random.shuffle(train_data)\n",
    "        for batch in minibatch(train_data, size=8):\n",
    "            for text, annotations in batch:\n",
    "                # create Example\n",
    "                doc = nlp.make_doc(text)\n",
    "                example = Example.from_dict(doc, annotations)\n",
    "                # Update the model\n",
    "                nlp.update([example], drop=0.3, sgd=optimizer, losses=losses)"
   ],
   "metadata": {
    "collapsed": false,
    "pycharm": {
     "name": "#%%\n"
    }
   }
  },
  {
   "cell_type": "markdown",
   "source": [
    "#### Genauigkeit"
   ],
   "metadata": {
    "collapsed": false,
    "pycharm": {
     "name": "#%% md\n"
    }
   }
  },
  {
   "cell_type": "code",
   "execution_count": null,
   "outputs": [],
   "source": [
    "# Evaluate the model\n",
    "correct = 0\n",
    "total = 0\n",
    "\n",
    "for index, row in enumerate(test_data):\n",
    "    text = row[0]\n",
    "    rating = row[1]\n",
    "    rating = list(rating['cats'].keys())[list(rating['cats'].values()).index(True)]\n",
    "\n",
    "    doc = nlp(text)\n",
    "    scores = textcat_multilabel.predict([doc])\n",
    "    if round(doc.cats[rating]):\n",
    "        correct += 1\n",
    "    total += 1\n",
    "accuracy = correct / total\n",
    "print(f\"Accuracy: {round(accuracy, 2)}%\")"
   ],
   "metadata": {
    "collapsed": false,
    "pycharm": {
     "name": "#%%\n"
    }
   }
  },
  {
   "cell_type": "code",
   "execution_count": null,
   "outputs": [],
   "source": [
    "textcat_multilabel.predict([nlp('')])"
   ],
   "metadata": {
    "collapsed": false,
    "pycharm": {
     "name": "#%%\n"
    }
   }
  },
  {
   "cell_type": "code",
   "execution_count": null,
   "outputs": [],
   "source": [],
   "metadata": {
    "collapsed": false,
    "pycharm": {
     "name": "#%%\n"
    }
   }
  }
 ],
 "metadata": {
  "kernelspec": {
   "display_name": "Python 3 (ipykernel)",
   "language": "python",
   "name": "python3"
  },
  "language_info": {
   "codemirror_mode": {
    "name": "ipython",
    "version": 3
   },
   "file_extension": ".py",
   "mimetype": "text/x-python",
   "name": "python",
   "nbconvert_exporter": "python",
   "pygments_lexer": "ipython3",
   "version": "3.9.16"
  }
 },
 "nbformat": 4,
 "nbformat_minor": 5
}