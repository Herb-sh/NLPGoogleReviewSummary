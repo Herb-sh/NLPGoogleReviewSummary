{
 "cells": [
  {
   "cell_type": "code",
   "execution_count": 156,
   "outputs": [],
   "source": [
    "import pandas as pd\n",
    "import numpy as np\n",
    "# SpaCy\n",
    "import spacy\n",
    "from spacy.util import minibatch\n",
    "from spacy.training import Example"
   ],
   "metadata": {
    "collapsed": false,
    "pycharm": {
     "name": "#%%\n"
    }
   }
  },
  {
   "cell_type": "code",
   "execution_count": 157,
   "outputs": [],
   "source": [
    "#nlp = spacy.load('de_core_news_md')\n",
    "nlp = spacy.blank(\"de\")"
   ],
   "metadata": {
    "collapsed": false,
    "pycharm": {
     "name": "#%%\n"
    }
   }
  },
  {
   "cell_type": "code",
   "execution_count": 158,
   "outputs": [
    {
     "data": {
      "text/plain": "   Unnamed: 0  food_positive  service_positive  ambient_positive  \\\n0           0              1                 1                 0   \n1           1              1                 0                 0   \n2           4              1                 0                 1   \n3           6              1                 0                 0   \n4           7              1                 0                 1   \n\n   price_positive  waiting_positive  rating  \\\n0               0                 0     5.0   \n1               0                 0     4.0   \n2               0                 0     5.0   \n3               0                 0     5.0   \n4               0                 0     5.0   \n\n                                             caption  \n0  abstand leckerst pizza halb abends mitnehmen b...  \n1                                     chicken pizzas  \n2                          leck pizz cool atmosphäre  \n3                           extrem lecker empfehlung  \n4                              gut pizza authentisch  ",
      "text/html": "<div>\n<style scoped>\n    .dataframe tbody tr th:only-of-type {\n        vertical-align: middle;\n    }\n\n    .dataframe tbody tr th {\n        vertical-align: top;\n    }\n\n    .dataframe thead th {\n        text-align: right;\n    }\n</style>\n<table border=\"1\" class=\"dataframe\">\n  <thead>\n    <tr style=\"text-align: right;\">\n      <th></th>\n      <th>Unnamed: 0</th>\n      <th>food_positive</th>\n      <th>service_positive</th>\n      <th>ambient_positive</th>\n      <th>price_positive</th>\n      <th>waiting_positive</th>\n      <th>rating</th>\n      <th>caption</th>\n    </tr>\n  </thead>\n  <tbody>\n    <tr>\n      <th>0</th>\n      <td>0</td>\n      <td>1</td>\n      <td>1</td>\n      <td>0</td>\n      <td>0</td>\n      <td>0</td>\n      <td>5.0</td>\n      <td>abstand leckerst pizza halb abends mitnehmen b...</td>\n    </tr>\n    <tr>\n      <th>1</th>\n      <td>1</td>\n      <td>1</td>\n      <td>0</td>\n      <td>0</td>\n      <td>0</td>\n      <td>0</td>\n      <td>4.0</td>\n      <td>chicken pizzas</td>\n    </tr>\n    <tr>\n      <th>2</th>\n      <td>4</td>\n      <td>1</td>\n      <td>0</td>\n      <td>1</td>\n      <td>0</td>\n      <td>0</td>\n      <td>5.0</td>\n      <td>leck pizz cool atmosphäre</td>\n    </tr>\n    <tr>\n      <th>3</th>\n      <td>6</td>\n      <td>1</td>\n      <td>0</td>\n      <td>0</td>\n      <td>0</td>\n      <td>0</td>\n      <td>5.0</td>\n      <td>extrem lecker empfehlung</td>\n    </tr>\n    <tr>\n      <th>4</th>\n      <td>7</td>\n      <td>1</td>\n      <td>0</td>\n      <td>1</td>\n      <td>0</td>\n      <td>0</td>\n      <td>5.0</td>\n      <td>gut pizza authentisch</td>\n    </tr>\n  </tbody>\n</table>\n</div>"
     },
     "execution_count": 158,
     "metadata": {},
     "output_type": "execute_result"
    }
   ],
   "source": [
    "REVIEWS_CLEANED_FILE_PATH = 'data/labeled_data_cleaned.csv'\n",
    "\n",
    "df = pd.read_csv(REVIEWS_CLEANED_FILE_PATH, sep=';')\n",
    "df.head()"
   ],
   "metadata": {
    "collapsed": false,
    "pycharm": {
     "name": "#%%\n"
    }
   }
  },
  {
   "cell_type": "code",
   "execution_count": 159,
   "outputs": [],
   "source": [
    "from spacy.pipeline.textcat_multilabel import DEFAULT_MULTI_TEXTCAT_MODEL"
   ],
   "metadata": {
    "collapsed": false,
    "pycharm": {
     "name": "#%%\n"
    }
   }
  },
  {
   "cell_type": "code",
   "execution_count": 160,
   "outputs": [],
   "source": [
    "for _, row in df.iterrows():\n",
    "    text = row[\"caption\"]\n",
    "    rating = row[\"rating\"]\n",
    "    food_positive = row['food_positive']\n",
    "    service_positive = row['service_positive']\n",
    "    ambient_positive = row['ambient_positive']\n",
    "    price_positive = row['price_positive']\n",
    "    waiting_positive = row['waiting_positive']\n",
    "\n",
    "    doc = nlp(text)\n",
    "    doc.cats = {'food_positive': food_positive,\n",
    "                'service_positive': service_positive,\n",
    "                'ambient_positive': ambient_positive,\n",
    "                'price_positive': price_positive,\n",
    "                'waiting_positive': waiting_positive\n",
    "                }"
   ],
   "metadata": {
    "collapsed": false,
    "pycharm": {
     "name": "#%%\n"
    }
   }
  },
  {
   "cell_type": "code",
   "execution_count": 161,
   "outputs": [
    {
     "data": {
      "text/plain": "1"
     },
     "execution_count": 161,
     "metadata": {},
     "output_type": "execute_result"
    }
   ],
   "source": [
    "textcat_multilabel = nlp.add_pipe(\"textcat_multilabel\", config={\n",
    "    \"threshold\": 0.5,\n",
    "    \"model\": DEFAULT_MULTI_TEXTCAT_MODEL,\n",
    "}, last=True)\n",
    "\n",
    "# Add the labels to the text classifier\n",
    "textcat_multilabel.add_label('food_positive')\n",
    "textcat_multilabel.add_label('service_positive')\n",
    "textcat_multilabel.add_label('ambient_positive')\n",
    "textcat_multilabel.add_label('price_positive')\n",
    "textcat_multilabel.add_label('waiting_positive')"
   ],
   "metadata": {
    "collapsed": false,
    "pycharm": {
     "name": "#%%\n"
    }
   }
  },
  {
   "cell_type": "code",
   "execution_count": 203,
   "outputs": [
    {
     "data": {
      "text/plain": "   food_positive  service_positive  ambient_positive  price_positive  \\\n0              1                 1                 0               0   \n1              1                 0                 0               0   \n2              1                 0                 1               0   \n3              1                 0                 0               0   \n4              1                 0                 1               0   \n\n   waiting_positive  \n0                 0  \n1                 0  \n2                 0  \n3                 0  \n4                 0  ",
      "text/html": "<div>\n<style scoped>\n    .dataframe tbody tr th:only-of-type {\n        vertical-align: middle;\n    }\n\n    .dataframe tbody tr th {\n        vertical-align: top;\n    }\n\n    .dataframe thead th {\n        text-align: right;\n    }\n</style>\n<table border=\"1\" class=\"dataframe\">\n  <thead>\n    <tr style=\"text-align: right;\">\n      <th></th>\n      <th>food_positive</th>\n      <th>service_positive</th>\n      <th>ambient_positive</th>\n      <th>price_positive</th>\n      <th>waiting_positive</th>\n    </tr>\n  </thead>\n  <tbody>\n    <tr>\n      <th>0</th>\n      <td>1</td>\n      <td>1</td>\n      <td>0</td>\n      <td>0</td>\n      <td>0</td>\n    </tr>\n    <tr>\n      <th>1</th>\n      <td>1</td>\n      <td>0</td>\n      <td>0</td>\n      <td>0</td>\n      <td>0</td>\n    </tr>\n    <tr>\n      <th>2</th>\n      <td>1</td>\n      <td>0</td>\n      <td>1</td>\n      <td>0</td>\n      <td>0</td>\n    </tr>\n    <tr>\n      <th>3</th>\n      <td>1</td>\n      <td>0</td>\n      <td>0</td>\n      <td>0</td>\n      <td>0</td>\n    </tr>\n    <tr>\n      <th>4</th>\n      <td>1</td>\n      <td>0</td>\n      <td>1</td>\n      <td>0</td>\n      <td>0</td>\n    </tr>\n  </tbody>\n</table>\n</div>"
     },
     "execution_count": 203,
     "metadata": {},
     "output_type": "execute_result"
    }
   ],
   "source": [
    "target_columns = ['food_positive', 'service_positive', 'ambient_positive', 'price_positive', 'waiting_positive']\n",
    "df[target_columns].head()"
   ],
   "metadata": {
    "collapsed": false,
    "pycharm": {
     "name": "#%%\n"
    }
   }
  },
  {
   "cell_type": "code",
   "execution_count": 163,
   "outputs": [],
   "source": [
    "def load_data(split=0.8):\n",
    "    split = int(len(df) * split)\n",
    "\n",
    "    X_train = df['caption'][:split]\n",
    "    y_train = df[target_columns][:split]\n",
    "\n",
    "    X_test = df['caption'][split:]\n",
    "    y_test = df[target_columns][split:]\n",
    "\n",
    "    return (X_train, y_train), (X_test, y_test)"
   ],
   "metadata": {
    "collapsed": false,
    "pycharm": {
     "name": "#%%\n"
    }
   }
  },
  {
   "cell_type": "code",
   "execution_count": 164,
   "outputs": [],
   "source": [
    "# load the dataset\n",
    "(X_train, y_train), (X_test, y_test) = load_data()\n",
    "\n",
    "train_data = list(zip(X_train, [{'cats': {  'food_positive': cats['food_positive'],\n",
    "                                            'service_positive': cats['service_positive'],\n",
    "                                            'ambient_positive': cats['ambient_positive'],\n",
    "                                            'price_positive': cats['price_positive'],\n",
    "                                            'waiting_positive': cats['waiting_positive']\n",
    "                                            }\n",
    "                                 } for index, cats in y_train.iterrows()]))\n",
    "\n",
    "test_data = list(zip(X_test, [{'cats': {  'food_positive': int(cats['food_positive']), 'service_positive': int(cats['service_positive']),\n",
    "                                          'ambient_positive': int(cats['ambient_positive']), 'price_positive': int(cats['price_positive']),\n",
    "                                          'waiting_positive': int(cats['waiting_positive']) } } for index, cats in y_test.iterrows()]))\n"
   ],
   "metadata": {
    "collapsed": false,
    "pycharm": {
     "name": "#%%\n"
    }
   }
  },
  {
   "cell_type": "code",
   "execution_count": 165,
   "outputs": [
    {
     "data": {
      "text/plain": "[('abstand leckerst pizza halb abends mitnehmen bestellen positiv emotion einfach niederknien',\n  {'cats': {'food_positive': 1,\n    'service_positive': 1,\n    'ambient_positive': 0,\n    'price_positive': 0,\n    'waiting_positive': 0}}),\n ('chicken pizzas',\n  {'cats': {'food_positive': 1,\n    'service_positive': 0,\n    'ambient_positive': 0,\n    'price_positive': 0,\n    'waiting_positive': 0}})]"
     },
     "execution_count": 165,
     "metadata": {},
     "output_type": "execute_result"
    }
   ],
   "source": [
    "train_data[:2]"
   ],
   "metadata": {
    "collapsed": false,
    "pycharm": {
     "name": "#%%\n"
    }
   }
  },
  {
   "cell_type": "markdown",
   "source": [
    "### Training"
   ],
   "metadata": {
    "collapsed": false,
    "pycharm": {
     "name": "#%% md\n"
    }
   }
  },
  {
   "cell_type": "code",
   "execution_count": 166,
   "outputs": [],
   "source": [
    "# Train the text classifier\n",
    "other_pipes = [pipe for pipe in nlp.pipe_names if pipe != 'textcat_multilabel']\n",
    "\n",
    "with nlp.disable_pipes(*other_pipes):\n",
    "    optimizer = nlp.initialize()\n",
    "    for i in range(100): # Iterations\n",
    "        losses = {}\n",
    "        np.random.shuffle(train_data)\n",
    "        for batch in minibatch(train_data, size=8):\n",
    "            for text, annotations in batch:\n",
    "                # create Example\n",
    "                doc = nlp.make_doc(text)\n",
    "                example = Example.from_dict(doc, annotations)\n",
    "                # Update the model\n",
    "                nlp.update([example], drop=0.3, sgd=optimizer, losses=losses)"
   ],
   "metadata": {
    "collapsed": false,
    "pycharm": {
     "name": "#%%\n"
    }
   }
  },
  {
   "cell_type": "markdown",
   "source": [
    "#### Genauigkeit"
   ],
   "metadata": {
    "collapsed": false,
    "pycharm": {
     "name": "#%% md\n"
    }
   }
  },
  {
   "cell_type": "code",
   "execution_count": 219,
   "outputs": [
    {
     "name": "stdout",
     "output_type": "stream",
     "text": [
      "Accuracy: 77.33%\n"
     ]
    }
   ],
   "source": [
    "# Evaluate the model\n",
    "correct = 0\n",
    "total = 0\n",
    "accuracies = []\n",
    "\n",
    "for index, row in enumerate(test_data):\n",
    "    text = row[0]\n",
    "    annotations = row[1]\n",
    "\n",
    "    doc = nlp(text)\n",
    "    scores = textcat_multilabel.predict([doc])\n",
    "\n",
    "    item_accuracies = []\n",
    "    for i, key in enumerate(target_columns):\n",
    "        isSame = annotations['cats'][key] == round(scores[0][i])\n",
    "        item_accuracies.append(1 if isSame else 0)\n",
    "\n",
    "    score_item_accuracy = np.array(item_accuracies).sum() / len(target_columns)\n",
    "    accuracies.append(score_item_accuracy)\n",
    "\n",
    "accuracy = np.array(accuracies).sum() / len(accuracies)\n",
    "print(f\"Accuracy: {round(accuracy * 100, 2)}%\")"
   ],
   "metadata": {
    "collapsed": false,
    "pycharm": {
     "name": "#%%\n"
    }
   }
  },
  {
   "cell_type": "code",
   "execution_count": 196,
   "outputs": [
    {
     "data": {
      "text/plain": "array([[0., 0., 0., 0., 0.]])"
     },
     "execution_count": 196,
     "metadata": {},
     "output_type": "execute_result"
    }
   ],
   "source": [
    "textcat_multilabel.predict([nlp('')])"
   ],
   "metadata": {
    "collapsed": false,
    "pycharm": {
     "name": "#%%\n"
    }
   }
  },
  {
   "cell_type": "code",
   "execution_count": null,
   "outputs": [],
   "source": [],
   "metadata": {
    "collapsed": false,
    "pycharm": {
     "name": "#%%\n"
    }
   }
  }
 ],
 "metadata": {
  "kernelspec": {
   "display_name": "Python 3 (ipykernel)",
   "language": "python",
   "name": "python3"
  },
  "language_info": {
   "codemirror_mode": {
    "name": "ipython",
    "version": 3
   },
   "file_extension": ".py",
   "mimetype": "text/x-python",
   "name": "python",
   "nbconvert_exporter": "python",
   "pygments_lexer": "ipython3",
   "version": "3.9.16"
  }
 },
 "nbformat": 4,
 "nbformat_minor": 5
}