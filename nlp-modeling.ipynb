{
 "cells": [
  {
   "cell_type": "code",
   "execution_count": 587,
   "outputs": [],
   "source": [
    "import pandas as pd\n",
    "import numpy as np\n",
    "# SpaCy\n",
    "import spacy\n",
    "from spacy.util import minibatch\n",
    "from spacy.training import Example"
   ],
   "metadata": {
    "collapsed": false,
    "pycharm": {
     "name": "#%%\n"
    }
   }
  },
  {
   "cell_type": "code",
   "execution_count": 588,
   "outputs": [],
   "source": [
    "#nlp = spacy.load('de_core_news_md')\n",
    "nlp = spacy.blank(\"de\")"
   ],
   "metadata": {
    "collapsed": false,
    "pycharm": {
     "name": "#%%\n"
    }
   }
  },
  {
   "cell_type": "code",
   "execution_count": 589,
   "outputs": [
    {
     "data": {
      "text/plain": "   Unnamed: 0                                            caption  rating  \\\n0           0  abstand leckerst pizza halb abends mitnehmen b...     5.0   \n1           4                                     chicken pizzas     4.0   \n2           7                          leck pizz cool atmosphäre     5.0   \n3          11                           extrem lecker empfehlung     5.0   \n4          13                              gut pizza authentisch     5.0   \n\n                    timestamp  \n0  2023-02-15 22:10:07.146586  \n1  2023-02-14 00:10:07.146703  \n2  2023-02-13 00:10:07.146710  \n3  2023-02-10 00:11:07.737920  \n4  2023-02-09 00:11:07.737926  ",
      "text/html": "<div>\n<style scoped>\n    .dataframe tbody tr th:only-of-type {\n        vertical-align: middle;\n    }\n\n    .dataframe tbody tr th {\n        vertical-align: top;\n    }\n\n    .dataframe thead th {\n        text-align: right;\n    }\n</style>\n<table border=\"1\" class=\"dataframe\">\n  <thead>\n    <tr style=\"text-align: right;\">\n      <th></th>\n      <th>Unnamed: 0</th>\n      <th>caption</th>\n      <th>rating</th>\n      <th>timestamp</th>\n    </tr>\n  </thead>\n  <tbody>\n    <tr>\n      <th>0</th>\n      <td>0</td>\n      <td>abstand leckerst pizza halb abends mitnehmen b...</td>\n      <td>5.0</td>\n      <td>2023-02-15 22:10:07.146586</td>\n    </tr>\n    <tr>\n      <th>1</th>\n      <td>4</td>\n      <td>chicken pizzas</td>\n      <td>4.0</td>\n      <td>2023-02-14 00:10:07.146703</td>\n    </tr>\n    <tr>\n      <th>2</th>\n      <td>7</td>\n      <td>leck pizz cool atmosphäre</td>\n      <td>5.0</td>\n      <td>2023-02-13 00:10:07.146710</td>\n    </tr>\n    <tr>\n      <th>3</th>\n      <td>11</td>\n      <td>extrem lecker empfehlung</td>\n      <td>5.0</td>\n      <td>2023-02-10 00:11:07.737920</td>\n    </tr>\n    <tr>\n      <th>4</th>\n      <td>13</td>\n      <td>gut pizza authentisch</td>\n      <td>5.0</td>\n      <td>2023-02-09 00:11:07.737926</td>\n    </tr>\n  </tbody>\n</table>\n</div>"
     },
     "execution_count": 589,
     "metadata": {},
     "output_type": "execute_result"
    }
   ],
   "source": [
    "df = pd.read_csv('data/reviews-clean.csv', sep=';')\n",
    "df.head()"
   ],
   "metadata": {
    "collapsed": false,
    "pycharm": {
     "name": "#%%\n"
    }
   }
  },
  {
   "cell_type": "code",
   "execution_count": 590,
   "outputs": [],
   "source": [
    "from spacy.pipeline.textcat_multilabel import DEFAULT_MULTI_TEXTCAT_MODEL"
   ],
   "metadata": {
    "collapsed": false,
    "pycharm": {
     "name": "#%%\n"
    }
   }
  },
  {
   "cell_type": "code",
   "execution_count": 591,
   "outputs": [],
   "source": [
    "for _, row in df.iterrows():\n",
    "    text = row[\"caption\"]\n",
    "    rating = row[\"rating\"]\n",
    "    doc = nlp(text)\n",
    "    #doc.cats[\"caption\"] = rating\n",
    "    doc.cats = {\"1\":  rating==1, \"2\":  rating==2, \"3\":  rating==3, \"4\":  rating==4, \"5\":  rating==5}"
   ],
   "metadata": {
    "collapsed": false,
    "pycharm": {
     "name": "#%%\n"
    }
   }
  },
  {
   "cell_type": "code",
   "execution_count": 592,
   "outputs": [
    {
     "data": {
      "text/plain": "1"
     },
     "execution_count": 592,
     "metadata": {},
     "output_type": "execute_result"
    }
   ],
   "source": [
    "textcat_multilabel = nlp.add_pipe(\"textcat_multilabel\", config={\n",
    "    \"threshold\": 0.5,\n",
    "    \"model\": DEFAULT_MULTI_TEXTCAT_MODEL,\n",
    "}, last=True)\n",
    "\n",
    "# Add the labels to the text classifier\n",
    "textcat_multilabel.add_label('1')\n",
    "textcat_multilabel.add_label('2')\n",
    "textcat_multilabel.add_label('3')\n",
    "textcat_multilabel.add_label('4')\n",
    "textcat_multilabel.add_label('5')"
   ],
   "metadata": {
    "collapsed": false,
    "pycharm": {
     "name": "#%%\n"
    }
   }
  },
  {
   "cell_type": "code",
   "execution_count": 593,
   "outputs": [],
   "source": [
    "def load_data(split=0.8):\n",
    "    split = int(len(df) * split)\n",
    "\n",
    "    X_train = df['caption'][:split]\n",
    "    y_train = df['rating'][:split]\n",
    "    X_test = df['caption'][split:]\n",
    "    y_test = df['rating'][split:]\n",
    "\n",
    "    return (X_train, y_train), (X_test, y_test)"
   ],
   "metadata": {
    "collapsed": false,
    "pycharm": {
     "name": "#%%\n"
    }
   }
  },
  {
   "cell_type": "code",
   "execution_count": 594,
   "outputs": [],
   "source": [
    "# load the dataset\n",
    "(X_train, y_train), (X_test, y_test) = load_data()\n",
    "\n",
    "train_data = list(zip(X_train, [{'cats': {\"1\":  cats==1, \"2\":  cats==2, \"3\":  cats==3, \"4\":  cats==4, \"5\":  cats==5}} for cats in y_train]))\n",
    "test_data = list(zip(X_test, [{'cats': {\"1\":  cats==1, \"2\":  cats==2, \"3\":  cats==3, \"4\":  cats==4, \"5\":  cats==5}} for cats in y_test]))"
   ],
   "metadata": {
    "collapsed": false,
    "pycharm": {
     "name": "#%%\n"
    }
   }
  },
  {
   "cell_type": "code",
   "execution_count": 595,
   "outputs": [
    {
     "data": {
      "text/plain": "[('abstand leckerst pizza halb abends mitnehmen bestellen positiv emotion einfach niederknien',\n  {'cats': {'1': False, '2': False, '3': False, '4': False, '5': True}}),\n ('chicken pizzas',\n  {'cats': {'1': False, '2': False, '3': False, '4': True, '5': False}})]"
     },
     "execution_count": 595,
     "metadata": {},
     "output_type": "execute_result"
    }
   ],
   "source": [
    "train_data[:2]"
   ],
   "metadata": {
    "collapsed": false,
    "pycharm": {
     "name": "#%%\n"
    }
   }
  },
  {
   "cell_type": "markdown",
   "source": [
    "### Training"
   ],
   "metadata": {
    "collapsed": false,
    "pycharm": {
     "name": "#%% md\n"
    }
   }
  },
  {
   "cell_type": "code",
   "execution_count": 596,
   "outputs": [],
   "source": [
    "# Train the text classifier\n",
    "other_pipes = [pipe for pipe in nlp.pipe_names if pipe != 'textcat_multilabel']\n",
    "\n",
    "with nlp.disable_pipes(*other_pipes):\n",
    "    optimizer = nlp.initialize()\n",
    "    for i in range(100): # Iterations\n",
    "        losses = {}\n",
    "        np.random.shuffle(train_data)\n",
    "        for batch in minibatch(train_data, size=8):\n",
    "            for text, annotations in batch:\n",
    "                # create Example\n",
    "                doc = nlp.make_doc(text)\n",
    "                example = Example.from_dict(doc, annotations)\n",
    "                # Update the model\n",
    "                nlp.update([example], drop=0.3, sgd=optimizer, losses=losses)"
   ],
   "metadata": {
    "collapsed": false,
    "pycharm": {
     "name": "#%%\n"
    }
   }
  },
  {
   "cell_type": "markdown",
   "source": [
    "#### Genauigkeit"
   ],
   "metadata": {
    "collapsed": false,
    "pycharm": {
     "name": "#%% md\n"
    }
   }
  },
  {
   "cell_type": "code",
   "execution_count": 597,
   "outputs": [
    {
     "name": "stdout",
     "output_type": "stream",
     "text": [
      "Accuracy: 64.58%\n"
     ]
    }
   ],
   "source": [
    "# Evaluate the model\n",
    "correct = 0\n",
    "total = 0\n",
    "\n",
    "for index, row in enumerate(test_data):\n",
    "    text = row[0]\n",
    "    rating = row[1]\n",
    "    rating = list(rating['cats'].keys())[list(rating['cats'].values()).index(True)]\n",
    "\n",
    "    doc = nlp(text)\n",
    "    #print(doc.cats)\n",
    "    scores = textcat_multilabel.predict([doc])\n",
    "    if round(doc.cats[rating]):\n",
    "        correct += 1\n",
    "    total += 1\n",
    "accuracy = correct / total\n",
    "print(f\"Accuracy: {round(accuracy * 100, 2)}%\")"
   ],
   "metadata": {
    "collapsed": false,
    "pycharm": {
     "name": "#%%\n"
    }
   }
  },
  {
   "cell_type": "code",
   "execution_count": 598,
   "outputs": [
    {
     "data": {
      "text/plain": "array([[0., 0., 0., 0., 0.]])"
     },
     "execution_count": 598,
     "metadata": {},
     "output_type": "execute_result"
    }
   ],
   "source": [
    "textcat_multilabel.predict([nlp('')])"
   ],
   "metadata": {
    "collapsed": false,
    "pycharm": {
     "name": "#%%\n"
    }
   }
  },
  {
   "cell_type": "code",
   "execution_count": 598,
   "outputs": [],
   "source": [],
   "metadata": {
    "collapsed": false,
    "pycharm": {
     "name": "#%%\n"
    }
   }
  }
 ],
 "metadata": {
  "kernelspec": {
   "display_name": "Python 3 (ipykernel)",
   "language": "python",
   "name": "python3"
  },
  "language_info": {
   "codemirror_mode": {
    "name": "ipython",
    "version": 3
   },
   "file_extension": ".py",
   "mimetype": "text/x-python",
   "name": "python",
   "nbconvert_exporter": "python",
   "pygments_lexer": "ipython3",
   "version": "3.9.16"
  }
 },
 "nbformat": 4,
 "nbformat_minor": 5
}