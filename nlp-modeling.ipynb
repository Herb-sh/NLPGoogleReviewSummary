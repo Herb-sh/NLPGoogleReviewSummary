{
 "cells": [
  {
   "cell_type": "code",
   "execution_count": 575,
   "outputs": [],
   "source": [
    "import pandas as pd\n",
    "import numpy as np\n",
    "# SpaCy\n",
    "import spacy\n",
    "from spacy.util import minibatch\n",
    "from spacy.training import Example"
   ],
   "metadata": {
    "collapsed": false,
    "pycharm": {
     "name": "#%%\n"
    }
   }
  },
  {
   "cell_type": "code",
   "execution_count": 576,
   "outputs": [],
   "source": [
    "#nlp = spacy.load('de_core_news_md')\n",
    "nlp = spacy.blank(\"de\")"
   ],
   "metadata": {
    "collapsed": false,
    "pycharm": {
     "name": "#%%\n"
    }
   }
  },
  {
   "cell_type": "code",
   "execution_count": 577,
   "outputs": [
    {
     "data": {
      "text/plain": "   Unnamed: 0                                            caption  rating  \\\n0           0  abstand leckerst pizza halb abends mitnehmen b...     5.0   \n1           4                                     chicken pizzas     4.0   \n2           7                          leck pizz cool atmosphäre     5.0   \n3          11                           extrem lecker empfehlung     5.0   \n4          13                              gut pizza authentisch     5.0   \n\n                    timestamp  \n0  2023-02-15 22:10:07.146586  \n1  2023-02-14 00:10:07.146703  \n2  2023-02-13 00:10:07.146710  \n3  2023-02-10 00:11:07.737920  \n4  2023-02-09 00:11:07.737926  ",
      "text/html": "<div>\n<style scoped>\n    .dataframe tbody tr th:only-of-type {\n        vertical-align: middle;\n    }\n\n    .dataframe tbody tr th {\n        vertical-align: top;\n    }\n\n    .dataframe thead th {\n        text-align: right;\n    }\n</style>\n<table border=\"1\" class=\"dataframe\">\n  <thead>\n    <tr style=\"text-align: right;\">\n      <th></th>\n      <th>Unnamed: 0</th>\n      <th>caption</th>\n      <th>rating</th>\n      <th>timestamp</th>\n    </tr>\n  </thead>\n  <tbody>\n    <tr>\n      <th>0</th>\n      <td>0</td>\n      <td>abstand leckerst pizza halb abends mitnehmen b...</td>\n      <td>5.0</td>\n      <td>2023-02-15 22:10:07.146586</td>\n    </tr>\n    <tr>\n      <th>1</th>\n      <td>4</td>\n      <td>chicken pizzas</td>\n      <td>4.0</td>\n      <td>2023-02-14 00:10:07.146703</td>\n    </tr>\n    <tr>\n      <th>2</th>\n      <td>7</td>\n      <td>leck pizz cool atmosphäre</td>\n      <td>5.0</td>\n      <td>2023-02-13 00:10:07.146710</td>\n    </tr>\n    <tr>\n      <th>3</th>\n      <td>11</td>\n      <td>extrem lecker empfehlung</td>\n      <td>5.0</td>\n      <td>2023-02-10 00:11:07.737920</td>\n    </tr>\n    <tr>\n      <th>4</th>\n      <td>13</td>\n      <td>gut pizza authentisch</td>\n      <td>5.0</td>\n      <td>2023-02-09 00:11:07.737926</td>\n    </tr>\n  </tbody>\n</table>\n</div>"
     },
     "execution_count": 577,
     "metadata": {},
     "output_type": "execute_result"
    }
   ],
   "source": [
    "df = pd.read_csv('data/reviews-clean.csv', sep=';')\n",
    "df.head()"
   ],
   "metadata": {
    "collapsed": false,
    "pycharm": {
     "name": "#%%\n"
    }
   }
  },
  {
   "cell_type": "code",
   "execution_count": 578,
   "outputs": [],
   "source": [
    "from spacy.pipeline.textcat_multilabel import DEFAULT_MULTI_TEXTCAT_MODEL"
   ],
   "metadata": {
    "collapsed": false,
    "pycharm": {
     "name": "#%%\n"
    }
   }
  },
  {
   "cell_type": "code",
   "execution_count": 579,
   "outputs": [],
   "source": [
    "for _, row in df.iterrows():\n",
    "    text = row[\"caption\"]\n",
    "    rating = row[\"rating\"]\n",
    "    doc = nlp(text)\n",
    "    #doc.cats[\"caption\"] = rating\n",
    "    doc.cats = {\"1\":  rating==1, \"2\":  rating==2, \"3\":  rating==3, \"4\":  rating==4, \"5\":  rating==5}"
   ],
   "metadata": {
    "collapsed": false,
    "pycharm": {
     "name": "#%%\n"
    }
   }
  },
  {
   "cell_type": "code",
   "execution_count": 580,
   "outputs": [
    {
     "data": {
      "text/plain": "1"
     },
     "execution_count": 580,
     "metadata": {},
     "output_type": "execute_result"
    }
   ],
   "source": [
    "textcat_multilabel = nlp.add_pipe(\"textcat_multilabel\", config={\n",
    "    \"threshold\": 0.5,\n",
    "    \"model\": DEFAULT_MULTI_TEXTCAT_MODEL,\n",
    "}, last=True)\n",
    "\n",
    "# Add the labels to the text classifier\n",
    "textcat_multilabel.add_label('1')\n",
    "textcat_multilabel.add_label('2')\n",
    "textcat_multilabel.add_label('3')\n",
    "textcat_multilabel.add_label('4')\n",
    "textcat_multilabel.add_label('5')"
   ],
   "metadata": {
    "collapsed": false,
    "pycharm": {
     "name": "#%%\n"
    }
   }
  },
  {
   "cell_type": "code",
   "execution_count": 581,
   "outputs": [],
   "source": [
    "def load_data(split=0.8):\n",
    "    split = int(len(df) * split)\n",
    "\n",
    "    X_train = df['caption'][:split]\n",
    "    y_train = df['rating'][:split]\n",
    "    X_test = df['caption'][split:]\n",
    "    y_test = df['rating'][split:]\n",
    "\n",
    "    return (X_train, y_train), (X_test, y_test)"
   ],
   "metadata": {
    "collapsed": false,
    "pycharm": {
     "name": "#%%\n"
    }
   }
  },
  {
   "cell_type": "code",
   "execution_count": 582,
   "outputs": [],
   "source": [
    "# load the dataset\n",
    "(X_train, y_train), (X_test, y_test) = load_data()\n",
    "\n",
    "train_data = list(zip(X_train, [{'cats': {\"1\":  cats==1, \"2\":  cats==2, \"3\":  cats==3, \"4\":  cats==4, \"5\":  cats==5}} for cats in y_train]))\n",
    "test_data = list(zip(X_test, [{'cats': {\"1\":  cats==1, \"2\":  cats==2, \"3\":  cats==3, \"4\":  cats==4, \"5\":  cats==5}} for cats in y_test]))"
   ],
   "metadata": {
    "collapsed": false,
    "pycharm": {
     "name": "#%%\n"
    }
   }
  },
  {
   "cell_type": "code",
   "execution_count": 583,
   "outputs": [
    {
     "data": {
      "text/plain": "[('abstand leckerst pizza halb abends mitnehmen bestellen positiv emotion einfach niederknien',\n  {'cats': {'1': False, '2': False, '3': False, '4': False, '5': True}}),\n ('chicken pizzas',\n  {'cats': {'1': False, '2': False, '3': False, '4': True, '5': False}})]"
     },
     "execution_count": 583,
     "metadata": {},
     "output_type": "execute_result"
    }
   ],
   "source": [
    "train_data[:2]"
   ],
   "metadata": {
    "collapsed": false,
    "pycharm": {
     "name": "#%%\n"
    }
   }
  },
  {
   "cell_type": "markdown",
   "source": [
    "### Training"
   ],
   "metadata": {
    "collapsed": false,
    "pycharm": {
     "name": "#%% md\n"
    }
   }
  },
  {
   "cell_type": "code",
   "execution_count": 584,
   "outputs": [],
   "source": [
    "# Train the text classifier\n",
    "other_pipes = [pipe for pipe in nlp.pipe_names if pipe != 'textcat_multilabel']\n",
    "\n",
    "with nlp.disable_pipes(*other_pipes):\n",
    "    optimizer = nlp.initialize()\n",
    "    for i in range(100): # Iterations\n",
    "        losses = {}\n",
    "        np.random.shuffle(train_data)\n",
    "        for batch in minibatch(train_data, size=8):\n",
    "            for text, annotations in batch:\n",
    "                # create Example\n",
    "                doc = nlp.make_doc(text)\n",
    "                example = Example.from_dict(doc, annotations)\n",
    "                # Update the model\n",
    "                nlp.update([example], drop=0.3, sgd=optimizer, losses=losses)"
   ],
   "metadata": {
    "collapsed": false,
    "pycharm": {
     "name": "#%%\n"
    }
   }
  },
  {
   "cell_type": "markdown",
   "source": [
    "#### Genauigkeit"
   ],
   "metadata": {
    "collapsed": false,
    "pycharm": {
     "name": "#%% md\n"
    }
   }
  },
  {
   "cell_type": "code",
   "execution_count": 585,
   "outputs": [
    {
     "name": "stdout",
     "output_type": "stream",
     "text": [
      "{'1': 1.4676971659355331e-05, '2': 7.917142283986323e-06, '3': 0.07266242057085037, '4': 0.0008614027756266296, '5': 0.8925357460975647}\n",
      "{'1': 0.010160152800381184, '2': 0.002986459992825985, '3': 5.266025982564315e-05, '4': 0.017463507130742073, '5': 0.886347770690918}\n",
      "{'1': 0.9863508343696594, '2': 6.900283187860623e-05, '3': 0.0001220577978529036, '4': 0.014559361152350903, '5': 0.0006258675130084157}\n",
      "{'1': 3.1796530493011232e-06, '2': 5.58325627935119e-05, '3': 1.8033915694104508e-06, '4': 7.767032911942806e-06, '5': 0.9999977350234985}\n",
      "{'1': 2.0004181351396255e-06, '2': 2.7380788196751382e-06, '3': 3.1477514994548983e-07, '4': 3.6054323572898284e-05, '5': 0.9999998807907104}\n",
      "{'1': 1.645936026761774e-05, '2': 1.7894115444505587e-05, '3': 3.347459596625413e-06, '4': 0.0005127297481521964, '5': 0.999276340007782}\n",
      "{'1': 0.00010307469347026199, '2': 1.3763400374955381e-06, '3': 1.7968999600270763e-05, '4': 0.9985470175743103, '5': 1.58782668790991e-07}\n",
      "{'1': 1.744701307870855e-06, '2': 7.779079169267789e-06, '3': 1.2659527328651166e-06, '4': 0.0005397280328907073, '5': 0.9999932050704956}\n",
      "{'1': 4.446857928996906e-05, '2': 0.00019958807388320565, '3': 0.0002113059163093567, '4': 4.914390228805132e-05, '5': 0.9979342222213745}\n",
      "{'1': 1.8667353742785053e-06, '2': 6.980251055210829e-05, '3': 2.748312908806838e-06, '4': 0.007390792015939951, '5': 0.9999668598175049}\n",
      "{'1': 7.976118649821728e-05, '2': 0.0026764990761876106, '3': 0.028739769011735916, '4': 0.3496403694152832, '5': 9.116149158217013e-05}\n",
      "{'1': 6.747909355908632e-05, '2': 1.1318723409203812e-05, '3': 0.0017116046510636806, '4': 0.9891294240951538, '5': 2.237543958472088e-05}\n",
      "{'1': 0.4739222526550293, '2': 0.1426309049129486, '3': 0.00034591328585520387, '4': 0.04685552045702934, '5': 0.0008280172478407621}\n",
      "{'1': 6.634600595134543e-06, '2': 2.211979108324158e-06, '3': 0.000877653481438756, '4': 0.9996616840362549, '5': 5.5874423310342536e-08}\n",
      "{'1': 1.6678075098752743e-06, '2': 4.322623135522008e-05, '3': 0.9704843759536743, '4': 0.02619192749261856, '5': 0.162489116191864}\n",
      "{'1': 0.08662746846675873, '2': 0.723806619644165, '3': 0.0014284932985901833, '4': 0.0006453966489061713, '5': 0.1681094914674759}\n",
      "{'1': 8.792744665697683e-06, '2': 0.08250527083873749, '3': 0.8149232268333435, '4': 0.009078106842935085, '5': 0.0007384676137007773}\n",
      "{'1': 7.621403597113385e-07, '2': 9.131772458204068e-06, '3': 1.0421666729598655e-07, '4': 0.00028764744638465345, '5': 0.9999998807907104}\n",
      "{'1': 0.0003060781746171415, '2': 0.00157508987467736, '3': 0.9998925924301147, '4': 7.42738393455511e-06, '5': 0.0002764300152193755}\n",
      "{'1': 0.61479252576828, '2': 0.0020142069552093744, '3': 0.0007013450958766043, '4': 0.023303240537643433, '5': 0.003997877240180969}\n",
      "{'1': 3.209714577678824e-06, '2': 9.345810212835204e-06, '3': 3.432762605370954e-05, '4': 0.0002943685685750097, '5': 0.9999699592590332}\n",
      "{'1': 4.248216555424733e-06, '2': 3.429752177908085e-05, '3': 4.6509302364938776e-07, '4': 1.1505641850817483e-05, '5': 0.9999995231628418}\n",
      "{'1': 4.489376351557439e-06, '2': 0.0026043085381388664, '3': 0.8629683256149292, '4': 0.003843200858682394, '5': 5.865577622898854e-05}\n",
      "{'1': 3.8903686800040305e-05, '2': 3.876924438372953e-06, '3': 0.00014421228843275458, '4': 0.9997684359550476, '5': 8.533779691788368e-06}\n",
      "{'1': 0.051978711038827896, '2': 0.0015407511964440346, '3': 0.0007196489023044705, '4': 0.9576602578163147, '5': 0.0003842204750981182}\n",
      "{'1': 3.4876407539741194e-07, '2': 1.671027894190047e-05, '3': 4.10424746632998e-07, '4': 0.0005625978228636086, '5': 0.9999992847442627}\n",
      "{'1': 4.905287482870335e-07, '2': 1.4973910765547771e-05, '3': 1.8815526914295333e-07, '4': 0.00010456890595378354, '5': 0.99996018409729}\n",
      "{'1': 2.051240335276816e-05, '2': 4.714400802185992e-06, '3': 0.00012158141180407256, '4': 0.999901294708252, '5': 9.825321889422867e-09}\n",
      "{'1': 1.4600845133827534e-05, '2': 0.00010901846690103412, '3': 0.11590386182069778, '4': 0.742647647857666, '5': 2.7874585839526844e-07}\n",
      "{'1': 4.455237387901434e-07, '2': 4.2743877202156e-06, '3': 1.7446063793613575e-06, '4': 0.0020114541985094547, '5': 0.9999990463256836}\n",
      "{'1': 0.0022131316363811493, '2': 0.017229298129677773, '3': 5.513762516784482e-05, '4': 0.6458301544189453, '5': 0.0009780206019058824}\n",
      "{'1': 1.5158954056460061e-06, '2': 6.914179266459541e-06, '3': 3.540432089721435e-07, '4': 0.00021208444377407432, '5': 0.9999969005584717}\n",
      "{'1': 6.241374649107456e-05, '2': 0.0008190625812858343, '3': 0.8836044073104858, '4': 0.0047385431826114655, '5': 0.004123939201235771}\n",
      "{'1': 1.147691023106745e-06, '2': 4.9037771532312036e-05, '3': 1.2070094612681714e-07, '4': 0.0001714014942990616, '5': 0.9999942779541016}\n",
      "{'1': 0.9999219179153442, '2': 0.002114070113748312, '3': 8.94440381671302e-06, '4': 0.00023934044293127954, '5': 1.2422982763382606e-05}\n",
      "{'1': 6.083282278268598e-05, '2': 0.0004421335179358721, '3': 1.1894832823600154e-05, '4': 0.00011346991232130677, '5': 0.9983119964599609}\n",
      "{'1': 7.404687949019717e-06, '2': 0.00025472455308772624, '3': 6.660419603576884e-05, '4': 0.9998455047607422, '5': 2.486400774159847e-07}\n",
      "{'1': 1.3752943459621747e-06, '2': 1.1056326911784708e-06, '3': 1.0521712283662055e-05, '4': 0.0007778736180625856, '5': 0.9999954700469971}\n",
      "{'1': 0.8812676668167114, '2': 0.0007802622858434916, '3': 4.4969143345952034e-05, '4': 0.21398860216140747, '5': 0.0025455167051404715}\n",
      "{'1': 0.0019234830979257822, '2': 0.9044132828712463, '3': 0.0004084813699591905, '4': 0.049660827964544296, '5': 3.4451559258741327e-06}\n",
      "{'1': 9.563706953485962e-06, '2': 6.738692945873481e-07, '3': 1.8902048850577557e-06, '4': 4.4769960368284956e-05, '5': 0.999997615814209}\n",
      "{'1': 1.0116523299075197e-05, '2': 0.0006639497587457299, '3': 2.403833786956966e-05, '4': 0.47169941663742065, '5': 0.7426537871360779}\n",
      "{'1': 0.00034984626108780503, '2': 7.957043271744624e-05, '3': 0.585135817527771, '4': 0.006671622861176729, '5': 8.811315638013184e-05}\n",
      "{'1': 2.6399122361908667e-05, '2': 6.512339609798801e-07, '3': 1.0810206731548533e-05, '4': 0.9998281002044678, '5': 9.70342853179318e-07}\n",
      "{'1': 0.00023597871768288314, '2': 0.0020010932348668575, '3': 1.4073017382543185e-06, '4': 0.0007133495528250933, '5': 0.9966195821762085}\n",
      "{'1': 3.771394574414444e-07, '2': 3.207695044693537e-06, '3': 1.4169845599099062e-06, '4': 0.0007720539579167962, '5': 0.9999958276748657}\n",
      "{'1': 7.621403597113385e-07, '2': 9.131772458204068e-06, '3': 1.0421666729598655e-07, '4': 0.00028764744638465345, '5': 0.9999998807907104}\n",
      "{'1': 0.8566152453422546, '2': 0.0371849499642849, '3': 0.001558323041535914, '4': 0.00024860361008904874, '5': 0.0438338927924633}\n",
      "Accuracy: 52.08%\n"
     ]
    }
   ],
   "source": [
    "# Evaluate the model\n",
    "correct = 0\n",
    "total = 0\n",
    "\n",
    "for index, row in enumerate(test_data):\n",
    "    text = row[0]\n",
    "    rating = row[1]\n",
    "    rating = list(rating['cats'].keys())[list(rating['cats'].values()).index(True)]\n",
    "\n",
    "    doc = nlp(text)\n",
    "    print(doc.cats)\n",
    "    scores = textcat_multilabel.predict([doc])\n",
    "    if round(doc.cats[rating]):\n",
    "        correct += 1\n",
    "    total += 1\n",
    "accuracy = correct / total\n",
    "print(f\"Accuracy: {round(accuracy * 100, 2)}%\")"
   ],
   "metadata": {
    "collapsed": false,
    "pycharm": {
     "name": "#%%\n"
    }
   }
  },
  {
   "cell_type": "code",
   "execution_count": 586,
   "outputs": [
    {
     "data": {
      "text/plain": "array([[0., 0., 0., 0., 0.]])"
     },
     "execution_count": 586,
     "metadata": {},
     "output_type": "execute_result"
    }
   ],
   "source": [
    "textcat_multilabel.predict([nlp('')])"
   ],
   "metadata": {
    "collapsed": false,
    "pycharm": {
     "name": "#%%\n"
    }
   }
  },
  {
   "cell_type": "code",
   "execution_count": 586,
   "outputs": [],
   "source": [],
   "metadata": {
    "collapsed": false,
    "pycharm": {
     "name": "#%%\n"
    }
   }
  }
 ],
 "metadata": {
  "kernelspec": {
   "display_name": "Python 3 (ipykernel)",
   "language": "python",
   "name": "python3"
  },
  "language_info": {
   "codemirror_mode": {
    "name": "ipython",
    "version": 3
   },
   "file_extension": ".py",
   "mimetype": "text/x-python",
   "name": "python",
   "nbconvert_exporter": "python",
   "pygments_lexer": "ipython3",
   "version": "3.9.16"
  }
 },
 "nbformat": 4,
 "nbformat_minor": 5
}