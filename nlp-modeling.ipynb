{
 "cells": [
  {
   "cell_type": "code",
   "execution_count": 425,
   "outputs": [],
   "source": [
    "import pandas as pd\n",
    "import numpy as np\n",
    "import re\n",
    "import string\n",
    "# SpaCy\n",
    "import spacy\n",
    "from spacy.util import minibatch\n",
    "from spacy.training import Example\n",
    "from spacy.lang.pt.stop_words import STOP_WORDS"
   ],
   "metadata": {
    "collapsed": false,
    "pycharm": {
     "name": "#%%\n"
    }
   }
  },
  {
   "cell_type": "code",
   "execution_count": 426,
   "outputs": [],
   "source": [
    "nlp = spacy.load('de_core_news_md')"
   ],
   "metadata": {
    "collapsed": false,
    "pycharm": {
     "name": "#%%\n"
    }
   }
  },
  {
   "cell_type": "code",
   "execution_count": 427,
   "outputs": [],
   "source": [
    "df = pd.read_csv('data/reviews-clean.csv', sep=';')"
   ],
   "metadata": {
    "collapsed": false,
    "pycharm": {
     "name": "#%%\n"
    }
   }
  },
  {
   "cell_type": "code",
   "execution_count": 428,
   "outputs": [
    {
     "data": {
      "text/plain": "                                             caption  \\\n0  Die mit Abstand leckerste Pizza in Deutschland...   \n1  Good place to dine in! Sadly no chicken pizzas...   \n2           This is the must try pizza in Frankfurt.   \n3                       5/5 Pizza place in Frankfurt   \n4         Leckere Pizzen und coole Atmosphäre. 👍🏼  (   \n\n                                       caption_clean  rating  \n0  abstand leckerste pizza deutschland selbst wen...     5.0  \n1  good place dine sadly chicken pizzas available...     4.0  \n2                          this must pizza frankfurt     5.0  \n3                              pizza place frankfurt     5.0  \n4                    leckere pizzen coole atmosphäre     5.0  ",
      "text/html": "<div>\n<style scoped>\n    .dataframe tbody tr th:only-of-type {\n        vertical-align: middle;\n    }\n\n    .dataframe tbody tr th {\n        vertical-align: top;\n    }\n\n    .dataframe thead th {\n        text-align: right;\n    }\n</style>\n<table border=\"1\" class=\"dataframe\">\n  <thead>\n    <tr style=\"text-align: right;\">\n      <th></th>\n      <th>caption</th>\n      <th>caption_clean</th>\n      <th>rating</th>\n    </tr>\n  </thead>\n  <tbody>\n    <tr>\n      <th>0</th>\n      <td>Die mit Abstand leckerste Pizza in Deutschland...</td>\n      <td>abstand leckerste pizza deutschland selbst wen...</td>\n      <td>5.0</td>\n    </tr>\n    <tr>\n      <th>1</th>\n      <td>Good place to dine in! Sadly no chicken pizzas...</td>\n      <td>good place dine sadly chicken pizzas available...</td>\n      <td>4.0</td>\n    </tr>\n    <tr>\n      <th>2</th>\n      <td>This is the must try pizza in Frankfurt.</td>\n      <td>this must pizza frankfurt</td>\n      <td>5.0</td>\n    </tr>\n    <tr>\n      <th>3</th>\n      <td>5/5 Pizza place in Frankfurt</td>\n      <td>pizza place frankfurt</td>\n      <td>5.0</td>\n    </tr>\n    <tr>\n      <th>4</th>\n      <td>Leckere Pizzen und coole Atmosphäre. 👍🏼  (</td>\n      <td>leckere pizzen coole atmosphäre</td>\n      <td>5.0</td>\n    </tr>\n  </tbody>\n</table>\n</div>"
     },
     "execution_count": 428,
     "metadata": {},
     "output_type": "execute_result"
    }
   ],
   "source": [
    "REGX_USERNAME = r\"@[A-Za-z0-9$-_@.&+]+\"\n",
    "REGX_URL = r\"https?://[A-Za-z0-9./]+\"\n",
    "def preprocessing(text):\n",
    "    text = text.lower()\n",
    "\n",
    "    text = re.sub(REGX_USERNAME, ' ', text)\n",
    "    text = re.sub(REGX_URL, ' ', text)\n",
    "\n",
    "    emojis = {\n",
    "        ':)': 'positive emotionen',\n",
    "        ':(': 'negative emotionen'\n",
    "    }\n",
    "\n",
    "    for e in emojis:\n",
    "        text = text.replace(e, emojis[e])\n",
    "\n",
    "    tokens = [token.text for token in nlp(text)]\n",
    "\n",
    "    tokens = [t for t in tokens if\n",
    "              t not in STOP_WORDS and\n",
    "              t not in string.punctuation and\n",
    "              len(t) > 3]\n",
    "\n",
    "    tokens = [t for t in tokens if not t.isdigit()]\n",
    "\n",
    "    return \" \".join(tokens)\n",
    "df[\"caption_clean\"] = df[\"caption\"].apply(preprocessing)\n",
    "df[['caption', 'caption_clean', 'rating']].head()"
   ],
   "metadata": {
    "collapsed": false,
    "pycharm": {
     "name": "#%%\n"
    }
   }
  },
  {
   "cell_type": "code",
   "execution_count": 429,
   "outputs": [],
   "source": [
    "from spacy.pipeline.textcat_multilabel import DEFAULT_MULTI_TEXTCAT_MODEL"
   ],
   "metadata": {
    "collapsed": false,
    "pycharm": {
     "name": "#%%\n"
    }
   }
  },
  {
   "cell_type": "code",
   "execution_count": 430,
   "outputs": [
    {
     "data": {
      "text/plain": "1"
     },
     "execution_count": 430,
     "metadata": {},
     "output_type": "execute_result"
    }
   ],
   "source": [
    "textcat_multilabel = nlp.add_pipe(\"textcat_multilabel\", config={\n",
    "    \"threshold\": 0.5,\n",
    "    \"model\": DEFAULT_MULTI_TEXTCAT_MODEL,\n",
    "}, last=True)\n",
    "\n",
    "# Add the labels to the text classifier\n",
    "textcat_multilabel.add_label('1')\n",
    "textcat_multilabel.add_label('2')\n",
    "textcat_multilabel.add_label('3')\n",
    "textcat_multilabel.add_label('4')\n",
    "textcat_multilabel.add_label('5')"
   ],
   "metadata": {
    "collapsed": false,
    "pycharm": {
     "name": "#%%\n"
    }
   }
  },
  {
   "cell_type": "code",
   "execution_count": 431,
   "outputs": [],
   "source": [
    "def load_data(split=0.8):\n",
    "    split = int(len(df) * split)\n",
    "\n",
    "    X_train = df['caption_clean'][:split]\n",
    "    y_train = df['rating'][:split]\n",
    "    X_test = df['caption_clean'][split:]\n",
    "    y_test = df['rating'][split:]\n",
    "\n",
    "    return (X_train, y_train), (X_test, y_test)"
   ],
   "metadata": {
    "collapsed": false,
    "pycharm": {
     "name": "#%%\n"
    }
   }
  },
  {
   "cell_type": "code",
   "execution_count": 432,
   "outputs": [],
   "source": [
    "# load the dataset\n",
    "(X_train, y_train), (X_test, y_test) = load_data()\n",
    "\n",
    "train_data = list(zip(X_train, [{'cats': {\"1\":  cats==1, \"2\":  cats==2, \"3\":  cats==3, \"4\":  cats==4, \"5\":  cats==5}} for cats in y_train]))\n",
    "test_data = list(zip(X_test, [{'cats': {\"1\":  cats==1, \"2\":  cats==2, \"3\":  cats==3, \"4\":  cats==4, \"5\":  cats==5}} for cats in y_test]))"
   ],
   "metadata": {
    "collapsed": false,
    "pycharm": {
     "name": "#%%\n"
    }
   }
  },
  {
   "cell_type": "code",
   "execution_count": 433,
   "outputs": [
    {
     "data": {
      "text/plain": "[('abstand leckerste pizza deutschland selbst wenn halb abends mitnehmen bestellt positive emotionen einfach niederknien',\n  {'cats': {'1': False, '2': False, '3': False, '4': False, '5': True}}),\n ('good place dine sadly chicken pizzas available keep mind waiting time when visit',\n  {'cats': {'1': False, '2': False, '3': False, '4': True, '5': False}})]"
     },
     "execution_count": 433,
     "metadata": {},
     "output_type": "execute_result"
    }
   ],
   "source": [
    "train_data[:2]"
   ],
   "metadata": {
    "collapsed": false,
    "pycharm": {
     "name": "#%%\n"
    }
   }
  },
  {
   "cell_type": "markdown",
   "source": [
    "### Training"
   ],
   "metadata": {
    "collapsed": false,
    "pycharm": {
     "name": "#%% md\n"
    }
   }
  },
  {
   "cell_type": "code",
   "execution_count": null,
   "outputs": [],
   "source": [
    "nlp = spacy.blank(\"de\")"
   ],
   "metadata": {
    "collapsed": false,
    "pycharm": {
     "name": "#%%\n"
    }
   }
  },
  {
   "cell_type": "code",
   "execution_count": 434,
   "outputs": [],
   "source": [
    "# Train the text classifier\n",
    "other_pipes = [pipe for pipe in nlp.pipe_names if pipe != 'textcat_multilabel']\n",
    "\n",
    "with nlp.disable_pipes(*other_pipes):\n",
    "    optimizer = nlp.initialize()\n",
    "    for i in range(100): # Iterations\n",
    "        losses = {}\n",
    "        np.random.shuffle(train_data)\n",
    "        for batch in minibatch(train_data, size=8):\n",
    "            for text, annotations in batch:\n",
    "                # create Example\n",
    "                doc = nlp.make_doc(text)\n",
    "                example = Example.from_dict(doc, annotations)\n",
    "                # Update the model\n",
    "                nlp.update([example], drop=0.3, sgd=optimizer, losses=losses)"
   ],
   "metadata": {
    "collapsed": false,
    "pycharm": {
     "name": "#%%\n"
    }
   }
  },
  {
   "cell_type": "markdown",
   "source": [
    "#### Genauigkeit"
   ],
   "metadata": {
    "collapsed": false,
    "pycharm": {
     "name": "#%% md\n"
    }
   }
  },
  {
   "cell_type": "code",
   "execution_count": 435,
   "outputs": [
    {
     "name": "stdout",
     "output_type": "stream",
     "text": [
      "Accuracy: 0.55%\n"
     ]
    }
   ],
   "source": [
    "# Evaluate the model\n",
    "correct = 0\n",
    "total = 0\n",
    "\n",
    "for index, row in enumerate(test_data):\n",
    "    text = row[0]\n",
    "    rating = row[1]\n",
    "    rating = list(rating['cats'].keys())[list(rating['cats'].values()).index(True)]\n",
    "\n",
    "    doc = nlp(text)\n",
    "    scores = textcat_multilabel.predict([doc])\n",
    "    if round(doc.cats[rating]):\n",
    "        correct += 1\n",
    "    total += 1\n",
    "accuracy = correct / total\n",
    "print(f\"Accuracy: {round(accuracy, 2)}%\")"
   ],
   "metadata": {
    "collapsed": false,
    "pycharm": {
     "name": "#%%\n"
    }
   }
  },
  {
   "cell_type": "code",
   "execution_count": 436,
   "outputs": [
    {
     "data": {
      "text/plain": "array([[0., 0., 0., 0., 0.]])"
     },
     "execution_count": 436,
     "metadata": {},
     "output_type": "execute_result"
    }
   ],
   "source": [
    "textcat_multilabel.predict([nlp('')])"
   ],
   "metadata": {
    "collapsed": false,
    "pycharm": {
     "name": "#%%\n"
    }
   }
  },
  {
   "cell_type": "code",
   "execution_count": 436,
   "outputs": [],
   "source": [],
   "metadata": {
    "collapsed": false,
    "pycharm": {
     "name": "#%%\n"
    }
   }
  }
 ],
 "metadata": {
  "kernelspec": {
   "display_name": "Python 3 (ipykernel)",
   "language": "python",
   "name": "python3"
  },
  "language_info": {
   "codemirror_mode": {
    "name": "ipython",
    "version": 3
   },
   "file_extension": ".py",
   "mimetype": "text/x-python",
   "name": "python",
   "nbconvert_exporter": "python",
   "pygments_lexer": "ipython3",
   "version": "3.9.16"
  }
 },
 "nbformat": 4,
 "nbformat_minor": 5
}